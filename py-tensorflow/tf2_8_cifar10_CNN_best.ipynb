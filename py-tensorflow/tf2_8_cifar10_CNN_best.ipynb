{
  "nbformat": 4,
  "nbformat_minor": 0,
  "metadata": {
    "colab": {
      "name": "tf2_8_cifar10_CNN_best.ipynb",
      "provenance": [],
      "collapsed_sections": [],
      "include_colab_link": true
    },
    "kernelspec": {
      "name": "python3",
      "display_name": "Python 3"
    },
    "accelerator": "GPU"
  },
  "cells": [
    {
      "cell_type": "markdown",
      "metadata": {
        "id": "view-in-github",
        "colab_type": "text"
      },
      "source": [
        "<a href=\"https://colab.research.google.com/github/anstjsdud/pdm07/blob/master/py-tensorflow/tf2_8_cifar10_CNN_best.ipynb\" target=\"_parent\"><img src=\"https://colab.research.google.com/assets/colab-badge.svg\" alt=\"Open In Colab\"/></a>"
      ]
    },
    {
      "cell_type": "markdown",
      "metadata": {
        "id": "rswfCVLZ-QW0"
      },
      "source": [
        "# **CNN model of cifar-10 dataset**\n",
        "- Conv2D + FCN\n",
        "    * Conv2D : 2차원 합성곱 필터링 + 풀링(Pooling)\n",
        "    * FCN : 1차원 완전연결신경망\n",
        "\n",
        "***\n",
        "- ## Traget: Find the best model\n",
        "***\n",
        "\n",
        "![mnist_NN_2_layers](https://img1.daumcdn.net/thumb/R1280x0/?scode=mtistory2&fname=https%3A%2F%2Fblog.kakaocdn.net%2Fdn%2FdJp5Z6%2FbtqAPebnF3x%2FQCe5vVcskhmxe964bGz4iK%2Fimg.png)\n",
        "\n",
        "(source: https://img1.daumcdn.net/thumb/R1280x0/?scode=mtistory2&fname=https%3A%2F%2Fblog.kakaocdn.net%2Fdn%2FdJp5Z6%2FbtqAPebnF3x%2FQCe5vVcskhmxe964bGz4iK%2Fimg.png)"
      ]
    },
    {
      "cell_type": "markdown",
      "metadata": {
        "id": "ISueys4bNHd1"
      },
      "source": [
        "### CIFAR-10 Dataset (CIFAR: Canadian Institute For Advanced Research)\n",
        "> https://www.cs.toronto.edu/~kriz/cifar.html\n",
        "\n",
        "- (50000, 32, 32, 3), train\n",
        "- (10000, 32, 32, 3), test\n",
        "- color photographs of objects from 10 classes, such as frogs, birds, cats, ships, etc\n",
        "> class names\n",
        "> - ['airplane', 'automobile', 'bird', 'cat', 'deer', 'dog', 'frog', 'horse', 'ship', 'truck']\n",
        "\n",
        "- 참고 문헌  \n",
        "\n",
        "> https://becominghuman.ai/cifar-10-image-classification-fd2ace47c5e8  \n",
        "\n",
        "> https://becominghuman.ai/convolutional-neural-networks-cnns-convnets-for-visual-recognition-cae879a70f1a\n",
        "\n",
        "> https://towardsdatascience.com/cifar-10-image-classification-in-tensorflow-5b501f7dc77c"
      ]
    },
    {
      "cell_type": "markdown",
      "metadata": {
        "id": "1yhvkxS_HhpK"
      },
      "source": [
        "## Search the best model of C2F2\n",
        "- callback\n",
        "    - Early stopping\n",
        "    - model checkpoint"
      ]
    },
    {
      "cell_type": "code",
      "metadata": {
        "id": "8GgGzPXPVyfa",
        "colab": {
          "base_uri": "https://localhost:8080/"
        },
        "outputId": "26240259-1398-4c05-9628-fe8b8841a9b3"
      },
      "source": [
        "import numpy as np\n",
        "import tensorflow as tf\n",
        "from tensorflow import keras\n",
        "import pandas as pd\n",
        "import matplotlib.pyplot as plt\n",
        "%matplotlib inline\n",
        "\n",
        "tf.random.set_seed(0)\n",
        "\n",
        "print(tf.__version__)"
      ],
      "execution_count": 1,
      "outputs": [
        {
          "output_type": "stream",
          "text": [
            "2.3.0\n"
          ],
          "name": "stdout"
        }
      ]
    },
    {
      "cell_type": "code",
      "metadata": {
        "id": "nMZqMpIvIlwf"
      },
      "source": [
        "# import TF2 submodules\n",
        "from tensorflow.keras import layers, models, callbacks"
      ],
      "execution_count": 2,
      "outputs": []
    },
    {
      "cell_type": "markdown",
      "metadata": {
        "id": "-0IOOUM14Jk1"
      },
      "source": [
        "## **데이터 로딩, 정규화**"
      ]
    },
    {
      "cell_type": "code",
      "metadata": {
        "id": "N1ogJ7I64Fz-",
        "colab": {
          "base_uri": "https://localhost:8080/"
        },
        "outputId": "14b05c84-7bc0-4072-a76e-e7ef42640711"
      },
      "source": [
        "from keras.datasets import cifar10\n",
        "\n",
        "(X_train0, y_train0), (X_test0, y_test0) = cifar10.load_data()\n",
        "\n",
        "# Reshape\n",
        "# X_train = X_train0.reshape(60000,28,28,1)\n",
        "# X_test = X_test0.reshape(10000,28,28,1)\n",
        "\n",
        "# Normalization\n",
        "X_train, X_test = X_train0/255.0, X_test0/255.0 # 정규화\n",
        "\n",
        "print(\"X_train={0}\".format(X_train.shape))\n",
        "print(\"y_train={0}\".format(y_train0.shape)) \n",
        "print(\"X_test={0}\".format(X_test.shape))\n",
        "print(\"y_test={0}\".format(y_test0.shape))"
      ],
      "execution_count": 3,
      "outputs": [
        {
          "output_type": "stream",
          "text": [
            "Downloading data from https://www.cs.toronto.edu/~kriz/cifar-10-python.tar.gz\n",
            "170500096/170498071 [==============================] - 2s 0us/step\n",
            "X_train=(50000, 32, 32, 3)\n",
            "y_train=(50000, 1)\n",
            "X_test=(10000, 32, 32, 3)\n",
            "y_test=(10000, 1)\n"
          ],
          "name": "stdout"
        }
      ]
    },
    {
      "cell_type": "code",
      "metadata": {
        "id": "F46-QZqJHiQ6",
        "colab": {
          "base_uri": "https://localhost:8080/"
        },
        "outputId": "c8cd645a-aa62-4a5f-f795-4c10e5932041"
      },
      "source": [
        "# One-Hot-Encoding\n",
        "# Use function to_categorical() to do One-Hot-Encoding\n",
        "# tf.keras.utils.to_categorical\n",
        "from keras.utils import to_categorical\n",
        "\n",
        "y_train = to_categorical(y_train0, 10)\n",
        "y_test = to_categorical(y_test0, 10)\n",
        "y_train.shape,y_test.shape"
      ],
      "execution_count": 4,
      "outputs": [
        {
          "output_type": "execute_result",
          "data": {
            "text/plain": [
              "((50000, 10), (10000, 10))"
            ]
          },
          "metadata": {
            "tags": []
          },
          "execution_count": 4
        }
      ]
    },
    {
      "cell_type": "code",
      "metadata": {
        "id": "eZ3OfP5PkEkL",
        "colab": {
          "base_uri": "https://localhost:8080/"
        },
        "outputId": "89451c05-a1c3-4ab5-b565-1b6cfc3fec0b"
      },
      "source": [
        "# y_train0.shape vs. y_train.shape\n",
        "y_train0.shape, y_train.shape"
      ],
      "execution_count": 5,
      "outputs": [
        {
          "output_type": "execute_result",
          "data": {
            "text/plain": [
              "((50000, 1), (50000, 10))"
            ]
          },
          "metadata": {
            "tags": []
          },
          "execution_count": 5
        }
      ]
    },
    {
      "cell_type": "markdown",
      "metadata": {
        "id": "5z7SozStigmF"
      },
      "source": [
        "### Display images in CIFAR-10\n",
        "- one random image\n",
        "- 10 representative images"
      ]
    },
    {
      "cell_type": "code",
      "metadata": {
        "id": "IK7XT3XoirSL",
        "colab": {
          "base_uri": "https://localhost:8080/",
          "height": 286
        },
        "outputId": "4199a0d9-0c65-4756-b1f8-3b0f56d6b31e"
      },
      "source": [
        "# Code here!\n",
        "# display one random image from the training set:\n",
        "class_names =  ['airplane', 'automobile', 'bird', 'cat', 'deer', 'dog', 'frog', 'horse', 'ship', 'truck']\n",
        "\n",
        "idx = np.random.randint(0, X_train0.shape[0])\n",
        "print(idx)\n",
        "image = X_train0[idx]\n",
        "plt.imshow(image) #, cmap=plt.get_cmap('gray'))\n",
        "plt.title(class_names[y_train0[idx][0]])\n",
        "plt.xticks([])\n",
        "plt.yticks([])\n",
        "plt.show()"
      ],
      "execution_count": 6,
      "outputs": [
        {
          "output_type": "stream",
          "text": [
            "8693\n"
          ],
          "name": "stdout"
        },
        {
          "output_type": "display_data",
          "data": {
            "image/png": "[encoded data removed]",
            "text/plain": [
              "<Figure size 432x288 with 1 Axes>"
            ]
          },
          "metadata": {
            "tags": []
          }
        }
      ]
    },
    {
      "cell_type": "code",
      "metadata": {
        "id": "LzhD5pcukau7",
        "colab": {
          "base_uri": "https://localhost:8080/",
          "height": 325
        },
        "outputId": "933e99c5-2e1a-45ed-83f2-5f1ec480c8f4"
      },
      "source": [
        "fig = plt.figure(figsize=(10,6))\n",
        "num0_9 = np.unique(y_train0, return_index=True)[1]\n",
        "images = X_train[num0_9]\n",
        "for i in range(10):\n",
        "    plt.subplot(2, 5, i+1)\n",
        "    # num0_9 = X_train0[y_train0 == i]\n",
        "    \n",
        "    # print(num0_9.shape)\n",
        "    # plt.imshow(num0_9[0]) \n",
        "    plt.imshow(images[i])\n",
        "    plt.title(\"Class %d\" % (i))\n",
        "    plt.xticks([])\n",
        "    plt.yticks([])"
      ],
      "execution_count": 7,
      "outputs": [
        {
          "output_type": "display_data",
          "data": {
            "image/png": "[encoded data removed]",
            "text/plain": [
              "<Figure size 720x432 with 10 Axes>"
            ]
          },
          "metadata": {
            "tags": []
          }
        }
      ]
    },
    {
      "cell_type": "markdown",
      "metadata": {
        "id": "55DYVfFXi0WR"
      },
      "source": [
        "# Design CNN"
      ]
    },
    {
      "cell_type": "markdown",
      "metadata": {
        "id": "iPcLIcUCcsiG"
      },
      "source": [
        "### import models, layers, callbacks\n",
        "- models: Sequential\n",
        "- layers: Conv2D, MaxPool2D, Flatten\n",
        "- callbacks: ModelCheckpoint, EarlyStopping"
      ]
    },
    {
      "cell_type": "code",
      "metadata": {
        "id": "NzqMC4Xtc3ZE"
      },
      "source": [
        "from keras.models import Sequential\n",
        "from keras.layers import Conv2D, MaxPool2D, Flatten\n",
        "from keras.callbacks import ModelCheckpoint, EarlyStopping"
      ],
      "execution_count": 8,
      "outputs": []
    },
    {
      "cell_type": "markdown",
      "metadata": {
        "id": "7Z6DJJUCei-s"
      },
      "source": [
        "## **CNN2 + FCN2**"
      ]
    },
    {
      "cell_type": "code",
      "metadata": {
        "id": "pV3NFglM7P65"
      },
      "source": [
        "c2f2 = keras.models.Sequential([ \n",
        "    Conv2D(input_shape=(32,32,3),kernel_size=(3,3),strides=(1,1),filters= 32,padding='same',activation='relu'),\n",
        "    MaxPool2D(pool_size=(2,2), strides=(2,2)), \n",
        "    Conv2D(kernel_size=(3,3),strides=(1,1),filters= 64,padding='same',activation='relu'),\n",
        "    MaxPool2D(pool_size=(2,2), strides=(2,2)),\n",
        "    Flatten(), \n",
        "    keras.layers.Dense(128, activation='relu'),  \n",
        "    keras.layers.Dropout(0.25), \n",
        "    keras.layers.Dense(10, activation='softmax')\n",
        "])\n",
        "\n",
        "c2f2.compile(optimizer='adam',\n",
        "              loss='categorical_crossentropy',\n",
        "              metrics=['accuracy']) "
      ],
      "execution_count": 9,
      "outputs": []
    },
    {
      "cell_type": "code",
      "metadata": {
        "id": "OGtCiKy57YkR",
        "colab": {
          "base_uri": "https://localhost:8080/"
        },
        "outputId": "2c9d2326-6865-4724-bf65-136e1db75858"
      },
      "source": [
        "c2f2.summary()"
      ],
      "execution_count": 11,
      "outputs": [
        {
          "output_type": "stream",
          "text": [
            "Model: \"sequential\"\n",
            "_________________________________________________________________\n",
            "Layer (type)                 Output Shape              Param #   \n",
            "=================================================================\n",
            "conv2d (Conv2D)              (None, 32, 32, 32)        896       \n",
            "_________________________________________________________________\n",
            "max_pooling2d (MaxPooling2D) (None, 16, 16, 32)        0         \n",
            "_________________________________________________________________\n",
            "conv2d_1 (Conv2D)            (None, 16, 16, 64)        18496     \n",
            "_________________________________________________________________\n",
            "max_pooling2d_1 (MaxPooling2 (None, 8, 8, 64)          0         \n",
            "_________________________________________________________________\n",
            "flatten (Flatten)            (None, 4096)              0         \n",
            "_________________________________________________________________\n",
            "dense (Dense)                (None, 128)               524416    \n",
            "_________________________________________________________________\n",
            "dropout (Dropout)            (None, 128)               0         \n",
            "_________________________________________________________________\n",
            "dense_1 (Dense)              (None, 10)                1290      \n",
            "=================================================================\n",
            "Total params: 545,098\n",
            "Trainable params: 545,098\n",
            "Non-trainable params: 0\n",
            "_________________________________________________________________\n"
          ],
          "name": "stdout"
        }
      ]
    },
    {
      "cell_type": "code",
      "metadata": {
        "id": "zw_pQPBdJmU8"
      },
      "source": [
        "cp_callback = callbacks.ModelCheckpoint(filepath=\"./cifar10_c2f2_best_weights.{epoch:03d}-{val_accuracy:.4f}.hdf5\", \n",
        "                              monitor='val_accuracy', verbose=0, save_best_only=True)\n",
        "es_callback = callbacks.EarlyStopping(monitor='val_accuracy', \n",
        "                            mode='max', verbose=1, patience=25)    # patience=10, 25, 50"
      ],
      "execution_count": 12,
      "outputs": []
    },
    {
      "cell_type": "code",
      "metadata": {
        "id": "94GWWQt-7eRS",
        "colab": {
          "base_uri": "https://localhost:8080/"
        },
        "outputId": "a08a4794-5d6e-45e7-e88f-b5351be33ad8"
      },
      "source": [
        "hist = c2f2.fit(X_train, y_train, epochs = 500 , batch_size =32, \n",
        "         callbacks=[cp_callback, es_callback], \n",
        "         validation_data=(X_test,y_test))"
      ],
      "execution_count": 13,
      "outputs": [
        {
          "output_type": "stream",
          "text": [
            "Epoch 1/500\n",
            "1563/1563 [==============================] - 6s 4ms/step - loss: 1.5140 - accuracy: 0.4522 - val_loss: 1.2480 - val_accuracy: 0.5624\n",
            "Epoch 2/500\n",
            "1563/1563 [==============================] - 6s 4ms/step - loss: 1.1742 - accuracy: 0.5832 - val_loss: 1.0338 - val_accuracy: 0.6336\n",
            "Epoch 3/500\n",
            "1563/1563 [==============================] - 5s 3ms/step - loss: 1.0433 - accuracy: 0.6318 - val_loss: 0.9943 - val_accuracy: 0.6506\n",
            "Epoch 4/500\n",
            "1563/1563 [==============================] - 6s 4ms/step - loss: 0.9628 - accuracy: 0.6598 - val_loss: 0.9307 - val_accuracy: 0.6703\n",
            "Epoch 5/500\n",
            "1563/1563 [==============================] - 6s 4ms/step - loss: 0.8979 - accuracy: 0.6827 - val_loss: 0.8750 - val_accuracy: 0.6906\n",
            "Epoch 6/500\n",
            "1563/1563 [==============================] - 5s 4ms/step - loss: 0.8422 - accuracy: 0.6999 - val_loss: 0.8989 - val_accuracy: 0.6891\n",
            "Epoch 7/500\n",
            "1563/1563 [==============================] - 6s 4ms/step - loss: 0.7929 - accuracy: 0.7174 - val_loss: 0.8750 - val_accuracy: 0.6982\n",
            "Epoch 8/500\n",
            "1563/1563 [==============================] - 6s 4ms/step - loss: 0.7414 - accuracy: 0.7355 - val_loss: 0.8652 - val_accuracy: 0.6958\n",
            "Epoch 9/500\n",
            "1563/1563 [==============================] - 6s 4ms/step - loss: 0.6978 - accuracy: 0.7494 - val_loss: 0.8782 - val_accuracy: 0.7039\n",
            "Epoch 10/500\n",
            "1563/1563 [==============================] - 6s 4ms/step - loss: 0.6647 - accuracy: 0.7604 - val_loss: 0.8782 - val_accuracy: 0.7034\n",
            "Epoch 11/500\n",
            "1563/1563 [==============================] - 6s 4ms/step - loss: 0.6179 - accuracy: 0.7775 - val_loss: 0.9260 - val_accuracy: 0.6892\n",
            "Epoch 12/500\n",
            "1563/1563 [==============================] - 6s 4ms/step - loss: 0.5812 - accuracy: 0.7895 - val_loss: 0.8838 - val_accuracy: 0.7134\n",
            "Epoch 13/500\n",
            "1563/1563 [==============================] - 6s 4ms/step - loss: 0.5578 - accuracy: 0.7949 - val_loss: 0.9075 - val_accuracy: 0.7117\n",
            "Epoch 14/500\n",
            "1563/1563 [==============================] - 6s 4ms/step - loss: 0.5211 - accuracy: 0.8094 - val_loss: 0.9545 - val_accuracy: 0.7045\n",
            "Epoch 15/500\n",
            "1563/1563 [==============================] - 5s 3ms/step - loss: 0.4946 - accuracy: 0.8188 - val_loss: 0.9876 - val_accuracy: 0.7027\n",
            "Epoch 16/500\n",
            "1563/1563 [==============================] - 6s 4ms/step - loss: 0.4616 - accuracy: 0.8298 - val_loss: 1.0037 - val_accuracy: 0.7049\n",
            "Epoch 17/500\n",
            "1563/1563 [==============================] - 6s 4ms/step - loss: 0.4359 - accuracy: 0.8393 - val_loss: 1.0411 - val_accuracy: 0.6981\n",
            "Epoch 18/500\n",
            "1563/1563 [==============================] - 6s 4ms/step - loss: 0.4222 - accuracy: 0.8436 - val_loss: 1.1012 - val_accuracy: 0.6986\n",
            "Epoch 19/500\n",
            "1563/1563 [==============================] - 6s 4ms/step - loss: 0.3919 - accuracy: 0.8536 - val_loss: 1.0845 - val_accuracy: 0.6946\n",
            "Epoch 20/500\n",
            "1563/1563 [==============================] - 6s 4ms/step - loss: 0.3804 - accuracy: 0.8582 - val_loss: 1.0893 - val_accuracy: 0.7076\n",
            "Epoch 21/500\n",
            "1563/1563 [==============================] - 6s 4ms/step - loss: 0.3642 - accuracy: 0.8660 - val_loss: 1.1954 - val_accuracy: 0.7062\n",
            "Epoch 22/500\n",
            "1563/1563 [==============================] - 5s 4ms/step - loss: 0.3450 - accuracy: 0.8720 - val_loss: 1.1997 - val_accuracy: 0.7045\n",
            "Epoch 23/500\n",
            "1563/1563 [==============================] - 6s 4ms/step - loss: 0.3387 - accuracy: 0.8752 - val_loss: 1.2424 - val_accuracy: 0.7049\n",
            "Epoch 24/500\n",
            "1563/1563 [==============================] - 6s 4ms/step - loss: 0.3260 - accuracy: 0.8800 - val_loss: 1.2854 - val_accuracy: 0.7021\n",
            "Epoch 25/500\n",
            "1563/1563 [==============================] - 6s 4ms/step - loss: 0.3079 - accuracy: 0.8883 - val_loss: 1.2511 - val_accuracy: 0.7076\n",
            "Epoch 26/500\n",
            "1563/1563 [==============================] - 6s 4ms/step - loss: 0.2954 - accuracy: 0.8895 - val_loss: 1.3117 - val_accuracy: 0.7083\n",
            "Epoch 27/500\n",
            "1563/1563 [==============================] - 6s 4ms/step - loss: 0.2928 - accuracy: 0.8913 - val_loss: 1.3189 - val_accuracy: 0.7048\n",
            "Epoch 28/500\n",
            "1563/1563 [==============================] - 6s 4ms/step - loss: 0.2834 - accuracy: 0.8955 - val_loss: 1.3496 - val_accuracy: 0.6994\n",
            "Epoch 29/500\n",
            "1563/1563 [==============================] - 5s 4ms/step - loss: 0.2761 - accuracy: 0.8990 - val_loss: 1.3331 - val_accuracy: 0.7034\n",
            "Epoch 30/500\n",
            "1563/1563 [==============================] - 6s 4ms/step - loss: 0.2662 - accuracy: 0.9015 - val_loss: 1.4141 - val_accuracy: 0.7031\n",
            "Epoch 31/500\n",
            "1563/1563 [==============================] - 6s 4ms/step - loss: 0.2617 - accuracy: 0.9034 - val_loss: 1.4503 - val_accuracy: 0.7018\n",
            "Epoch 32/500\n",
            "1563/1563 [==============================] - 6s 4ms/step - loss: 0.2503 - accuracy: 0.9066 - val_loss: 1.4697 - val_accuracy: 0.6876\n",
            "Epoch 33/500\n",
            "1563/1563 [==============================] - 6s 4ms/step - loss: 0.2438 - accuracy: 0.9088 - val_loss: 1.5174 - val_accuracy: 0.6988\n",
            "Epoch 34/500\n",
            "1563/1563 [==============================] - 6s 4ms/step - loss: 0.2412 - accuracy: 0.9101 - val_loss: 1.4752 - val_accuracy: 0.7029\n",
            "Epoch 35/500\n",
            "1563/1563 [==============================] - 6s 4ms/step - loss: 0.2429 - accuracy: 0.9101 - val_loss: 1.4881 - val_accuracy: 0.6976\n",
            "Epoch 36/500\n",
            "1563/1563 [==============================] - 5s 3ms/step - loss: 0.2332 - accuracy: 0.9141 - val_loss: 1.5309 - val_accuracy: 0.6973\n",
            "Epoch 37/500\n",
            "1563/1563 [==============================] - 6s 4ms/step - loss: 0.2325 - accuracy: 0.9147 - val_loss: 1.5595 - val_accuracy: 0.6999\n",
            "Epoch 00037: early stopping\n"
          ],
          "name": "stdout"
        }
      ]
    },
    {
      "cell_type": "code",
      "metadata": {
        "id": "0-7is2U49A6Z",
        "colab": {
          "base_uri": "https://localhost:8080/"
        },
        "outputId": "2b082cb9-2b9b-41f8-f2c7-01bd3e4aa320"
      },
      "source": [
        "c2f2.evaluate(X_test, y_test, batch_size =32)"
      ],
      "execution_count": 14,
      "outputs": [
        {
          "output_type": "stream",
          "text": [
            "313/313 [==============================] - 1s 2ms/step - loss: 1.5595 - accuracy: 0.6999\n"
          ],
          "name": "stdout"
        },
        {
          "output_type": "execute_result",
          "data": {
            "text/plain": [
              "[1.5594565868377686, 0.6998999714851379]"
            ]
          },
          "metadata": {
            "tags": []
          },
          "execution_count": 14
        }
      ]
    },
    {
      "cell_type": "markdown",
      "metadata": {
        "id": "SUJxRQtafihM"
      },
      "source": [
        "## **CNN2 + FCN3**"
      ]
    },
    {
      "cell_type": "code",
      "metadata": {
        "id": "Nl5CyAymAB34"
      },
      "source": [
        "c2f3 = keras.models.Sequential([ \n",
        "    Conv2D(input_shape=(32,32,3),kernel_size=(3,3),strides=(1,1),filters= 32,padding='same',activation='relu'),\n",
        "    MaxPool2D(pool_size=(2,2), strides=(2,2)), \n",
        "    Conv2D(kernel_size=(3,3),strides=(1,1),filters= 64,padding='same',activation='relu'),\n",
        "    MaxPool2D(pool_size=(2,2), strides=(2,2)),\n",
        "    Flatten(), \n",
        "    keras.layers.Dense(128, activation='relu'),  \n",
        "    keras.layers.Dropout(0.25), \n",
        "    keras.layers.Dense(64, activation='relu'),  \n",
        "    keras.layers.Dropout(0.25), \n",
        "    keras.layers.Dense(10, activation='softmax')\n",
        "])\n",
        "\n",
        "c2f3.compile(optimizer='adam',\n",
        "              loss='categorical_crossentropy',\n",
        "              metrics=['accuracy']) "
      ],
      "execution_count": 15,
      "outputs": []
    },
    {
      "cell_type": "code",
      "metadata": {
        "id": "gYxuGW_2ANL8",
        "colab": {
          "base_uri": "https://localhost:8080/"
        },
        "outputId": "aa14f626-6ac5-49af-9d35-a6e584270484"
      },
      "source": [
        "c2f3.summary()"
      ],
      "execution_count": 16,
      "outputs": [
        {
          "output_type": "stream",
          "text": [
            "Model: \"sequential_1\"\n",
            "_________________________________________________________________\n",
            "Layer (type)                 Output Shape              Param #   \n",
            "=================================================================\n",
            "conv2d_2 (Conv2D)            (None, 32, 32, 32)        896       \n",
            "_________________________________________________________________\n",
            "max_pooling2d_2 (MaxPooling2 (None, 16, 16, 32)        0         \n",
            "_________________________________________________________________\n",
            "conv2d_3 (Conv2D)            (None, 16, 16, 64)        18496     \n",
            "_________________________________________________________________\n",
            "max_pooling2d_3 (MaxPooling2 (None, 8, 8, 64)          0         \n",
            "_________________________________________________________________\n",
            "flatten_1 (Flatten)          (None, 4096)              0         \n",
            "_________________________________________________________________\n",
            "dense_2 (Dense)              (None, 128)               524416    \n",
            "_________________________________________________________________\n",
            "dropout_1 (Dropout)          (None, 128)               0         \n",
            "_________________________________________________________________\n",
            "dense_3 (Dense)              (None, 64)                8256      \n",
            "_________________________________________________________________\n",
            "dropout_2 (Dropout)          (None, 64)                0         \n",
            "_________________________________________________________________\n",
            "dense_4 (Dense)              (None, 10)                650       \n",
            "=================================================================\n",
            "Total params: 552,714\n",
            "Trainable params: 552,714\n",
            "Non-trainable params: 0\n",
            "_________________________________________________________________\n"
          ],
          "name": "stdout"
        }
      ]
    },
    {
      "cell_type": "code",
      "metadata": {
        "id": "KMsTuhO2x61z"
      },
      "source": [
        "cp_callback = callbacks.ModelCheckpoint(filepath=\"./cifar10_c2f3_best_weights.{epoch:03d}-{val_accuracy:.4f}.hdf5\", \n",
        "                              monitor='val_accuracy', verbose=0, save_best_only=True)\n",
        "es_callback = callbacks.EarlyStopping(monitor='val_accuracy', \n",
        "                            mode='max', verbose=1, patience=25)    # patience=10, 25, 50"
      ],
      "execution_count": 17,
      "outputs": []
    },
    {
      "cell_type": "code",
      "metadata": {
        "id": "lO1of4AOAQlV",
        "colab": {
          "base_uri": "https://localhost:8080/"
        },
        "outputId": "91b8f930-991b-44a5-de8c-e24310f6f280"
      },
      "source": [
        "c2f3.fit(X_train, y_train, epochs=500, batch_size =32, \n",
        "         callbacks=[cp_callback, es_callback], \n",
        "         validation_data=(X_test,y_test))"
      ],
      "execution_count": 18,
      "outputs": [
        {
          "output_type": "stream",
          "text": [
            "Epoch 1/500\n",
            "1563/1563 [==============================] - 6s 4ms/step - loss: 1.5597 - accuracy: 0.4346 - val_loss: 1.2133 - val_accuracy: 0.5620\n",
            "Epoch 2/500\n",
            "1563/1563 [==============================] - 6s 4ms/step - loss: 1.2023 - accuracy: 0.5781 - val_loss: 1.0681 - val_accuracy: 0.6263\n",
            "Epoch 3/500\n",
            "1563/1563 [==============================] - 6s 4ms/step - loss: 1.0608 - accuracy: 0.6295 - val_loss: 0.9696 - val_accuracy: 0.6637\n",
            "Epoch 4/500\n",
            "1563/1563 [==============================] - 6s 4ms/step - loss: 0.9683 - accuracy: 0.6620 - val_loss: 0.9319 - val_accuracy: 0.6759\n",
            "Epoch 5/500\n",
            "1563/1563 [==============================] - 6s 4ms/step - loss: 0.8943 - accuracy: 0.6881 - val_loss: 0.9106 - val_accuracy: 0.6905\n",
            "Epoch 6/500\n",
            "1563/1563 [==============================] - 6s 4ms/step - loss: 0.8343 - accuracy: 0.7112 - val_loss: 0.9259 - val_accuracy: 0.6853\n",
            "Epoch 7/500\n",
            "1563/1563 [==============================] - 6s 4ms/step - loss: 0.7815 - accuracy: 0.7279 - val_loss: 0.9171 - val_accuracy: 0.6869\n",
            "Epoch 8/500\n",
            "1563/1563 [==============================] - 6s 4ms/step - loss: 0.7304 - accuracy: 0.7455 - val_loss: 0.8779 - val_accuracy: 0.7095\n",
            "Epoch 9/500\n",
            "1563/1563 [==============================] - 6s 4ms/step - loss: 0.6951 - accuracy: 0.7592 - val_loss: 0.9071 - val_accuracy: 0.6999\n",
            "Epoch 10/500\n",
            "1563/1563 [==============================] - 6s 4ms/step - loss: 0.6545 - accuracy: 0.7713 - val_loss: 0.8987 - val_accuracy: 0.7054\n",
            "Epoch 11/500\n",
            "1563/1563 [==============================] - 6s 4ms/step - loss: 0.6167 - accuracy: 0.7816 - val_loss: 0.8892 - val_accuracy: 0.7122\n",
            "Epoch 12/500\n",
            "1563/1563 [==============================] - 6s 4ms/step - loss: 0.5899 - accuracy: 0.7914 - val_loss: 0.9585 - val_accuracy: 0.7038\n",
            "Epoch 13/500\n",
            "1563/1563 [==============================] - 6s 4ms/step - loss: 0.5567 - accuracy: 0.8027 - val_loss: 0.9158 - val_accuracy: 0.7083\n",
            "Epoch 14/500\n",
            "1563/1563 [==============================] - 6s 4ms/step - loss: 0.5367 - accuracy: 0.8118 - val_loss: 0.9572 - val_accuracy: 0.7095\n",
            "Epoch 15/500\n",
            "1563/1563 [==============================] - 6s 4ms/step - loss: 0.5116 - accuracy: 0.8189 - val_loss: 0.9778 - val_accuracy: 0.7099\n",
            "Epoch 16/500\n",
            "1563/1563 [==============================] - 6s 4ms/step - loss: 0.4896 - accuracy: 0.8276 - val_loss: 0.9747 - val_accuracy: 0.7171\n",
            "Epoch 17/500\n",
            "1563/1563 [==============================] - 6s 4ms/step - loss: 0.4765 - accuracy: 0.8323 - val_loss: 1.0347 - val_accuracy: 0.6978\n",
            "Epoch 18/500\n",
            "1563/1563 [==============================] - 6s 4ms/step - loss: 0.4569 - accuracy: 0.8383 - val_loss: 1.0123 - val_accuracy: 0.7054\n",
            "Epoch 19/500\n",
            "1563/1563 [==============================] - 6s 4ms/step - loss: 0.4374 - accuracy: 0.8454 - val_loss: 1.0400 - val_accuracy: 0.7026\n",
            "Epoch 20/500\n",
            "1563/1563 [==============================] - 6s 4ms/step - loss: 0.4227 - accuracy: 0.8505 - val_loss: 1.1067 - val_accuracy: 0.7098\n",
            "Epoch 21/500\n",
            "1563/1563 [==============================] - 6s 4ms/step - loss: 0.4116 - accuracy: 0.8568 - val_loss: 1.0799 - val_accuracy: 0.7078\n",
            "Epoch 22/500\n",
            "1563/1563 [==============================] - 6s 4ms/step - loss: 0.3921 - accuracy: 0.8613 - val_loss: 1.1557 - val_accuracy: 0.6982\n",
            "Epoch 23/500\n",
            "1563/1563 [==============================] - 6s 4ms/step - loss: 0.3810 - accuracy: 0.8646 - val_loss: 1.1237 - val_accuracy: 0.7085\n",
            "Epoch 24/500\n",
            "1563/1563 [==============================] - 7s 4ms/step - loss: 0.3677 - accuracy: 0.8699 - val_loss: 1.1333 - val_accuracy: 0.7053\n",
            "Epoch 25/500\n",
            "1563/1563 [==============================] - 6s 4ms/step - loss: 0.3565 - accuracy: 0.8743 - val_loss: 1.1821 - val_accuracy: 0.7058\n",
            "Epoch 26/500\n",
            "1563/1563 [==============================] - 6s 4ms/step - loss: 0.3422 - accuracy: 0.8786 - val_loss: 1.2155 - val_accuracy: 0.7089\n",
            "Epoch 27/500\n",
            "1563/1563 [==============================] - 6s 4ms/step - loss: 0.3325 - accuracy: 0.8825 - val_loss: 1.1887 - val_accuracy: 0.7153\n",
            "Epoch 28/500\n",
            "1563/1563 [==============================] - 6s 4ms/step - loss: 0.3311 - accuracy: 0.8839 - val_loss: 1.1942 - val_accuracy: 0.7058\n",
            "Epoch 29/500\n",
            "1563/1563 [==============================] - 6s 4ms/step - loss: 0.3204 - accuracy: 0.8865 - val_loss: 1.2160 - val_accuracy: 0.7069\n",
            "Epoch 30/500\n",
            "1563/1563 [==============================] - 6s 4ms/step - loss: 0.3096 - accuracy: 0.8902 - val_loss: 1.2753 - val_accuracy: 0.7031\n",
            "Epoch 31/500\n",
            "1563/1563 [==============================] - 6s 4ms/step - loss: 0.3056 - accuracy: 0.8926 - val_loss: 1.2714 - val_accuracy: 0.7006\n",
            "Epoch 32/500\n",
            "1563/1563 [==============================] - 6s 4ms/step - loss: 0.2944 - accuracy: 0.8963 - val_loss: 1.3381 - val_accuracy: 0.7040\n",
            "Epoch 33/500\n",
            "1563/1563 [==============================] - 6s 4ms/step - loss: 0.2876 - accuracy: 0.8984 - val_loss: 1.3484 - val_accuracy: 0.7077\n",
            "Epoch 34/500\n",
            "1563/1563 [==============================] - 6s 4ms/step - loss: 0.2898 - accuracy: 0.8977 - val_loss: 1.3235 - val_accuracy: 0.7052\n",
            "Epoch 35/500\n",
            "1563/1563 [==============================] - 6s 4ms/step - loss: 0.2793 - accuracy: 0.9018 - val_loss: 1.3620 - val_accuracy: 0.7030\n",
            "Epoch 36/500\n",
            "1563/1563 [==============================] - 6s 4ms/step - loss: 0.2710 - accuracy: 0.9054 - val_loss: 1.3911 - val_accuracy: 0.6978\n",
            "Epoch 37/500\n",
            "1563/1563 [==============================] - 6s 4ms/step - loss: 0.2736 - accuracy: 0.9047 - val_loss: 1.3846 - val_accuracy: 0.7033\n",
            "Epoch 38/500\n",
            "1563/1563 [==============================] - 6s 4ms/step - loss: 0.2633 - accuracy: 0.9071 - val_loss: 1.4138 - val_accuracy: 0.7101\n",
            "Epoch 39/500\n",
            "1563/1563 [==============================] - 6s 4ms/step - loss: 0.2614 - accuracy: 0.9088 - val_loss: 1.4002 - val_accuracy: 0.6994\n",
            "Epoch 40/500\n",
            "1563/1563 [==============================] - 6s 4ms/step - loss: 0.2555 - accuracy: 0.9118 - val_loss: 1.4798 - val_accuracy: 0.7114\n",
            "Epoch 41/500\n",
            "1563/1563 [==============================] - 6s 4ms/step - loss: 0.2473 - accuracy: 0.9144 - val_loss: 1.5062 - val_accuracy: 0.7032\n",
            "Epoch 00041: early stopping\n"
          ],
          "name": "stdout"
        },
        {
          "output_type": "execute_result",
          "data": {
            "text/plain": [
              "<tensorflow.python.keras.callbacks.History at 0x7f576775a6a0>"
            ]
          },
          "metadata": {
            "tags": []
          },
          "execution_count": 18
        }
      ]
    },
    {
      "cell_type": "code",
      "metadata": {
        "id": "W-eIxCasDBil",
        "colab": {
          "base_uri": "https://localhost:8080/"
        },
        "outputId": "9aa78d94-974b-4722-a739-b2fd5c61ce7a"
      },
      "source": [
        " c2f3.evaluate(X_test, y_test, batch_size = 32)"
      ],
      "execution_count": 19,
      "outputs": [
        {
          "output_type": "stream",
          "text": [
            "313/313 [==============================] - 1s 3ms/step - loss: 1.5062 - accuracy: 0.7032\n"
          ],
          "name": "stdout"
        },
        {
          "output_type": "execute_result",
          "data": {
            "text/plain": [
              "[1.5061696767807007, 0.7031999826431274]"
            ]
          },
          "metadata": {
            "tags": []
          },
          "execution_count": 19
        }
      ]
    },
    {
      "cell_type": "markdown",
      "metadata": {
        "id": "5XYSVtC-DVsz"
      },
      "source": [
        "# **[DIY] Hidden layer에 따른 정확도**"
      ]
    },
    {
      "cell_type": "code",
      "metadata": {
        "id": "OiCc_UO2rGmp",
        "colab": {
          "base_uri": "https://localhost:8080/"
        },
        "outputId": "0816b7e9-fede-4ba2-fe22-667a26874b05"
      },
      "source": [
        "score1=c2f2.evaluate(X_test, y_test, batch_size = 32)\n",
        "score2=c2f3.evaluate(X_test, y_test, batch_size = 32)\n",
        "losses = [score1[0],score2[0]]\n",
        "accuracies= [score1[1],score2[1]]\n",
        "losses,accuracies"
      ],
      "execution_count": 20,
      "outputs": [
        {
          "output_type": "stream",
          "text": [
            "313/313 [==============================] - 1s 2ms/step - loss: 1.5595 - accuracy: 0.6999\n",
            "313/313 [==============================] - 1s 2ms/step - loss: 1.5062 - accuracy: 0.7032\n"
          ],
          "name": "stdout"
        },
        {
          "output_type": "execute_result",
          "data": {
            "text/plain": [
              "([1.5594565868377686, 1.5061696767807007],\n",
              " [0.6998999714851379, 0.7031999826431274])"
            ]
          },
          "metadata": {
            "tags": []
          },
          "execution_count": 20
        }
      ]
    },
    {
      "cell_type": "code",
      "metadata": {
        "id": "vZv6a2aVRw9j",
        "colab": {
          "base_uri": "https://localhost:8080/",
          "height": 269
        },
        "outputId": "0aba6039-c4a8-47a4-d449-5f7133aea919"
      },
      "source": [
        "x = np.arange(2)\n",
        "cnns = ['C2F2','C2F3']\n",
        "\n",
        "plt.bar(x, accuracies)\n",
        "plt.xticks(x, cnns)\n",
        "plt.ylim((.5,1.0))\n",
        "plt.show()"
      ],
      "execution_count": 21,
      "outputs": [
        {
          "output_type": "display_data",
          "data": {
            "image/png": "[encoded data removed]",
            "text/plain": [
              "<Figure size 432x288 with 1 Axes>"
            ]
          },
          "metadata": {
            "tags": [],
            "needs_background": "light"
          }
        }
      ]
    },
    {
      "cell_type": "markdown",
      "metadata": {
        "id": "63oPbpPejqOj"
      },
      "source": [
        "## Complex model\n",
        "- C4F5 model\n",
        "\n",
        "![cnn_c4f5.png](https://raw.githubusercontent.com/Redwoods/Py/master//pdm2020/my-note/py-tensorflow/images/cnn_c4f5.png)"
      ]
    },
    {
      "cell_type": "code",
      "metadata": {
        "id": "kSN8pq8DkQ6B"
      },
      "source": [
        "c4f5 = keras.models.Sequential([ \n",
        "    Conv2D(input_shape=(32,32,3),kernel_size=(3,3),strides=(1,1),filters= 64,padding='same',activation='relu'),\n",
        "    MaxPool2D(pool_size=(2,2), strides=(2,2)), \n",
        "    Conv2D(kernel_size=(3,3),strides=(1,1),filters= 128,padding='same',activation='relu'),\n",
        "    MaxPool2D(pool_size=(2,2), strides=(2,2)),\n",
        "    Conv2D(kernel_size=(3,3),strides=(1,1),filters= 256,padding='same',activation='relu'),\n",
        "    MaxPool2D(pool_size=(2,2), strides=(2,2)),\n",
        "    Conv2D(kernel_size=(3,3),strides=(1,1),filters= 512,padding='same',activation='relu'),\n",
        "    MaxPool2D(pool_size=(2,2), strides=(2,2)),\n",
        "    Flatten(), \n",
        "    keras.layers.Dense(128, activation='relu'),  \n",
        "    keras.layers.Dropout(0.25), \n",
        "    keras.layers.Dense(256, activation='relu'),  \n",
        "    keras.layers.Dropout(0.25), \n",
        "    keras.layers.Dense(512, activation='relu'),  \n",
        "    keras.layers.Dropout(0.25), \n",
        "    keras.layers.Dense(1024, activation='relu'),  \n",
        "    keras.layers.Dropout(0.25), \n",
        "    keras.layers.Dense(10, activation='softmax')\n",
        "])\n",
        "\n",
        "c4f5.compile(optimizer='adam',\n",
        "              loss='categorical_crossentropy',\n",
        "              metrics=['accuracy']) "
      ],
      "execution_count": 23,
      "outputs": []
    },
    {
      "cell_type": "code",
      "metadata": {
        "colab": {
          "base_uri": "https://localhost:8080/"
        },
        "id": "k7qWzpLRkQ6C",
        "outputId": "58dea88f-91d6-4d24-8d01-a86bf58544c7"
      },
      "source": [
        "c4f5.summary()"
      ],
      "execution_count": 24,
      "outputs": [
        {
          "output_type": "stream",
          "text": [
            "Model: \"sequential_3\"\n",
            "_________________________________________________________________\n",
            "Layer (type)                 Output Shape              Param #   \n",
            "=================================================================\n",
            "conv2d_8 (Conv2D)            (None, 32, 32, 64)        1792      \n",
            "_________________________________________________________________\n",
            "max_pooling2d_8 (MaxPooling2 (None, 16, 16, 64)        0         \n",
            "_________________________________________________________________\n",
            "conv2d_9 (Conv2D)            (None, 16, 16, 128)       73856     \n",
            "_________________________________________________________________\n",
            "max_pooling2d_9 (MaxPooling2 (None, 8, 8, 128)         0         \n",
            "_________________________________________________________________\n",
            "conv2d_10 (Conv2D)           (None, 8, 8, 256)         295168    \n",
            "_________________________________________________________________\n",
            "max_pooling2d_10 (MaxPooling (None, 4, 4, 256)         0         \n",
            "_________________________________________________________________\n",
            "conv2d_11 (Conv2D)           (None, 4, 4, 512)         1180160   \n",
            "_________________________________________________________________\n",
            "max_pooling2d_11 (MaxPooling (None, 2, 2, 512)         0         \n",
            "_________________________________________________________________\n",
            "flatten_3 (Flatten)          (None, 2048)              0         \n",
            "_________________________________________________________________\n",
            "dense_10 (Dense)             (None, 128)               262272    \n",
            "_________________________________________________________________\n",
            "dropout_7 (Dropout)          (None, 128)               0         \n",
            "_________________________________________________________________\n",
            "dense_11 (Dense)             (None, 256)               33024     \n",
            "_________________________________________________________________\n",
            "dropout_8 (Dropout)          (None, 256)               0         \n",
            "_________________________________________________________________\n",
            "dense_12 (Dense)             (None, 512)               131584    \n",
            "_________________________________________________________________\n",
            "dropout_9 (Dropout)          (None, 512)               0         \n",
            "_________________________________________________________________\n",
            "dense_13 (Dense)             (None, 1024)              525312    \n",
            "_________________________________________________________________\n",
            "dropout_10 (Dropout)         (None, 1024)              0         \n",
            "_________________________________________________________________\n",
            "dense_14 (Dense)             (None, 10)                10250     \n",
            "=================================================================\n",
            "Total params: 2,513,418\n",
            "Trainable params: 2,513,418\n",
            "Non-trainable params: 0\n",
            "_________________________________________________________________\n"
          ],
          "name": "stdout"
        }
      ]
    },
    {
      "cell_type": "code",
      "metadata": {
        "id": "-pKJWy-2kQ6C"
      },
      "source": [
        "cp_callback = callbacks.ModelCheckpoint(filepath=\"./cifar10_c4f5_best_weights.{epoch:03d}-{val_accuracy:.4f}.hdf5\", \n",
        "                              monitor='val_accuracy', verbose=0, save_best_only=True)\n",
        "es_callback = callbacks.EarlyStopping(monitor='val_accuracy', \n",
        "                            mode='max', verbose=1, patience=25)    # patience=10, 25, 50"
      ],
      "execution_count": 25,
      "outputs": []
    },
    {
      "cell_type": "code",
      "metadata": {
        "colab": {
          "base_uri": "https://localhost:8080/"
        },
        "id": "wKdgr9EskQ6C",
        "outputId": "dcab4cfa-d630-4a01-9b36-ca14ad9bbc30"
      },
      "source": [
        "c4f5.fit(X_train, y_train, epochs=500, batch_size =32, \n",
        "         callbacks=[cp_callback, es_callback], \n",
        "         validation_data=(X_test,y_test))"
      ],
      "execution_count": 26,
      "outputs": [
        {
          "output_type": "stream",
          "text": [
            "Epoch 1/500\n",
            "1563/1563 [==============================] - 11s 7ms/step - loss: 1.6917 - accuracy: 0.3538 - val_loss: 1.3301 - val_accuracy: 0.5226\n",
            "Epoch 2/500\n",
            "1563/1563 [==============================] - 11s 7ms/step - loss: 1.2542 - accuracy: 0.5491 - val_loss: 1.1741 - val_accuracy: 0.5809\n",
            "Epoch 3/500\n",
            "1563/1563 [==============================] - 11s 7ms/step - loss: 1.0548 - accuracy: 0.6284 - val_loss: 1.0280 - val_accuracy: 0.6400\n",
            "Epoch 4/500\n",
            "1563/1563 [==============================] - 11s 7ms/step - loss: 0.9341 - accuracy: 0.6792 - val_loss: 0.9832 - val_accuracy: 0.6625\n",
            "Epoch 5/500\n",
            "1563/1563 [==============================] - 11s 7ms/step - loss: 0.8455 - accuracy: 0.7111 - val_loss: 0.8736 - val_accuracy: 0.7039\n",
            "Epoch 6/500\n",
            "1563/1563 [==============================] - 11s 7ms/step - loss: 0.7756 - accuracy: 0.7372 - val_loss: 0.9150 - val_accuracy: 0.6918\n",
            "Epoch 7/500\n",
            "1563/1563 [==============================] - 11s 7ms/step - loss: 0.7164 - accuracy: 0.7589 - val_loss: 0.9077 - val_accuracy: 0.6934\n",
            "Epoch 8/500\n",
            "1563/1563 [==============================] - 11s 7ms/step - loss: 0.6628 - accuracy: 0.7794 - val_loss: 0.8750 - val_accuracy: 0.7188\n",
            "Epoch 9/500\n",
            "1563/1563 [==============================] - 11s 7ms/step - loss: 0.6122 - accuracy: 0.7957 - val_loss: 0.8153 - val_accuracy: 0.7342\n",
            "Epoch 10/500\n",
            "1563/1563 [==============================] - 11s 7ms/step - loss: 0.5719 - accuracy: 0.8114 - val_loss: 0.8296 - val_accuracy: 0.7323\n",
            "Epoch 11/500\n",
            "1563/1563 [==============================] - 11s 7ms/step - loss: 0.5481 - accuracy: 0.8205 - val_loss: 0.8915 - val_accuracy: 0.7032\n",
            "Epoch 12/500\n",
            "1563/1563 [==============================] - 11s 7ms/step - loss: 0.5149 - accuracy: 0.8323 - val_loss: 0.8767 - val_accuracy: 0.7283\n",
            "Epoch 13/500\n",
            "1563/1563 [==============================] - 11s 7ms/step - loss: 0.4844 - accuracy: 0.8421 - val_loss: 0.8746 - val_accuracy: 0.7333\n",
            "Epoch 14/500\n",
            "1563/1563 [==============================] - 11s 7ms/step - loss: 0.4626 - accuracy: 0.8517 - val_loss: 0.8744 - val_accuracy: 0.7311\n",
            "Epoch 15/500\n",
            "1563/1563 [==============================] - 11s 7ms/step - loss: 0.4544 - accuracy: 0.8564 - val_loss: 0.9024 - val_accuracy: 0.7171\n",
            "Epoch 16/500\n",
            "1563/1563 [==============================] - 11s 7ms/step - loss: 0.4193 - accuracy: 0.8666 - val_loss: 0.9102 - val_accuracy: 0.7312\n",
            "Epoch 17/500\n",
            "1563/1563 [==============================] - 11s 7ms/step - loss: 0.4034 - accuracy: 0.8745 - val_loss: 0.9313 - val_accuracy: 0.7223\n",
            "Epoch 18/500\n",
            "1563/1563 [==============================] - 11s 7ms/step - loss: 0.3932 - accuracy: 0.8761 - val_loss: 0.9207 - val_accuracy: 0.7338\n",
            "Epoch 19/500\n",
            "1563/1563 [==============================] - 11s 7ms/step - loss: 0.3814 - accuracy: 0.8819 - val_loss: 0.9218 - val_accuracy: 0.7300\n",
            "Epoch 20/500\n",
            "1563/1563 [==============================] - 11s 7ms/step - loss: 0.3743 - accuracy: 0.8867 - val_loss: 0.9676 - val_accuracy: 0.7309\n",
            "Epoch 21/500\n",
            "1563/1563 [==============================] - 11s 7ms/step - loss: 0.3536 - accuracy: 0.8908 - val_loss: 0.9276 - val_accuracy: 0.7391\n",
            "Epoch 22/500\n",
            "1563/1563 [==============================] - 11s 7ms/step - loss: 0.3497 - accuracy: 0.8935 - val_loss: 1.0102 - val_accuracy: 0.7255\n",
            "Epoch 23/500\n",
            "1563/1563 [==============================] - 11s 7ms/step - loss: 0.3502 - accuracy: 0.8933 - val_loss: 0.9712 - val_accuracy: 0.7259\n",
            "Epoch 24/500\n",
            "1563/1563 [==============================] - 11s 7ms/step - loss: 0.3238 - accuracy: 0.9010 - val_loss: 0.9658 - val_accuracy: 0.7305\n",
            "Epoch 25/500\n",
            "1563/1563 [==============================] - 11s 7ms/step - loss: 0.3326 - accuracy: 0.9003 - val_loss: 0.9571 - val_accuracy: 0.7348\n",
            "Epoch 26/500\n",
            "1563/1563 [==============================] - 12s 7ms/step - loss: 0.3146 - accuracy: 0.9076 - val_loss: 0.9612 - val_accuracy: 0.7205\n",
            "Epoch 27/500\n",
            "1563/1563 [==============================] - 11s 7ms/step - loss: 0.3101 - accuracy: 0.9083 - val_loss: 0.9939 - val_accuracy: 0.7330\n",
            "Epoch 28/500\n",
            "1563/1563 [==============================] - 11s 7ms/step - loss: 0.2998 - accuracy: 0.9119 - val_loss: 1.0832 - val_accuracy: 0.7180\n",
            "Epoch 29/500\n",
            "1563/1563 [==============================] - 11s 7ms/step - loss: 0.2944 - accuracy: 0.9140 - val_loss: 1.0142 - val_accuracy: 0.7420\n",
            "Epoch 30/500\n",
            "1563/1563 [==============================] - 11s 7ms/step - loss: 0.3012 - accuracy: 0.9119 - val_loss: 0.9809 - val_accuracy: 0.7374\n",
            "Epoch 31/500\n",
            "1563/1563 [==============================] - 11s 7ms/step - loss: 0.2918 - accuracy: 0.9157 - val_loss: 0.9950 - val_accuracy: 0.7323\n",
            "Epoch 32/500\n",
            "1563/1563 [==============================] - 11s 7ms/step - loss: 0.3038 - accuracy: 0.9149 - val_loss: 1.0647 - val_accuracy: 0.7316\n",
            "Epoch 33/500\n",
            "1563/1563 [==============================] - 11s 7ms/step - loss: 0.3085 - accuracy: 0.9122 - val_loss: 1.0452 - val_accuracy: 0.7168\n",
            "Epoch 34/500\n",
            "1563/1563 [==============================] - 11s 7ms/step - loss: 0.3211 - accuracy: 0.9081 - val_loss: 1.0492 - val_accuracy: 0.7420\n",
            "Epoch 35/500\n",
            "1563/1563 [==============================] - 11s 7ms/step - loss: 0.2666 - accuracy: 0.9244 - val_loss: 1.0487 - val_accuracy: 0.7280\n",
            "Epoch 36/500\n",
            "1563/1563 [==============================] - 11s 7ms/step - loss: 0.2768 - accuracy: 0.9212 - val_loss: 1.0845 - val_accuracy: 0.7240\n",
            "Epoch 37/500\n",
            "1563/1563 [==============================] - 11s 7ms/step - loss: 0.2935 - accuracy: 0.9184 - val_loss: 1.0104 - val_accuracy: 0.7342\n",
            "Epoch 38/500\n",
            "1563/1563 [==============================] - 11s 7ms/step - loss: 0.2789 - accuracy: 0.9218 - val_loss: 1.0257 - val_accuracy: 0.7314\n",
            "Epoch 39/500\n",
            "1563/1563 [==============================] - 11s 7ms/step - loss: 0.2327 - accuracy: 0.9336 - val_loss: 1.1542 - val_accuracy: 0.7206\n",
            "Epoch 40/500\n",
            "1563/1563 [==============================] - 11s 7ms/step - loss: 0.2725 - accuracy: 0.9251 - val_loss: 1.0750 - val_accuracy: 0.7283\n",
            "Epoch 41/500\n",
            "1563/1563 [==============================] - 11s 7ms/step - loss: 0.2573 - accuracy: 0.9298 - val_loss: 1.0663 - val_accuracy: 0.7187\n",
            "Epoch 42/500\n",
            "1563/1563 [==============================] - 11s 7ms/step - loss: 0.2864 - accuracy: 0.9210 - val_loss: 1.0544 - val_accuracy: 0.7282\n",
            "Epoch 43/500\n",
            "1563/1563 [==============================] - 11s 7ms/step - loss: 0.2721 - accuracy: 0.9235 - val_loss: 1.1088 - val_accuracy: 0.7302\n",
            "Epoch 44/500\n",
            "1563/1563 [==============================] - 11s 7ms/step - loss: 0.2480 - accuracy: 0.9316 - val_loss: 1.1254 - val_accuracy: 0.7362\n",
            "Epoch 45/500\n",
            "1563/1563 [==============================] - 11s 7ms/step - loss: 0.2523 - accuracy: 0.9332 - val_loss: 1.1568 - val_accuracy: 0.7393\n",
            "Epoch 46/500\n",
            "1563/1563 [==============================] - 11s 7ms/step - loss: 0.2606 - accuracy: 0.9298 - val_loss: 1.1441 - val_accuracy: 0.7409\n",
            "Epoch 47/500\n",
            "1563/1563 [==============================] - 11s 7ms/step - loss: 0.2430 - accuracy: 0.9347 - val_loss: 1.1301 - val_accuracy: 0.7340\n",
            "Epoch 48/500\n",
            "1563/1563 [==============================] - 11s 7ms/step - loss: 0.2756 - accuracy: 0.9280 - val_loss: 1.2602 - val_accuracy: 0.7339\n",
            "Epoch 49/500\n",
            "1563/1563 [==============================] - 11s 7ms/step - loss: 0.2697 - accuracy: 0.9287 - val_loss: 1.0851 - val_accuracy: 0.7155\n",
            "Epoch 50/500\n",
            "1563/1563 [==============================] - 11s 7ms/step - loss: 0.2558 - accuracy: 0.9315 - val_loss: 1.1080 - val_accuracy: 0.7378\n",
            "Epoch 51/500\n",
            "1563/1563 [==============================] - 11s 7ms/step - loss: 0.3226 - accuracy: 0.9153 - val_loss: 1.0277 - val_accuracy: 0.7352\n",
            "Epoch 52/500\n",
            "1563/1563 [==============================] - 11s 7ms/step - loss: 0.3862 - accuracy: 0.8960 - val_loss: 1.0004 - val_accuracy: 0.6883\n",
            "Epoch 53/500\n",
            "1563/1563 [==============================] - 11s 7ms/step - loss: 0.2813 - accuracy: 0.9224 - val_loss: 1.1704 - val_accuracy: 0.7494\n",
            "Epoch 54/500\n",
            "1563/1563 [==============================] - 12s 8ms/step - loss: 0.2486 - accuracy: 0.9356 - val_loss: 1.1654 - val_accuracy: 0.7199\n",
            "Epoch 55/500\n",
            "1563/1563 [==============================] - 11s 7ms/step - loss: 0.2587 - accuracy: 0.9329 - val_loss: 1.0779 - val_accuracy: 0.6862\n",
            "Epoch 56/500\n",
            "1563/1563 [==============================] - 11s 7ms/step - loss: 0.2898 - accuracy: 0.9264 - val_loss: 1.0634 - val_accuracy: 0.7396\n",
            "Epoch 57/500\n",
            "1563/1563 [==============================] - 11s 7ms/step - loss: 0.2389 - accuracy: 0.9377 - val_loss: 1.1647 - val_accuracy: 0.7345\n",
            "Epoch 58/500\n",
            "1563/1563 [==============================] - 11s 7ms/step - loss: 0.2195 - accuracy: 0.9437 - val_loss: 1.1377 - val_accuracy: 0.7331\n",
            "Epoch 59/500\n",
            "1563/1563 [==============================] - 11s 7ms/step - loss: 0.2476 - accuracy: 0.9378 - val_loss: 1.1386 - val_accuracy: 0.7326\n",
            "Epoch 60/500\n",
            "1563/1563 [==============================] - 11s 7ms/step - loss: 0.2691 - accuracy: 0.9344 - val_loss: 1.1732 - val_accuracy: 0.7336\n",
            "Epoch 61/500\n",
            "1563/1563 [==============================] - 11s 7ms/step - loss: 0.2334 - accuracy: 0.9414 - val_loss: 1.0865 - val_accuracy: 0.7359\n",
            "Epoch 62/500\n",
            "1563/1563 [==============================] - 11s 7ms/step - loss: 0.2305 - accuracy: 0.9425 - val_loss: 1.2478 - val_accuracy: 0.7296\n",
            "Epoch 63/500\n",
            "1563/1563 [==============================] - 11s 7ms/step - loss: 0.2380 - accuracy: 0.9391 - val_loss: 1.2225 - val_accuracy: 0.7452\n",
            "Epoch 64/500\n",
            "1563/1563 [==============================] - 11s 7ms/step - loss: 0.2308 - accuracy: 0.9428 - val_loss: 1.3507 - val_accuracy: 0.7270\n",
            "Epoch 65/500\n",
            "1563/1563 [==============================] - 11s 7ms/step - loss: 0.2609 - accuracy: 0.9359 - val_loss: 1.2858 - val_accuracy: 0.7293\n",
            "Epoch 66/500\n",
            "1563/1563 [==============================] - 11s 7ms/step - loss: 0.2246 - accuracy: 0.9450 - val_loss: 1.1479 - val_accuracy: 0.7274\n",
            "Epoch 67/500\n",
            "1563/1563 [==============================] - 11s 7ms/step - loss: 0.1957 - accuracy: 0.9526 - val_loss: 1.3133 - val_accuracy: 0.7316\n",
            "Epoch 68/500\n",
            "1563/1563 [==============================] - 11s 7ms/step - loss: 0.2390 - accuracy: 0.9418 - val_loss: 1.1626 - val_accuracy: 0.7389\n",
            "Epoch 69/500\n",
            "1563/1563 [==============================] - 11s 7ms/step - loss: 0.2005 - accuracy: 0.9496 - val_loss: 1.3911 - val_accuracy: 0.6928\n",
            "Epoch 70/500\n",
            "1563/1563 [==============================] - 11s 7ms/step - loss: 0.2945 - accuracy: 0.9281 - val_loss: 1.1333 - val_accuracy: 0.7249\n",
            "Epoch 71/500\n",
            "1563/1563 [==============================] - 11s 7ms/step - loss: 0.2195 - accuracy: 0.9440 - val_loss: 1.3063 - val_accuracy: 0.7304\n",
            "Epoch 72/500\n",
            "1563/1563 [==============================] - 11s 7ms/step - loss: 0.1932 - accuracy: 0.9530 - val_loss: 1.1973 - val_accuracy: 0.7298\n",
            "Epoch 73/500\n",
            "1563/1563 [==============================] - 11s 7ms/step - loss: 0.2250 - accuracy: 0.9438 - val_loss: 1.2034 - val_accuracy: 0.7200\n",
            "Epoch 74/500\n",
            "1563/1563 [==============================] - 11s 7ms/step - loss: 0.2735 - accuracy: 0.9337 - val_loss: 1.1905 - val_accuracy: 0.7230\n",
            "Epoch 75/500\n",
            "1563/1563 [==============================] - 11s 7ms/step - loss: 0.2149 - accuracy: 0.9466 - val_loss: 1.1989 - val_accuracy: 0.7268\n",
            "Epoch 76/500\n",
            "1563/1563 [==============================] - 11s 7ms/step - loss: 0.2212 - accuracy: 0.9463 - val_loss: 1.4467 - val_accuracy: 0.7316\n",
            "Epoch 77/500\n",
            "1563/1563 [==============================] - 11s 7ms/step - loss: 0.2435 - accuracy: 0.9409 - val_loss: 1.2449 - val_accuracy: 0.7368\n",
            "Epoch 78/500\n",
            "1563/1563 [==============================] - 11s 7ms/step - loss: 0.3242 - accuracy: 0.9212 - val_loss: 1.1569 - val_accuracy: 0.7305\n",
            "Epoch 00078: early stopping\n"
          ],
          "name": "stdout"
        },
        {
          "output_type": "execute_result",
          "data": {
            "text/plain": [
              "<tensorflow.python.keras.callbacks.History at 0x7f5766382cc0>"
            ]
          },
          "metadata": {
            "tags": []
          },
          "execution_count": 26
        }
      ]
    },
    {
      "cell_type": "code",
      "metadata": {
        "colab": {
          "base_uri": "https://localhost:8080/"
        },
        "id": "jfwYHBexkQ6D",
        "outputId": "764ee3db-d242-4e2e-9a52-f68303ce176b"
      },
      "source": [
        " c4f5.evaluate(X_test, y_test, batch_size = 32)"
      ],
      "execution_count": 27,
      "outputs": [
        {
          "output_type": "stream",
          "text": [
            "313/313 [==============================] - 1s 4ms/step - loss: 1.1569 - accuracy: 0.7305\n"
          ],
          "name": "stdout"
        },
        {
          "output_type": "execute_result",
          "data": {
            "text/plain": [
              "[1.156926155090332, 0.7304999828338623]"
            ]
          },
          "metadata": {
            "tags": []
          },
          "execution_count": 27
        }
      ]
    },
    {
      "cell_type": "markdown",
      "metadata": {
        "id": "3Ub3qGnjs4EI"
      },
      "source": [
        "## Graph of loss and accuracy\n",
        "- model: C4f5"
      ]
    },
    {
      "cell_type": "code",
      "metadata": {
        "id": "NiSAsgsNtUte"
      },
      "source": [
        "c4f5 = keras.models.Sequential([ \n",
        "    Conv2D(input_shape=(32,32,3),kernel_size=(3,3),strides=(1,1),filters= 64,padding='same',activation='relu'),\n",
        "    MaxPool2D(pool_size=(2,2), strides=(2,2)), \n",
        "    Conv2D(kernel_size=(3,3),strides=(1,1),filters= 128,padding='same',activation='relu'),\n",
        "    MaxPool2D(pool_size=(2,2), strides=(2,2)),\n",
        "    Conv2D(kernel_size=(3,3),strides=(1,1),filters= 256,padding='same',activation='relu'),\n",
        "    MaxPool2D(pool_size=(2,2), strides=(2,2)),\n",
        "    Conv2D(kernel_size=(3,3),strides=(1,1),filters= 512,padding='same',activation='relu'),\n",
        "    MaxPool2D(pool_size=(2,2), strides=(2,2)),\n",
        "    Flatten(), \n",
        "    keras.layers.Dense(128, activation='relu'),  \n",
        "    keras.layers.Dropout(0.25), \n",
        "    keras.layers.Dense(256, activation='relu'),  \n",
        "    keras.layers.Dropout(0.25), \n",
        "    keras.layers.Dense(512, activation='relu'),  \n",
        "    keras.layers.Dropout(0.25), \n",
        "    keras.layers.Dense(1024, activation='relu'),  \n",
        "    keras.layers.Dropout(0.25), \n",
        "    keras.layers.Dense(10, activation='softmax')\n",
        "])\n",
        "\n",
        "c4f5.compile(optimizer='adam',\n",
        "              loss='categorical_crossentropy',\n",
        "              metrics=['accuracy'])"
      ],
      "execution_count": 28,
      "outputs": []
    },
    {
      "cell_type": "code",
      "metadata": {
        "id": "-Yfqv2AqtUtz",
        "colab": {
          "base_uri": "https://localhost:8080/"
        },
        "outputId": "01ee7e4e-eb03-4bc1-e1b7-9d1bf1a664db"
      },
      "source": [
        "epoch = 44\n",
        "hist = c4f5.fit(X_train, y_train, \n",
        "         epochs = epoch, \n",
        "         batch_size =32, \n",
        "         validation_data=(X_test,y_test))"
      ],
      "execution_count": 29,
      "outputs": [
        {
          "output_type": "stream",
          "text": [
            "Epoch 1/44\n",
            "1563/1563 [==============================] - 11s 7ms/step - loss: 1.7096 - accuracy: 0.3535 - val_loss: 1.3499 - val_accuracy: 0.4976\n",
            "Epoch 2/44\n",
            "1563/1563 [==============================] - 11s 7ms/step - loss: 1.2729 - accuracy: 0.5471 - val_loss: 1.1634 - val_accuracy: 0.5811\n",
            "Epoch 3/44\n",
            "1563/1563 [==============================] - 11s 7ms/step - loss: 1.0747 - accuracy: 0.6275 - val_loss: 0.9861 - val_accuracy: 0.6548\n",
            "Epoch 4/44\n",
            "1563/1563 [==============================] - 11s 7ms/step - loss: 0.9475 - accuracy: 0.6786 - val_loss: 0.9221 - val_accuracy: 0.6873\n",
            "Epoch 5/44\n",
            "1563/1563 [==============================] - 11s 7ms/step - loss: 0.8542 - accuracy: 0.7110 - val_loss: 1.0048 - val_accuracy: 0.6612\n",
            "Epoch 6/44\n",
            "1563/1563 [==============================] - 11s 7ms/step - loss: 0.7883 - accuracy: 0.7366 - val_loss: 0.8810 - val_accuracy: 0.7062\n",
            "Epoch 7/44\n",
            "1563/1563 [==============================] - 11s 7ms/step - loss: 0.7331 - accuracy: 0.7563 - val_loss: 0.8875 - val_accuracy: 0.7032\n",
            "Epoch 8/44\n",
            "1563/1563 [==============================] - 11s 7ms/step - loss: 0.6791 - accuracy: 0.7767 - val_loss: 0.8836 - val_accuracy: 0.7049\n",
            "Epoch 9/44\n",
            "1563/1563 [==============================] - 11s 7ms/step - loss: 0.6460 - accuracy: 0.7895 - val_loss: 0.8705 - val_accuracy: 0.7178\n",
            "Epoch 10/44\n",
            "1563/1563 [==============================] - 11s 7ms/step - loss: 0.6024 - accuracy: 0.8038 - val_loss: 0.9097 - val_accuracy: 0.7099\n",
            "Epoch 11/44\n",
            "1563/1563 [==============================] - 11s 7ms/step - loss: 0.5719 - accuracy: 0.8128 - val_loss: 0.8495 - val_accuracy: 0.7280\n",
            "Epoch 12/44\n",
            "1563/1563 [==============================] - 11s 7ms/step - loss: 0.5547 - accuracy: 0.8204 - val_loss: 0.8530 - val_accuracy: 0.7309\n",
            "Epoch 13/44\n",
            "1563/1563 [==============================] - 11s 7ms/step - loss: 0.5137 - accuracy: 0.8356 - val_loss: 0.9419 - val_accuracy: 0.7194\n",
            "Epoch 14/44\n",
            "1563/1563 [==============================] - 11s 7ms/step - loss: 0.4824 - accuracy: 0.8461 - val_loss: 0.9023 - val_accuracy: 0.7357\n",
            "Epoch 15/44\n",
            "1563/1563 [==============================] - 11s 7ms/step - loss: 0.4658 - accuracy: 0.8520 - val_loss: 0.8819 - val_accuracy: 0.7325\n",
            "Epoch 16/44\n",
            "1563/1563 [==============================] - 11s 7ms/step - loss: 0.4524 - accuracy: 0.8579 - val_loss: 0.8777 - val_accuracy: 0.7375\n",
            "Epoch 17/44\n",
            "1563/1563 [==============================] - 11s 7ms/step - loss: 0.4279 - accuracy: 0.8665 - val_loss: 0.9224 - val_accuracy: 0.7302\n",
            "Epoch 18/44\n",
            "1563/1563 [==============================] - 11s 7ms/step - loss: 0.4267 - accuracy: 0.8665 - val_loss: 0.9234 - val_accuracy: 0.7334\n",
            "Epoch 19/44\n",
            "1563/1563 [==============================] - 11s 7ms/step - loss: 0.3998 - accuracy: 0.8759 - val_loss: 0.9803 - val_accuracy: 0.7293\n",
            "Epoch 20/44\n",
            "1563/1563 [==============================] - 11s 7ms/step - loss: 0.3923 - accuracy: 0.8795 - val_loss: 0.9068 - val_accuracy: 0.7376\n",
            "Epoch 21/44\n",
            "1563/1563 [==============================] - 11s 7ms/step - loss: 0.3913 - accuracy: 0.8804 - val_loss: 0.9325 - val_accuracy: 0.7373\n",
            "Epoch 22/44\n",
            "1563/1563 [==============================] - 11s 7ms/step - loss: 0.3679 - accuracy: 0.8873 - val_loss: 0.9385 - val_accuracy: 0.7241\n",
            "Epoch 23/44\n",
            "1563/1563 [==============================] - 11s 7ms/step - loss: 0.3599 - accuracy: 0.8911 - val_loss: 0.9655 - val_accuracy: 0.7317\n",
            "Epoch 24/44\n",
            "1563/1563 [==============================] - 11s 7ms/step - loss: 0.3370 - accuracy: 0.8991 - val_loss: 0.9815 - val_accuracy: 0.7275\n",
            "Epoch 25/44\n",
            "1563/1563 [==============================] - 11s 7ms/step - loss: 0.3653 - accuracy: 0.8909 - val_loss: 1.0301 - val_accuracy: 0.7305\n",
            "Epoch 26/44\n",
            "1563/1563 [==============================] - 11s 7ms/step - loss: 0.3384 - accuracy: 0.8997 - val_loss: 1.0743 - val_accuracy: 0.7232\n",
            "Epoch 27/44\n",
            "1563/1563 [==============================] - 11s 7ms/step - loss: 0.3076 - accuracy: 0.9097 - val_loss: 1.0244 - val_accuracy: 0.7310\n",
            "Epoch 28/44\n",
            "1563/1563 [==============================] - 11s 7ms/step - loss: 0.3101 - accuracy: 0.9097 - val_loss: 1.0172 - val_accuracy: 0.7314\n",
            "Epoch 29/44\n",
            "1563/1563 [==============================] - 11s 7ms/step - loss: 0.3120 - accuracy: 0.9115 - val_loss: 0.9964 - val_accuracy: 0.7237\n",
            "Epoch 30/44\n",
            "1563/1563 [==============================] - 11s 7ms/step - loss: 0.2948 - accuracy: 0.9141 - val_loss: 1.0161 - val_accuracy: 0.7368\n",
            "Epoch 31/44\n",
            "1563/1563 [==============================] - 11s 7ms/step - loss: 0.3254 - accuracy: 0.9063 - val_loss: 1.0390 - val_accuracy: 0.7409\n",
            "Epoch 32/44\n",
            "1563/1563 [==============================] - 11s 7ms/step - loss: 0.2832 - accuracy: 0.9213 - val_loss: 0.9924 - val_accuracy: 0.7255\n",
            "Epoch 33/44\n",
            "1563/1563 [==============================] - 11s 7ms/step - loss: 0.3474 - accuracy: 0.9013 - val_loss: 1.1176 - val_accuracy: 0.7234\n",
            "Epoch 34/44\n",
            "1563/1563 [==============================] - 11s 7ms/step - loss: 0.2604 - accuracy: 0.9274 - val_loss: 1.1309 - val_accuracy: 0.7236\n",
            "Epoch 35/44\n",
            "1563/1563 [==============================] - 11s 7ms/step - loss: 0.2988 - accuracy: 0.9168 - val_loss: 1.0919 - val_accuracy: 0.7339\n",
            "Epoch 36/44\n",
            "1563/1563 [==============================] - 11s 7ms/step - loss: 0.2670 - accuracy: 0.9246 - val_loss: 1.0406 - val_accuracy: 0.7366\n",
            "Epoch 37/44\n",
            "1563/1563 [==============================] - 11s 7ms/step - loss: 0.2617 - accuracy: 0.9285 - val_loss: 1.2335 - val_accuracy: 0.7331\n",
            "Epoch 38/44\n",
            "1563/1563 [==============================] - 11s 7ms/step - loss: 0.2695 - accuracy: 0.9247 - val_loss: 1.0787 - val_accuracy: 0.7317\n",
            "Epoch 39/44\n",
            "1563/1563 [==============================] - 11s 7ms/step - loss: 0.2815 - accuracy: 0.9221 - val_loss: 1.0487 - val_accuracy: 0.7261\n",
            "Epoch 40/44\n",
            "1563/1563 [==============================] - 11s 7ms/step - loss: 0.2832 - accuracy: 0.9239 - val_loss: 0.9794 - val_accuracy: 0.7211\n",
            "Epoch 41/44\n",
            "1563/1563 [==============================] - 11s 7ms/step - loss: 0.2714 - accuracy: 0.9269 - val_loss: 1.1881 - val_accuracy: 0.7197\n",
            "Epoch 42/44\n",
            "1563/1563 [==============================] - 11s 7ms/step - loss: 0.2500 - accuracy: 0.9344 - val_loss: 1.0490 - val_accuracy: 0.7281\n",
            "Epoch 43/44\n",
            "1563/1563 [==============================] - 11s 7ms/step - loss: 0.2491 - accuracy: 0.9324 - val_loss: 1.1631 - val_accuracy: 0.7335\n",
            "Epoch 44/44\n",
            "1563/1563 [==============================] - 11s 7ms/step - loss: 0.3181 - accuracy: 0.9157 - val_loss: 1.1088 - val_accuracy: 0.7311\n"
          ],
          "name": "stdout"
        }
      ]
    },
    {
      "cell_type": "code",
      "metadata": {
        "id": "WNmXXLhvWUiK",
        "colab": {
          "base_uri": "https://localhost:8080/",
          "height": 313
        },
        "outputId": "883b4a13-c1be-441c-fd3c-7c373d4bc931"
      },
      "source": [
        "# Plot loass and accuracy\n",
        "# Plot training & validation accuracy values\n",
        "epochs = epoch\n",
        "loss_list = [100 * i for i in hist.history['loss']]\n",
        "acc_list = [100 * i for i in hist.history['accuracy']]\n",
        "plt.plot(range(1,epochs+1),loss_list) \n",
        "plt.plot(range(1,epochs+1),acc_list) \n",
        "plt.title('Model loss & accuracy')\n",
        "plt.ylabel('Accuracy (%)')\n",
        "plt.xlabel('Epoch')\n",
        "plt.legend(['loss', 'accuracy'], loc='center left')"
      ],
      "execution_count": 30,
      "outputs": [
        {
          "output_type": "execute_result",
          "data": {
            "text/plain": [
              "<matplotlib.legend.Legend at 0x7f575e61c128>"
            ]
          },
          "metadata": {
            "tags": []
          },
          "execution_count": 30
        },
        {
          "output_type": "display_data",
          "data": {
            "image/png": "[encoded data removed]",
            "text/plain": [
              "<Figure size 432x288 with 1 Axes>"
            ]
          },
          "metadata": {
            "tags": [],
            "needs_background": "light"
          }
        }
      ]
    },
    {
      "cell_type": "code",
      "metadata": {
        "id": "0wNssVPhu_8m"
      },
      "source": [
        "vloss_list = [100 * i for i in hist.history['val_loss']]\n",
        "vacc_list = [100 * i for i in hist.history['val_accuracy']]"
      ],
      "execution_count": 31,
      "outputs": []
    },
    {
      "cell_type": "code",
      "metadata": {
        "id": "TX5Uzro4vjaY",
        "colab": {
          "base_uri": "https://localhost:8080/",
          "height": 313
        },
        "outputId": "e16e9c33-977d-4bba-f660-904e6aeea16c"
      },
      "source": [
        "plt.plot(range(1,epochs+1),vloss_list)  \n",
        "plt.plot(range(1,epochs+1),vacc_list)  \n",
        "plt.title('Model val_loss & val_accuracy')\n",
        "plt.ylabel('Accuracy (%)')\n",
        "plt.xlabel('Epoch')\n",
        "plt.legend(['val_loss', 'val_accuracy'], loc='center left')"
      ],
      "execution_count": 32,
      "outputs": [
        {
          "output_type": "execute_result",
          "data": {
            "text/plain": [
              "<matplotlib.legend.Legend at 0x7f57664482b0>"
            ]
          },
          "metadata": {
            "tags": []
          },
          "execution_count": 32
        },
        {
          "output_type": "display_data",
          "data": {
            "image/png": "[encoded data removed]",
            "text/plain": [
              "<Figure size 432x288 with 1 Axes>"
            ]
          },
          "metadata": {
            "tags": [],
            "needs_background": "light"
          }
        }
      ]
    },
    {
      "cell_type": "code",
      "metadata": {
        "id": "blALTNdyvjVK",
        "colab": {
          "base_uri": "https://localhost:8080/",
          "height": 313
        },
        "outputId": "907e4902-95be-46ae-dc3f-7f7c0dd1c764"
      },
      "source": [
        "plt.plot(range(1,epochs+1),acc_list)  \n",
        "plt.plot(range(1,epochs+1),vacc_list)  \n",
        "plt.plot(np.argmax(np.array(vacc_list))+1,vacc_list[np.argmax(np.array(vacc_list))], 'r*') \n",
        "plt.title('accuracy vs. val_accuracy, best = ' +str(vacc_list[np.argmax(np.array(vacc_list))]))\n",
        "plt.ylabel('Accuracy (%)')\n",
        "plt.xlabel('Epoch')\n",
        "plt.legend(['accuracy','val_accuracy','best']) #, loc='center bottom')\n"
      ],
      "execution_count": 35,
      "outputs": [
        {
          "output_type": "execute_result",
          "data": {
            "text/plain": [
              "<matplotlib.legend.Legend at 0x7f575e513be0>"
            ]
          },
          "metadata": {
            "tags": []
          },
          "execution_count": 35
        },
        {
          "output_type": "display_data",
          "data": {
            "image/png": "[encoded data removed]",
            "text/plain": [
              "<Figure size 432x288 with 1 Axes>"
            ]
          },
          "metadata": {
            "tags": [],
            "needs_background": "light"
          }
        }
      ]
    },
    {
      "cell_type": "markdown",
      "metadata": {
        "id": "SQ3M6vRVXG78"
      },
      "source": [
        "## cifar10 모델 학습\n",
        "> https://gruuuuu.github.io/machine-learning/cifar10-cnn/#"
      ]
    },
    {
      "cell_type": "markdown",
      "metadata": {
        "id": "gBPKMI4y3fsa"
      },
      "source": [
        "## 모형의 저장\n",
        "\n",
        "- 트레이닝이 끝난 모형은 save 메서드로 가중치와 함께 hdf5 형식으로 저장\n",
        "- load 명령으로 불러 사용"
      ]
    },
    {
      "cell_type": "code",
      "metadata": {
        "id": "KCfbQl2v3fsa"
      },
      "source": [
        "# c2f2.save('fmnist_cnn_best.hdf5')"
      ],
      "execution_count": null,
      "outputs": []
    },
    {
      "cell_type": "code",
      "metadata": {
        "id": "b7-ysIVy3fse",
        "colab": {
          "base_uri": "https://localhost:8080/"
        },
        "outputId": "c68599ce-7a0b-405b-9d46-f8cd4b3560f5"
      },
      "source": [
        "from keras.models import load_model\n",
        "\n",
        "model = load_model('cifar10_c4f5_best_weights.053-0.7494.hdf5')\n",
        "model.evaluate(X_test, y_test, batch_size=32)"
      ],
      "execution_count": 36,
      "outputs": [
        {
          "output_type": "stream",
          "text": [
            "313/313 [==============================] - 1s 4ms/step - loss: 1.1704 - accuracy: 0.7494\n"
          ],
          "name": "stdout"
        },
        {
          "output_type": "execute_result",
          "data": {
            "text/plain": [
              "[1.1703965663909912, 0.7494000196456909]"
            ]
          },
          "metadata": {
            "tags": []
          },
          "execution_count": 36
        }
      ]
    },
    {
      "cell_type": "markdown",
      "metadata": {
        "id": "KF3UzDJotZrh"
      },
      "source": [
        "## Confusion matrix"
      ]
    },
    {
      "cell_type": "code",
      "metadata": {
        "id": "RV1IaOyeu6Em"
      },
      "source": [
        "from sklearn.metrics import confusion_matrix\n",
        "import seaborn as sns"
      ],
      "execution_count": 37,
      "outputs": []
    },
    {
      "cell_type": "code",
      "metadata": {
        "id": "Bxs1eC-cuO0Y"
      },
      "source": [
        "predictions = model.predict(X_test)"
      ],
      "execution_count": 38,
      "outputs": []
    },
    {
      "cell_type": "code",
      "metadata": {
        "colab": {
          "base_uri": "https://localhost:8080/"
        },
        "id": "6Tqhg-UJujo5",
        "outputId": "451d2568-1aef-4196-8571-d12a671b12d2"
      },
      "source": [
        "predictions.shape"
      ],
      "execution_count": 39,
      "outputs": [
        {
          "output_type": "execute_result",
          "data": {
            "text/plain": [
              "(10000, 10)"
            ]
          },
          "metadata": {
            "tags": []
          },
          "execution_count": 39
        }
      ]
    },
    {
      "cell_type": "code",
      "metadata": {
        "colab": {
          "base_uri": "https://localhost:8080/"
        },
        "id": "nZch1JFSufoR",
        "outputId": "500b7574-97ef-42e3-a7ec-63cd32b4162e"
      },
      "source": [
        "predictions0 = np.argmax(predictions, axis=1)\n",
        "predictions0.shape"
      ],
      "execution_count": 40,
      "outputs": [
        {
          "output_type": "execute_result",
          "data": {
            "text/plain": [
              "(10000,)"
            ]
          },
          "metadata": {
            "tags": []
          },
          "execution_count": 40
        }
      ]
    },
    {
      "cell_type": "code",
      "metadata": {
        "id": "hiPMQeYXt12l"
      },
      "source": [
        "cm = confusion_matrix(y_test0, predictions0)"
      ],
      "execution_count": 41,
      "outputs": []
    },
    {
      "cell_type": "code",
      "metadata": {
        "id": "YITaGwYjvatc"
      },
      "source": [
        "class_names = ['airplane', 'automobile', 'bird', 'cat', 'deer', 'dog', 'frog', 'horse', 'ship', 'truck']"
      ],
      "execution_count": 42,
      "outputs": []
    },
    {
      "cell_type": "code",
      "metadata": {
        "colab": {
          "base_uri": "https://localhost:8080/",
          "height": 551
        },
        "id": "2qGHMNU3u8ut",
        "outputId": "c50d420f-33fb-4423-eb99-53e207ef7f30"
      },
      "source": [
        "plt.figure(figsize=(9,9))\n",
        "sns.heatmap(cm, cbar=False, xticklabels=class_names, yticklabels=class_names, fmt='d', annot=True, cmap=plt.cm.coolwarm)\n",
        "plt.xlabel('Predicted')\n",
        "plt.ylabel('Actual')\n",
        "plt.show()"
      ],
      "execution_count": 43,
      "outputs": [
        {
          "output_type": "display_data",
          "data": {
            "image/png": "[encoded data removed]",
            "text/plain": [
              "<Figure size 648x648 with 1 Axes>"
            ]
          },
          "metadata": {
            "tags": [],
            "needs_background": "light"
          }
        }
      ]
    },
    {
      "cell_type": "markdown",
      "metadata": {
        "id": "0n2PfCMBh2ju"
      },
      "source": [
        "# State of current scores of cifar-10\n",
        "\n",
        "> https://paperswithcode.com/sota/image-classification-on-cifar-10"
      ]
    },
    {
      "cell_type": "markdown",
      "metadata": {
        "id": "7abyx_2n0_7d"
      },
      "source": [
        "## Transfer learning on cifar-10\n",
        "\n",
        "- https://medium.com/@andrew.dabydeen/transfer-learning-using-resnet50-and-cifar-10-6242ed4b4245\n",
        "\n",
        "- https://medium.com/swlh/comparative-analysis-of-cifar-10-image-classification-transfer-learning-vs-user-defined-cnns-e673685d925e\n",
        "\n",
        "- https://medium.com/swlh/hands-on-the-cifar-10-dataset-with-transfer-learning-2e768fd6c318\n",
        "\n",
        "- https://medium.com/analytics-vidhya/the-transfer-learning-experience-with-vgg16-and-cifar-10-dataset-9b25b306a23f"
      ]
    },
    {
      "cell_type": "code",
      "metadata": {
        "id": "o5iFioeMiAHE"
      },
      "source": [
        ""
      ],
      "execution_count": null,
      "outputs": []
    }
  ]
}