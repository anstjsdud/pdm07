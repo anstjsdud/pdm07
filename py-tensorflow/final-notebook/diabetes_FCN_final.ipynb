{
  "nbformat": 4,
  "nbformat_minor": 0,
  "metadata": {
    "kernelspec": {
      "display_name": "Python 3",
      "language": "python",
      "name": "python3"
    },
    "language_info": {
      "codemirror_mode": {
        "name": "ipython",
        "version": 3
      },
      "file_extension": ".py",
      "mimetype": "text/x-python",
      "name": "python",
      "nbconvert_exporter": "python",
      "pygments_lexer": "ipython3",
      "version": "3.6.5"
    },
    "colab": {
      "name": "diabetes_FCN_final.ipynb",
      "provenance": [],
      "collapsed_sections": [],
      "include_colab_link": true
    }
  },
  "cells": [
    {
      "cell_type": "markdown",
      "metadata": {
        "id": "view-in-github",
        "colab_type": "text"
      },
      "source": [
        "<a href=\"https://colab.research.google.com/github/anstjsdud/pdm07/blob/master/py-tensorflow/final-notebook/diabetes_FCN_final.ipynb\" target=\"_parent\"><img src=\"https://colab.research.google.com/assets/colab-badge.svg\" alt=\"Open In Colab\"/></a>"
      ]
    },
    {
      "cell_type": "markdown",
      "metadata": {
        "id": "nOvJjCFrkWDc"
      },
      "source": [
        "# **DL: FCN of Pima-Indians-Diabetes-Data** \n",
        "\n",
        "> https://medium.com/@soumen.atta/analyzing-pima-indians-diabetes-data-using-python-89a021b5f4eb\n"
      ]
    },
    {
      "cell_type": "code",
      "metadata": {
        "_cell_guid": "8e27055d-7b00-49f6-b0e8-f53ff433ddca",
        "_uuid": "1e1e2b84-2d40-497b-92bd-f238f939cfa8",
        "id": "WUOW3NKRkWDd",
        "colab": {
          "base_uri": "https://localhost:8080/"
        },
        "outputId": "ad08ac5f-5d25-4c60-f142-1fa2d4af4b0d"
      },
      "source": [
        "# Load the required packages \n",
        "import numpy as np\n",
        "import tensorflow as tf\n",
        "from tensorflow import keras\n",
        "import pandas as pd\n",
        "from pandas import read_csv\n",
        "import matplotlib.pyplot as plt\n",
        "%matplotlib inline\n",
        "\n",
        "tf.random.set_seed(0)\n",
        "\n",
        "print(tf.__version__)"
      ],
      "execution_count": null,
      "outputs": [
        {
          "output_type": "stream",
          "text": [
            "2.3.0\n"
          ],
          "name": "stdout"
        }
      ]
    },
    {
      "cell_type": "markdown",
      "metadata": {
        "id": "TcfPniN2kWDg"
      },
      "source": [
        "**Load CSV file using Pandas**"
      ]
    },
    {
      "cell_type": "code",
      "metadata": {
        "id": "Ahd9x_NVkWDg",
        "colab": {
          "base_uri": "https://localhost:8080/"
        },
        "outputId": "904273e7-1e5d-475d-bbc0-0c3b4e113f7b"
      },
      "source": [
        "# Specify the file name \n",
        "url = \"https://github.com/Redwoods/Py/raw/master/pdm2020/my-note/py-pandas/data/diabetes.csv\"\n",
        "filename = url\n",
        "# filename = 'diabetes.csv'  # access to local file\n",
        "\n",
        "# Read the data \n",
        "data = read_csv(filename) \n",
        "\n",
        "# Print the shape \n",
        "data.shape"
      ],
      "execution_count": null,
      "outputs": [
        {
          "output_type": "execute_result",
          "data": {
            "text/plain": [
              "(768, 9)"
            ]
          },
          "metadata": {
            "tags": []
          },
          "execution_count": 2
        }
      ]
    },
    {
      "cell_type": "code",
      "metadata": {
        "id": "q_g68MTvkWDi",
        "colab": {
          "base_uri": "https://localhost:8080/",
          "height": 195
        },
        "outputId": "0993195b-007d-401b-ce89-b33109ed6a06"
      },
      "source": [
        "# Print the first 5 rows \n",
        "data.head()"
      ],
      "execution_count": null,
      "outputs": [
        {
          "output_type": "execute_result",
          "data": {
            "text/html": [
              "<div>\n",
              "<style scoped>\n",
              "    .dataframe tbody tr th:only-of-type {\n",
              "        vertical-align: middle;\n",
              "    }\n",
              "\n",
              "    .dataframe tbody tr th {\n",
              "        vertical-align: top;\n",
              "    }\n",
              "\n",
              "    .dataframe thead th {\n",
              "        text-align: right;\n",
              "    }\n",
              "</style>\n",
              "<table border=\"1\" class=\"dataframe\">\n",
              "  <thead>\n",
              "    <tr style=\"text-align: right;\">\n",
              "      <th></th>\n",
              "      <th>Pregnancies</th>\n",
              "      <th>Glucose</th>\n",
              "      <th>BloodPressure</th>\n",
              "      <th>SkinThickness</th>\n",
              "      <th>Insulin</th>\n",
              "      <th>BMI</th>\n",
              "      <th>DiabetesPedigreeFunction</th>\n",
              "      <th>Age</th>\n",
              "      <th>Outcome</th>\n",
              "    </tr>\n",
              "  </thead>\n",
              "  <tbody>\n",
              "    <tr>\n",
              "      <th>0</th>\n",
              "      <td>6</td>\n",
              "      <td>148</td>\n",
              "      <td>72</td>\n",
              "      <td>35</td>\n",
              "      <td>0</td>\n",
              "      <td>33.6</td>\n",
              "      <td>0.627</td>\n",
              "      <td>50</td>\n",
              "      <td>1</td>\n",
              "    </tr>\n",
              "    <tr>\n",
              "      <th>1</th>\n",
              "      <td>1</td>\n",
              "      <td>85</td>\n",
              "      <td>66</td>\n",
              "      <td>29</td>\n",
              "      <td>0</td>\n",
              "      <td>26.6</td>\n",
              "      <td>0.351</td>\n",
              "      <td>31</td>\n",
              "      <td>0</td>\n",
              "    </tr>\n",
              "    <tr>\n",
              "      <th>2</th>\n",
              "      <td>8</td>\n",
              "      <td>183</td>\n",
              "      <td>64</td>\n",
              "      <td>0</td>\n",
              "      <td>0</td>\n",
              "      <td>23.3</td>\n",
              "      <td>0.672</td>\n",
              "      <td>32</td>\n",
              "      <td>1</td>\n",
              "    </tr>\n",
              "    <tr>\n",
              "      <th>3</th>\n",
              "      <td>1</td>\n",
              "      <td>89</td>\n",
              "      <td>66</td>\n",
              "      <td>23</td>\n",
              "      <td>94</td>\n",
              "      <td>28.1</td>\n",
              "      <td>0.167</td>\n",
              "      <td>21</td>\n",
              "      <td>0</td>\n",
              "    </tr>\n",
              "    <tr>\n",
              "      <th>4</th>\n",
              "      <td>0</td>\n",
              "      <td>137</td>\n",
              "      <td>40</td>\n",
              "      <td>35</td>\n",
              "      <td>168</td>\n",
              "      <td>43.1</td>\n",
              "      <td>2.288</td>\n",
              "      <td>33</td>\n",
              "      <td>1</td>\n",
              "    </tr>\n",
              "  </tbody>\n",
              "</table>\n",
              "</div>"
            ],
            "text/plain": [
              "   Pregnancies  Glucose  BloodPressure  ...  DiabetesPedigreeFunction  Age  Outcome\n",
              "0            6      148             72  ...                     0.627   50        1\n",
              "1            1       85             66  ...                     0.351   31        0\n",
              "2            8      183             64  ...                     0.672   32        1\n",
              "3            1       89             66  ...                     0.167   21        0\n",
              "4            0      137             40  ...                     2.288   33        1\n",
              "\n",
              "[5 rows x 9 columns]"
            ]
          },
          "metadata": {
            "tags": []
          },
          "execution_count": 3
        }
      ]
    },
    {
      "cell_type": "code",
      "metadata": {
        "id": "wAFYD041Xb1A"
      },
      "source": [
        "# import TF2 submodules\n",
        "from tensorflow.keras import layers, models, callbacks\n",
        "from keras.models import Sequential\n",
        "from keras.layers import Dense, Conv2D, MaxPool2D, Flatten\n",
        "from keras.callbacks import ModelCheckpoint, EarlyStopping"
      ],
      "execution_count": null,
      "outputs": []
    },
    {
      "cell_type": "code",
      "metadata": {
        "colab": {
          "base_uri": "https://localhost:8080/"
        },
        "id": "Xr_Qs9rnW3Bu",
        "outputId": "9c54925a-3aa8-4737-9547-e53cef231dd4"
      },
      "source": [
        "# Split dataset to train & test set\n",
        "X_train = data.iloc[:600,0:8] # 600\n",
        "y_train = data.iloc[:600,8]\n",
        "X_test = data.iloc[600:,0:8] # 168\n",
        "y_test = data.iloc[600:,8]\n",
        "X_train.shape,y_train.shape,X_test.shape,y_test.shape"
      ],
      "execution_count": null,
      "outputs": [
        {
          "output_type": "execute_result",
          "data": {
            "text/plain": [
              "((600, 8), (600,), (168, 8), (168,))"
            ]
          },
          "metadata": {
            "tags": []
          },
          "execution_count": 5
        }
      ]
    },
    {
      "cell_type": "code",
      "metadata": {
        "id": "0B5Xc0atXtuC"
      },
      "source": [
        "# define the keras model\n",
        "model = Sequential()\n",
        "model.add(Dense(12, input_dim=8, activation='relu'))\n",
        "model.add(Dense(8, activation='relu'))\n",
        "model.add(Dense(1, activation='sigmoid'))  # softmaX\n",
        "# compile the keras model\n",
        "model.compile(loss='binary_crossentropy', \n",
        "              optimizer='adam', \n",
        "              metrics=['accuracy'])\n"
      ],
      "execution_count": null,
      "outputs": []
    },
    {
      "cell_type": "code",
      "metadata": {
        "colab": {
          "base_uri": "https://localhost:8080/"
        },
        "id": "ROjU8SG-X2XU",
        "outputId": "621b65b6-b6e0-4654-b37b-e8142dd5e88f"
      },
      "source": [
        "# fit the keras model on the dataset\n",
        "hist = model.fit(X_train, y_train, epochs=150, batch_size=10, verbose=1, \n",
        "                 validation_data=(X_test, y_test))\n"
      ],
      "execution_count": null,
      "outputs": [
        {
          "output_type": "stream",
          "text": [
            "Epoch 1/150\n",
            "60/60 [==============================] - 0s 4ms/step - loss: 8.1726 - accuracy: 0.6417 - val_loss: 5.1712 - val_accuracy: 0.6012\n",
            "Epoch 2/150\n",
            "60/60 [==============================] - 0s 1ms/step - loss: 3.1368 - accuracy: 0.6517 - val_loss: 1.9513 - val_accuracy: 0.6250\n",
            "Epoch 3/150\n",
            "60/60 [==============================] - 0s 1ms/step - loss: 1.7990 - accuracy: 0.6483 - val_loss: 1.5209 - val_accuracy: 0.6012\n",
            "Epoch 4/150\n",
            "60/60 [==============================] - 0s 1ms/step - loss: 1.4168 - accuracy: 0.6267 - val_loss: 1.1748 - val_accuracy: 0.5536\n",
            "Epoch 5/150\n",
            "60/60 [==============================] - 0s 1ms/step - loss: 1.1504 - accuracy: 0.6050 - val_loss: 1.0270 - val_accuracy: 0.5417\n",
            "Epoch 6/150\n",
            "60/60 [==============================] - 0s 1ms/step - loss: 1.0528 - accuracy: 0.6033 - val_loss: 0.8887 - val_accuracy: 0.6012\n",
            "Epoch 7/150\n",
            "60/60 [==============================] - 0s 1ms/step - loss: 0.9329 - accuracy: 0.6350 - val_loss: 0.8042 - val_accuracy: 0.5714\n",
            "Epoch 8/150\n",
            "60/60 [==============================] - 0s 1ms/step - loss: 0.8190 - accuracy: 0.6517 - val_loss: 0.7677 - val_accuracy: 0.5714\n",
            "Epoch 9/150\n",
            "60/60 [==============================] - 0s 1ms/step - loss: 0.7665 - accuracy: 0.6233 - val_loss: 0.6849 - val_accuracy: 0.6429\n",
            "Epoch 10/150\n",
            "60/60 [==============================] - 0s 1ms/step - loss: 0.7253 - accuracy: 0.6317 - val_loss: 0.6581 - val_accuracy: 0.6369\n",
            "Epoch 11/150\n",
            "60/60 [==============================] - 0s 1ms/step - loss: 0.6995 - accuracy: 0.6383 - val_loss: 0.6501 - val_accuracy: 0.6369\n",
            "Epoch 12/150\n",
            "60/60 [==============================] - 0s 1ms/step - loss: 0.6846 - accuracy: 0.6667 - val_loss: 0.6631 - val_accuracy: 0.5774\n",
            "Epoch 13/150\n",
            "60/60 [==============================] - 0s 3ms/step - loss: 0.6797 - accuracy: 0.6433 - val_loss: 0.6219 - val_accuracy: 0.6667\n",
            "Epoch 14/150\n",
            "60/60 [==============================] - 0s 1ms/step - loss: 0.6632 - accuracy: 0.6583 - val_loss: 0.6365 - val_accuracy: 0.6131\n",
            "Epoch 15/150\n",
            "60/60 [==============================] - 0s 1ms/step - loss: 0.6571 - accuracy: 0.6650 - val_loss: 0.6209 - val_accuracy: 0.6667\n",
            "Epoch 16/150\n",
            "60/60 [==============================] - 0s 1ms/step - loss: 0.6435 - accuracy: 0.6650 - val_loss: 0.6375 - val_accuracy: 0.6250\n",
            "Epoch 17/150\n",
            "60/60 [==============================] - 0s 1ms/step - loss: 0.6501 - accuracy: 0.6583 - val_loss: 0.6371 - val_accuracy: 0.6667\n",
            "Epoch 18/150\n",
            "60/60 [==============================] - 0s 2ms/step - loss: 0.6398 - accuracy: 0.6633 - val_loss: 0.6251 - val_accuracy: 0.6607\n",
            "Epoch 19/150\n",
            "60/60 [==============================] - 0s 1ms/step - loss: 0.6382 - accuracy: 0.6567 - val_loss: 0.6274 - val_accuracy: 0.6726\n",
            "Epoch 20/150\n",
            "60/60 [==============================] - 0s 1ms/step - loss: 0.6324 - accuracy: 0.6467 - val_loss: 0.6259 - val_accuracy: 0.6726\n",
            "Epoch 21/150\n",
            "60/60 [==============================] - 0s 1ms/step - loss: 0.6240 - accuracy: 0.6633 - val_loss: 0.6583 - val_accuracy: 0.6667\n",
            "Epoch 22/150\n",
            "60/60 [==============================] - 0s 2ms/step - loss: 0.6281 - accuracy: 0.6733 - val_loss: 0.6165 - val_accuracy: 0.6667\n",
            "Epoch 23/150\n",
            "60/60 [==============================] - 0s 1ms/step - loss: 0.6197 - accuracy: 0.6683 - val_loss: 0.6775 - val_accuracy: 0.6667\n",
            "Epoch 24/150\n",
            "60/60 [==============================] - 0s 1ms/step - loss: 0.6230 - accuracy: 0.6783 - val_loss: 0.7016 - val_accuracy: 0.6548\n",
            "Epoch 25/150\n",
            "60/60 [==============================] - 0s 1ms/step - loss: 0.6204 - accuracy: 0.6733 - val_loss: 0.6595 - val_accuracy: 0.5536\n",
            "Epoch 26/150\n",
            "60/60 [==============================] - 0s 1ms/step - loss: 0.6252 - accuracy: 0.6583 - val_loss: 0.6450 - val_accuracy: 0.5655\n",
            "Epoch 27/150\n",
            "60/60 [==============================] - 0s 908us/step - loss: 0.6204 - accuracy: 0.6767 - val_loss: 0.6452 - val_accuracy: 0.5536\n",
            "Epoch 28/150\n",
            "60/60 [==============================] - 0s 898us/step - loss: 0.6073 - accuracy: 0.6783 - val_loss: 0.6456 - val_accuracy: 0.6429\n",
            "Epoch 29/150\n",
            "60/60 [==============================] - 0s 1ms/step - loss: 0.6046 - accuracy: 0.6883 - val_loss: 0.6356 - val_accuracy: 0.6310\n",
            "Epoch 30/150\n",
            "60/60 [==============================] - 0s 1ms/step - loss: 0.6006 - accuracy: 0.6683 - val_loss: 0.6300 - val_accuracy: 0.6667\n",
            "Epoch 31/150\n",
            "60/60 [==============================] - 0s 1ms/step - loss: 0.5931 - accuracy: 0.6817 - val_loss: 0.6190 - val_accuracy: 0.6488\n",
            "Epoch 32/150\n",
            "60/60 [==============================] - 0s 1ms/step - loss: 0.5901 - accuracy: 0.6883 - val_loss: 0.6606 - val_accuracy: 0.6190\n",
            "Epoch 33/150\n",
            "60/60 [==============================] - 0s 1ms/step - loss: 0.6047 - accuracy: 0.6733 - val_loss: 0.6353 - val_accuracy: 0.6786\n",
            "Epoch 34/150\n",
            "60/60 [==============================] - 0s 1ms/step - loss: 0.5887 - accuracy: 0.6617 - val_loss: 0.6513 - val_accuracy: 0.5655\n",
            "Epoch 35/150\n",
            "60/60 [==============================] - 0s 1ms/step - loss: 0.6066 - accuracy: 0.6517 - val_loss: 0.6187 - val_accuracy: 0.5952\n",
            "Epoch 36/150\n",
            "60/60 [==============================] - 0s 1ms/step - loss: 0.5862 - accuracy: 0.6633 - val_loss: 0.6148 - val_accuracy: 0.6786\n",
            "Epoch 37/150\n",
            "60/60 [==============================] - 0s 1ms/step - loss: 0.5860 - accuracy: 0.6633 - val_loss: 0.6269 - val_accuracy: 0.6905\n",
            "Epoch 38/150\n",
            "60/60 [==============================] - 0s 1ms/step - loss: 0.5810 - accuracy: 0.6833 - val_loss: 0.6561 - val_accuracy: 0.6071\n",
            "Epoch 39/150\n",
            "60/60 [==============================] - 0s 1ms/step - loss: 0.5992 - accuracy: 0.6833 - val_loss: 0.6205 - val_accuracy: 0.6845\n",
            "Epoch 40/150\n",
            "60/60 [==============================] - 0s 1ms/step - loss: 0.5903 - accuracy: 0.6767 - val_loss: 0.6648 - val_accuracy: 0.5714\n",
            "Epoch 41/150\n",
            "60/60 [==============================] - 0s 1ms/step - loss: 0.5857 - accuracy: 0.6667 - val_loss: 0.6327 - val_accuracy: 0.5833\n",
            "Epoch 42/150\n",
            "60/60 [==============================] - 0s 1ms/step - loss: 0.5952 - accuracy: 0.6683 - val_loss: 0.6256 - val_accuracy: 0.6310\n",
            "Epoch 43/150\n",
            "60/60 [==============================] - 0s 1ms/step - loss: 0.5741 - accuracy: 0.6833 - val_loss: 0.6261 - val_accuracy: 0.6488\n",
            "Epoch 44/150\n",
            "60/60 [==============================] - 0s 1ms/step - loss: 0.5859 - accuracy: 0.6700 - val_loss: 0.6328 - val_accuracy: 0.6310\n",
            "Epoch 45/150\n",
            "60/60 [==============================] - 0s 1ms/step - loss: 0.5810 - accuracy: 0.6717 - val_loss: 0.6098 - val_accuracy: 0.6845\n",
            "Epoch 46/150\n",
            "60/60 [==============================] - 0s 1ms/step - loss: 0.5795 - accuracy: 0.6733 - val_loss: 0.6357 - val_accuracy: 0.6786\n",
            "Epoch 47/150\n",
            "60/60 [==============================] - 0s 1ms/step - loss: 0.5792 - accuracy: 0.6700 - val_loss: 0.6284 - val_accuracy: 0.6726\n",
            "Epoch 48/150\n",
            "60/60 [==============================] - 0s 1ms/step - loss: 0.5923 - accuracy: 0.6767 - val_loss: 0.6157 - val_accuracy: 0.6071\n",
            "Epoch 49/150\n",
            "60/60 [==============================] - 0s 1ms/step - loss: 0.5815 - accuracy: 0.6750 - val_loss: 0.6042 - val_accuracy: 0.6488\n",
            "Epoch 50/150\n",
            "60/60 [==============================] - 0s 1ms/step - loss: 0.5836 - accuracy: 0.6817 - val_loss: 0.6177 - val_accuracy: 0.6905\n",
            "Epoch 51/150\n",
            "60/60 [==============================] - 0s 2ms/step - loss: 0.5964 - accuracy: 0.6683 - val_loss: 0.6433 - val_accuracy: 0.6786\n",
            "Epoch 52/150\n",
            "60/60 [==============================] - 0s 1ms/step - loss: 0.5800 - accuracy: 0.6883 - val_loss: 0.6206 - val_accuracy: 0.6310\n",
            "Epoch 53/150\n",
            "60/60 [==============================] - 0s 1ms/step - loss: 0.5800 - accuracy: 0.6667 - val_loss: 0.6081 - val_accuracy: 0.7083\n",
            "Epoch 54/150\n",
            "60/60 [==============================] - 0s 1ms/step - loss: 0.5891 - accuracy: 0.6567 - val_loss: 0.6212 - val_accuracy: 0.6190\n",
            "Epoch 55/150\n",
            "60/60 [==============================] - 0s 1ms/step - loss: 0.5803 - accuracy: 0.6733 - val_loss: 0.6092 - val_accuracy: 0.7024\n",
            "Epoch 56/150\n",
            "60/60 [==============================] - 0s 1ms/step - loss: 0.5737 - accuracy: 0.6850 - val_loss: 0.6159 - val_accuracy: 0.6131\n",
            "Epoch 57/150\n",
            "60/60 [==============================] - 0s 1ms/step - loss: 0.5672 - accuracy: 0.6850 - val_loss: 0.5956 - val_accuracy: 0.7083\n",
            "Epoch 58/150\n",
            "60/60 [==============================] - 0s 1ms/step - loss: 0.5727 - accuracy: 0.6883 - val_loss: 0.6431 - val_accuracy: 0.6488\n",
            "Epoch 59/150\n",
            "60/60 [==============================] - 0s 1ms/step - loss: 0.5673 - accuracy: 0.6667 - val_loss: 0.5993 - val_accuracy: 0.6905\n",
            "Epoch 60/150\n",
            "60/60 [==============================] - 0s 1ms/step - loss: 0.5853 - accuracy: 0.6883 - val_loss: 0.6696 - val_accuracy: 0.6667\n",
            "Epoch 61/150\n",
            "60/60 [==============================] - 0s 1ms/step - loss: 0.5771 - accuracy: 0.6867 - val_loss: 0.6163 - val_accuracy: 0.6964\n",
            "Epoch 62/150\n",
            "60/60 [==============================] - 0s 1ms/step - loss: 0.5651 - accuracy: 0.6883 - val_loss: 0.6009 - val_accuracy: 0.6488\n",
            "Epoch 63/150\n",
            "60/60 [==============================] - 0s 1ms/step - loss: 0.5633 - accuracy: 0.7000 - val_loss: 0.6049 - val_accuracy: 0.7143\n",
            "Epoch 64/150\n",
            "60/60 [==============================] - 0s 2ms/step - loss: 0.5614 - accuracy: 0.6900 - val_loss: 0.6181 - val_accuracy: 0.6667\n",
            "Epoch 65/150\n",
            "60/60 [==============================] - 0s 1ms/step - loss: 0.5675 - accuracy: 0.6767 - val_loss: 0.6202 - val_accuracy: 0.6726\n",
            "Epoch 66/150\n",
            "60/60 [==============================] - 0s 1ms/step - loss: 0.5730 - accuracy: 0.6850 - val_loss: 0.6312 - val_accuracy: 0.5714\n",
            "Epoch 67/150\n",
            "60/60 [==============================] - 0s 1ms/step - loss: 0.5609 - accuracy: 0.6917 - val_loss: 0.5990 - val_accuracy: 0.6726\n",
            "Epoch 68/150\n",
            "60/60 [==============================] - 0s 1ms/step - loss: 0.5772 - accuracy: 0.6950 - val_loss: 0.6220 - val_accuracy: 0.6667\n",
            "Epoch 69/150\n",
            "60/60 [==============================] - 0s 1ms/step - loss: 0.5626 - accuracy: 0.6967 - val_loss: 0.6171 - val_accuracy: 0.6726\n",
            "Epoch 70/150\n",
            "60/60 [==============================] - 0s 2ms/step - loss: 0.5716 - accuracy: 0.6850 - val_loss: 0.6126 - val_accuracy: 0.6845\n",
            "Epoch 71/150\n",
            "60/60 [==============================] - 0s 1ms/step - loss: 0.5704 - accuracy: 0.6883 - val_loss: 0.6111 - val_accuracy: 0.6786\n",
            "Epoch 72/150\n",
            "60/60 [==============================] - 0s 1ms/step - loss: 0.5560 - accuracy: 0.7000 - val_loss: 0.5999 - val_accuracy: 0.6845\n",
            "Epoch 73/150\n",
            "60/60 [==============================] - 0s 1ms/step - loss: 0.5665 - accuracy: 0.6817 - val_loss: 0.6207 - val_accuracy: 0.6905\n",
            "Epoch 74/150\n",
            "60/60 [==============================] - 0s 1ms/step - loss: 0.5690 - accuracy: 0.6983 - val_loss: 0.6144 - val_accuracy: 0.6845\n",
            "Epoch 75/150\n",
            "60/60 [==============================] - 0s 1ms/step - loss: 0.5644 - accuracy: 0.7133 - val_loss: 0.6315 - val_accuracy: 0.6905\n",
            "Epoch 76/150\n",
            "60/60 [==============================] - 0s 2ms/step - loss: 0.5770 - accuracy: 0.6883 - val_loss: 0.6217 - val_accuracy: 0.6667\n",
            "Epoch 77/150\n",
            "60/60 [==============================] - 0s 1ms/step - loss: 0.5608 - accuracy: 0.7200 - val_loss: 0.6070 - val_accuracy: 0.6667\n",
            "Epoch 78/150\n",
            "60/60 [==============================] - 0s 1ms/step - loss: 0.5507 - accuracy: 0.7150 - val_loss: 0.6151 - val_accuracy: 0.6845\n",
            "Epoch 79/150\n",
            "60/60 [==============================] - 0s 1ms/step - loss: 0.5597 - accuracy: 0.7050 - val_loss: 0.6267 - val_accuracy: 0.6845\n",
            "Epoch 80/150\n",
            "60/60 [==============================] - 0s 1ms/step - loss: 0.5485 - accuracy: 0.7267 - val_loss: 0.6086 - val_accuracy: 0.6964\n",
            "Epoch 81/150\n",
            "60/60 [==============================] - 0s 1ms/step - loss: 0.5506 - accuracy: 0.7200 - val_loss: 0.5924 - val_accuracy: 0.7083\n",
            "Epoch 82/150\n",
            "60/60 [==============================] - 0s 1ms/step - loss: 0.5504 - accuracy: 0.7400 - val_loss: 0.6103 - val_accuracy: 0.7202\n",
            "Epoch 83/150\n",
            "60/60 [==============================] - 0s 1ms/step - loss: 0.5536 - accuracy: 0.7333 - val_loss: 0.6144 - val_accuracy: 0.7202\n",
            "Epoch 84/150\n",
            "60/60 [==============================] - 0s 1ms/step - loss: 0.5539 - accuracy: 0.7483 - val_loss: 0.6105 - val_accuracy: 0.6964\n",
            "Epoch 85/150\n",
            "60/60 [==============================] - 0s 1ms/step - loss: 0.5516 - accuracy: 0.7350 - val_loss: 0.6115 - val_accuracy: 0.7083\n",
            "Epoch 86/150\n",
            "60/60 [==============================] - 0s 2ms/step - loss: 0.5493 - accuracy: 0.7183 - val_loss: 0.6068 - val_accuracy: 0.7024\n",
            "Epoch 87/150\n",
            "60/60 [==============================] - 0s 1ms/step - loss: 0.5450 - accuracy: 0.7333 - val_loss: 0.5952 - val_accuracy: 0.7381\n",
            "Epoch 88/150\n",
            "60/60 [==============================] - 0s 2ms/step - loss: 0.5488 - accuracy: 0.7283 - val_loss: 0.6189 - val_accuracy: 0.7083\n",
            "Epoch 89/150\n",
            "60/60 [==============================] - 0s 1ms/step - loss: 0.5547 - accuracy: 0.7433 - val_loss: 0.6171 - val_accuracy: 0.7024\n",
            "Epoch 90/150\n",
            "60/60 [==============================] - 0s 1ms/step - loss: 0.5471 - accuracy: 0.7500 - val_loss: 0.6131 - val_accuracy: 0.7202\n",
            "Epoch 91/150\n",
            "60/60 [==============================] - 0s 1ms/step - loss: 0.5469 - accuracy: 0.7317 - val_loss: 0.5973 - val_accuracy: 0.7381\n",
            "Epoch 92/150\n",
            "60/60 [==============================] - 0s 1ms/step - loss: 0.5427 - accuracy: 0.7450 - val_loss: 0.5915 - val_accuracy: 0.7262\n",
            "Epoch 93/150\n",
            "60/60 [==============================] - 0s 1ms/step - loss: 0.5410 - accuracy: 0.7450 - val_loss: 0.5905 - val_accuracy: 0.7500\n",
            "Epoch 94/150\n",
            "60/60 [==============================] - 0s 1ms/step - loss: 0.5446 - accuracy: 0.7417 - val_loss: 0.5982 - val_accuracy: 0.7500\n",
            "Epoch 95/150\n",
            "60/60 [==============================] - 0s 1ms/step - loss: 0.5381 - accuracy: 0.7383 - val_loss: 0.5901 - val_accuracy: 0.7083\n",
            "Epoch 96/150\n",
            "60/60 [==============================] - 0s 1ms/step - loss: 0.5469 - accuracy: 0.7433 - val_loss: 0.6122 - val_accuracy: 0.7202\n",
            "Epoch 97/150\n",
            "60/60 [==============================] - 0s 1ms/step - loss: 0.5307 - accuracy: 0.7450 - val_loss: 0.5886 - val_accuracy: 0.7798\n",
            "Epoch 98/150\n",
            "60/60 [==============================] - 0s 1ms/step - loss: 0.5389 - accuracy: 0.7483 - val_loss: 0.5899 - val_accuracy: 0.7619\n",
            "Epoch 99/150\n",
            "60/60 [==============================] - 0s 1ms/step - loss: 0.5414 - accuracy: 0.7533 - val_loss: 0.5855 - val_accuracy: 0.7560\n",
            "Epoch 100/150\n",
            "60/60 [==============================] - 0s 1ms/step - loss: 0.5326 - accuracy: 0.7467 - val_loss: 0.5892 - val_accuracy: 0.7143\n",
            "Epoch 101/150\n",
            "60/60 [==============================] - 0s 1ms/step - loss: 0.5334 - accuracy: 0.7467 - val_loss: 0.5871 - val_accuracy: 0.7143\n",
            "Epoch 102/150\n",
            "60/60 [==============================] - 0s 2ms/step - loss: 0.5331 - accuracy: 0.7367 - val_loss: 0.5896 - val_accuracy: 0.7440\n",
            "Epoch 103/150\n",
            "60/60 [==============================] - 0s 1ms/step - loss: 0.5254 - accuracy: 0.7483 - val_loss: 0.5852 - val_accuracy: 0.7560\n",
            "Epoch 104/150\n",
            "60/60 [==============================] - 0s 1ms/step - loss: 0.5357 - accuracy: 0.7467 - val_loss: 0.5864 - val_accuracy: 0.7381\n",
            "Epoch 105/150\n",
            "60/60 [==============================] - 0s 1ms/step - loss: 0.5230 - accuracy: 0.7567 - val_loss: 0.6006 - val_accuracy: 0.7202\n",
            "Epoch 106/150\n",
            "60/60 [==============================] - 0s 1ms/step - loss: 0.5422 - accuracy: 0.7467 - val_loss: 0.5978 - val_accuracy: 0.7202\n",
            "Epoch 107/150\n",
            "60/60 [==============================] - 0s 1ms/step - loss: 0.5386 - accuracy: 0.7417 - val_loss: 0.5906 - val_accuracy: 0.7083\n",
            "Epoch 108/150\n",
            "60/60 [==============================] - 0s 2ms/step - loss: 0.5266 - accuracy: 0.7350 - val_loss: 0.6018 - val_accuracy: 0.7024\n",
            "Epoch 109/150\n",
            "60/60 [==============================] - 0s 2ms/step - loss: 0.5242 - accuracy: 0.7450 - val_loss: 0.5843 - val_accuracy: 0.7321\n",
            "Epoch 110/150\n",
            "60/60 [==============================] - 0s 1ms/step - loss: 0.5238 - accuracy: 0.7617 - val_loss: 0.6326 - val_accuracy: 0.7083\n",
            "Epoch 111/150\n",
            "60/60 [==============================] - 0s 1ms/step - loss: 0.5327 - accuracy: 0.7517 - val_loss: 0.5947 - val_accuracy: 0.7321\n",
            "Epoch 112/150\n",
            "60/60 [==============================] - 0s 1ms/step - loss: 0.5358 - accuracy: 0.7383 - val_loss: 0.5996 - val_accuracy: 0.7321\n",
            "Epoch 113/150\n",
            "60/60 [==============================] - 0s 1ms/step - loss: 0.5238 - accuracy: 0.7467 - val_loss: 0.5911 - val_accuracy: 0.6964\n",
            "Epoch 114/150\n",
            "60/60 [==============================] - 0s 1ms/step - loss: 0.5272 - accuracy: 0.7667 - val_loss: 0.6128 - val_accuracy: 0.7321\n",
            "Epoch 115/150\n",
            "60/60 [==============================] - 0s 1ms/step - loss: 0.5217 - accuracy: 0.7483 - val_loss: 0.5794 - val_accuracy: 0.7321\n",
            "Epoch 116/150\n",
            "60/60 [==============================] - 0s 1ms/step - loss: 0.5303 - accuracy: 0.7383 - val_loss: 0.5856 - val_accuracy: 0.7321\n",
            "Epoch 117/150\n",
            "60/60 [==============================] - 0s 2ms/step - loss: 0.5192 - accuracy: 0.7550 - val_loss: 0.5849 - val_accuracy: 0.7381\n",
            "Epoch 118/150\n",
            "60/60 [==============================] - 0s 1ms/step - loss: 0.5259 - accuracy: 0.7500 - val_loss: 0.5756 - val_accuracy: 0.7440\n",
            "Epoch 119/150\n",
            "60/60 [==============================] - 0s 1ms/step - loss: 0.5229 - accuracy: 0.7333 - val_loss: 0.5898 - val_accuracy: 0.7262\n",
            "Epoch 120/150\n",
            "60/60 [==============================] - 0s 1ms/step - loss: 0.5233 - accuracy: 0.7483 - val_loss: 0.6096 - val_accuracy: 0.7381\n",
            "Epoch 121/150\n",
            "60/60 [==============================] - 0s 2ms/step - loss: 0.5239 - accuracy: 0.7517 - val_loss: 0.5867 - val_accuracy: 0.7500\n",
            "Epoch 122/150\n",
            "60/60 [==============================] - 0s 1ms/step - loss: 0.5281 - accuracy: 0.7317 - val_loss: 0.5956 - val_accuracy: 0.7143\n",
            "Epoch 123/150\n",
            "60/60 [==============================] - 0s 2ms/step - loss: 0.5209 - accuracy: 0.7433 - val_loss: 0.5845 - val_accuracy: 0.7262\n",
            "Epoch 124/150\n",
            "60/60 [==============================] - 0s 1ms/step - loss: 0.5129 - accuracy: 0.7500 - val_loss: 0.6052 - val_accuracy: 0.7024\n",
            "Epoch 125/150\n",
            "60/60 [==============================] - 0s 2ms/step - loss: 0.5119 - accuracy: 0.7583 - val_loss: 0.5926 - val_accuracy: 0.7202\n",
            "Epoch 126/150\n",
            "60/60 [==============================] - 0s 1ms/step - loss: 0.5282 - accuracy: 0.7350 - val_loss: 0.5925 - val_accuracy: 0.7202\n",
            "Epoch 127/150\n",
            "60/60 [==============================] - 0s 1ms/step - loss: 0.5165 - accuracy: 0.7350 - val_loss: 0.5909 - val_accuracy: 0.7381\n",
            "Epoch 128/150\n",
            "60/60 [==============================] - 0s 2ms/step - loss: 0.5126 - accuracy: 0.7333 - val_loss: 0.6064 - val_accuracy: 0.7202\n",
            "Epoch 129/150\n",
            "60/60 [==============================] - 0s 1ms/step - loss: 0.5130 - accuracy: 0.7533 - val_loss: 0.5897 - val_accuracy: 0.7143\n",
            "Epoch 130/150\n",
            "60/60 [==============================] - 0s 1ms/step - loss: 0.5088 - accuracy: 0.7467 - val_loss: 0.5912 - val_accuracy: 0.7262\n",
            "Epoch 131/150\n",
            "60/60 [==============================] - 0s 2ms/step - loss: 0.5256 - accuracy: 0.7600 - val_loss: 0.6019 - val_accuracy: 0.7262\n",
            "Epoch 132/150\n",
            "60/60 [==============================] - 0s 2ms/step - loss: 0.5179 - accuracy: 0.7467 - val_loss: 0.5772 - val_accuracy: 0.7381\n",
            "Epoch 133/150\n",
            "60/60 [==============================] - 0s 1ms/step - loss: 0.5067 - accuracy: 0.7583 - val_loss: 0.5993 - val_accuracy: 0.7440\n",
            "Epoch 134/150\n",
            "60/60 [==============================] - 0s 1ms/step - loss: 0.5217 - accuracy: 0.7500 - val_loss: 0.5963 - val_accuracy: 0.7083\n",
            "Epoch 135/150\n",
            "60/60 [==============================] - 0s 1ms/step - loss: 0.5048 - accuracy: 0.7583 - val_loss: 0.5945 - val_accuracy: 0.7083\n",
            "Epoch 136/150\n",
            "60/60 [==============================] - 0s 1ms/step - loss: 0.5147 - accuracy: 0.7517 - val_loss: 0.5836 - val_accuracy: 0.7202\n",
            "Epoch 137/150\n",
            "60/60 [==============================] - 0s 1ms/step - loss: 0.5045 - accuracy: 0.7500 - val_loss: 0.5804 - val_accuracy: 0.7262\n",
            "Epoch 138/150\n",
            "60/60 [==============================] - 0s 1ms/step - loss: 0.5086 - accuracy: 0.7483 - val_loss: 0.5798 - val_accuracy: 0.7202\n",
            "Epoch 139/150\n",
            "60/60 [==============================] - 0s 1ms/step - loss: 0.5088 - accuracy: 0.7450 - val_loss: 0.5800 - val_accuracy: 0.7381\n",
            "Epoch 140/150\n",
            "60/60 [==============================] - 0s 1ms/step - loss: 0.5138 - accuracy: 0.7400 - val_loss: 0.5739 - val_accuracy: 0.7202\n",
            "Epoch 141/150\n",
            "60/60 [==============================] - 0s 901us/step - loss: 0.5003 - accuracy: 0.7483 - val_loss: 0.5810 - val_accuracy: 0.7381\n",
            "Epoch 142/150\n",
            "60/60 [==============================] - 0s 1ms/step - loss: 0.5050 - accuracy: 0.7367 - val_loss: 0.5998 - val_accuracy: 0.7262\n",
            "Epoch 143/150\n",
            "60/60 [==============================] - 0s 2ms/step - loss: 0.5076 - accuracy: 0.7567 - val_loss: 0.5813 - val_accuracy: 0.7262\n",
            "Epoch 144/150\n",
            "60/60 [==============================] - 0s 2ms/step - loss: 0.5017 - accuracy: 0.7583 - val_loss: 0.5760 - val_accuracy: 0.7440\n",
            "Epoch 145/150\n",
            "60/60 [==============================] - 0s 1ms/step - loss: 0.5011 - accuracy: 0.7400 - val_loss: 0.5735 - val_accuracy: 0.7440\n",
            "Epoch 146/150\n",
            "60/60 [==============================] - 0s 1ms/step - loss: 0.4988 - accuracy: 0.7633 - val_loss: 0.5772 - val_accuracy: 0.7083\n",
            "Epoch 147/150\n",
            "60/60 [==============================] - 0s 1ms/step - loss: 0.5033 - accuracy: 0.7650 - val_loss: 0.5871 - val_accuracy: 0.7500\n",
            "Epoch 148/150\n",
            "60/60 [==============================] - 0s 1ms/step - loss: 0.4987 - accuracy: 0.7517 - val_loss: 0.5735 - val_accuracy: 0.7321\n",
            "Epoch 149/150\n",
            "60/60 [==============================] - 0s 1ms/step - loss: 0.5016 - accuracy: 0.7500 - val_loss: 0.5767 - val_accuracy: 0.7202\n",
            "Epoch 150/150\n",
            "60/60 [==============================] - 0s 1ms/step - loss: 0.4966 - accuracy: 0.7600 - val_loss: 0.5724 - val_accuracy: 0.7143\n"
          ],
          "name": "stdout"
        }
      ]
    },
    {
      "cell_type": "code",
      "metadata": {
        "colab": {
          "base_uri": "https://localhost:8080/",
          "height": 313
        },
        "id": "31lyImw0oLoB",
        "outputId": "97ed2525-fd96-4045-835b-0af466cf884c"
      },
      "source": [
        "epochs = 150\n",
        "\n",
        "acc_list = [100 * i for i in hist.history['accuracy']]\n",
        "vacc_list = [100 * i for i in hist.history['val_accuracy']]\n",
        "loss_list = hist.history['loss'] #[100 * i for i in history.history['loss']]\n",
        "vloss_list = hist.history['val_loss'] #[100 * i for i in history.history['val_loss']]\n",
        "\n",
        "\n",
        "plt.plot(range(1,epochs+1),acc_list)  \n",
        "plt.plot(range(1,epochs+1),vacc_list)  \n",
        "plt.plot(np.argmax(np.array(vacc_list))+1,vacc_list[np.argmax(np.array(vacc_list))], 'r*')\n",
        "plt.title('DL of diabetes: Model accuracy')\n",
        "plt.ylabel('Accuracy (%)')\n",
        "plt.xlabel('Epoch')\n",
        "plt.legend(['accuracy','val_accuracy','best'], loc='best')\n",
        "\n",
        "\n"
      ],
      "execution_count": null,
      "outputs": [
        {
          "output_type": "execute_result",
          "data": {
            "text/plain": [
              "<matplotlib.legend.Legend at 0x7f097f92d198>"
            ]
          },
          "metadata": {
            "tags": []
          },
          "execution_count": 8
        },
        {
          "output_type": "display_data",
          "data": {
            "image/png": "[encoded data removed]",
            "text/plain": [
              "<Figure size 432x288 with 1 Axes>"
            ]
          },
          "metadata": {
            "tags": [],
            "needs_background": "light"
          }
        }
      ]
    },
    {
      "cell_type": "code",
      "metadata": {
        "colab": {
          "base_uri": "https://localhost:8080/"
        },
        "id": "i-owBe_-nLfL",
        "outputId": "3c9ae410-be9b-4922-cbb7-44075cd789cc"
      },
      "source": [
        "# model performance\n",
        "model.evaluate(X_test, y_test)"
      ],
      "execution_count": null,
      "outputs": [
        {
          "output_type": "stream",
          "text": [
            "6/6 [==============================] - 0s 1ms/step - loss: 0.5724 - accuracy: 0.7143\n"
          ],
          "name": "stdout"
        },
        {
          "output_type": "execute_result",
          "data": {
            "text/plain": [
              "[0.5724309682846069, 0.7142857313156128]"
            ]
          },
          "metadata": {
            "tags": []
          },
          "execution_count": 9
        }
      ]
    },
    {
      "cell_type": "code",
      "metadata": {
        "colab": {
          "base_uri": "https://localhost:8080/"
        },
        "id": "cv0lPPtdbZIt",
        "outputId": "fe016d90-3940-4af1-a76d-feeefac21067"
      },
      "source": [
        "y_train[:5],y_train.shape"
      ],
      "execution_count": null,
      "outputs": [
        {
          "output_type": "execute_result",
          "data": {
            "text/plain": [
              "(0    1\n",
              " 1    0\n",
              " 2    1\n",
              " 3    0\n",
              " 4    1\n",
              " Name: Outcome, dtype: int64, (600,))"
            ]
          },
          "metadata": {
            "tags": []
          },
          "execution_count": 10
        }
      ]
    },
    {
      "cell_type": "code",
      "metadata": {
        "colab": {
          "base_uri": "https://localhost:8080/"
        },
        "id": "u10xb1P7b-QT",
        "outputId": "8d46eb43-9ed6-467c-af6f-d34188ada3a4"
      },
      "source": [
        "model.predict(X_train)[0:5],[int(np.round(prob)) for prob in model.predict(X_train)[0:5]]"
      ],
      "execution_count": null,
      "outputs": [
        {
          "output_type": "execute_result",
          "data": {
            "text/plain": [
              "(array([[0.49979305],\n",
              "        [0.07781082],\n",
              "        [0.7353828 ],\n",
              "        [0.22246677],\n",
              "        [0.6603559 ]], dtype=float32), [0, 0, 1, 0, 1])"
            ]
          },
          "metadata": {
            "tags": []
          },
          "execution_count": 11
        }
      ]
    },
    {
      "cell_type": "code",
      "metadata": {
        "colab": {
          "base_uri": "https://localhost:8080/"
        },
        "id": "p88uIn2gdA_E",
        "outputId": "18ff82e4-989c-46e8-b867-fc931c153b65"
      },
      "source": [
        "# the first data in trainset\n",
        "X_train.iloc[0].tolist()"
      ],
      "execution_count": null,
      "outputs": [
        {
          "output_type": "execute_result",
          "data": {
            "text/plain": [
              "[6.0, 148.0, 72.0, 35.0, 0.0, 33.6, 0.627, 50.0]"
            ]
          },
          "metadata": {
            "tags": []
          },
          "execution_count": 12
        }
      ]
    },
    {
      "cell_type": "code",
      "metadata": {
        "colab": {
          "base_uri": "https://localhost:8080/"
        },
        "id": "9hu9yuFijM30",
        "outputId": "af3e27b8-ce19-4ce1-a909-a3ab9b145e50"
      },
      "source": [
        "X_test.shape"
      ],
      "execution_count": null,
      "outputs": [
        {
          "output_type": "execute_result",
          "data": {
            "text/plain": [
              "(168, 8)"
            ]
          },
          "metadata": {
            "tags": []
          },
          "execution_count": 13
        }
      ]
    },
    {
      "cell_type": "code",
      "metadata": {
        "colab": {
          "base_uri": "https://localhost:8080/"
        },
        "id": "-QBxuYwBje4t",
        "outputId": "3e5619fe-0bcc-440e-fff5-7612a6e3cbde"
      },
      "source": [
        "y_test[:10].values"
      ],
      "execution_count": null,
      "outputs": [
        {
          "output_type": "execute_result",
          "data": {
            "text/plain": [
              "array([0, 0, 0, 1, 1, 0, 1, 0, 0, 0])"
            ]
          },
          "metadata": {
            "tags": []
          },
          "execution_count": 14
        }
      ]
    },
    {
      "cell_type": "code",
      "metadata": {
        "colab": {
          "base_uri": "https://localhost:8080/"
        },
        "id": "0qKhHR2BkDj1",
        "outputId": "10a4172c-5f3e-498a-ca1f-e4a97428c3c6"
      },
      "source": [
        "X_test.iloc[0].values.tolist(),y_test.iloc[0]"
      ],
      "execution_count": null,
      "outputs": [
        {
          "output_type": "execute_result",
          "data": {
            "text/plain": [
              "([1.0, 108.0, 88.0, 19.0, 0.0, 27.1, 0.4, 24.0], 0)"
            ]
          },
          "metadata": {
            "tags": []
          },
          "execution_count": 15
        }
      ]
    },
    {
      "cell_type": "code",
      "metadata": {
        "colab": {
          "base_uri": "https://localhost:8080/"
        },
        "id": "8C7SkexxkS5c",
        "outputId": "4eb10d5c-ad4e-45aa-c096-e5a3fb199198"
      },
      "source": [
        "# make class predictions for test data with the model\n",
        "predictions = [int(np.round(prob)) for prob in model.predict(X_test)]\n",
        "predictions[:10]"
      ],
      "execution_count": null,
      "outputs": [
        {
          "output_type": "execute_result",
          "data": {
            "text/plain": [
              "[0, 0, 0, 0, 1, 1, 1, 0, 0, 0]"
            ]
          },
          "metadata": {
            "tags": []
          },
          "execution_count": 16
        }
      ]
    },
    {
      "cell_type": "code",
      "metadata": {
        "colab": {
          "base_uri": "https://localhost:8080/"
        },
        "id": "-l8Or1_8YV8H",
        "outputId": "57738ffe-afd7-4a04-ec4c-4c733086d376"
      },
      "source": [
        "# summarize the first 10 cases in testset\n",
        "for i in range(10):\n",
        "   print('%s => %d (expected %d)' % (X_test.iloc[i].values.tolist(), predictions[i], y_test.iloc[i]))"
      ],
      "execution_count": null,
      "outputs": [
        {
          "output_type": "stream",
          "text": [
            "[1.0, 108.0, 88.0, 19.0, 0.0, 27.1, 0.4, 24.0] => 0 (expected 0)\n",
            "[6.0, 96.0, 0.0, 0.0, 0.0, 23.7, 0.19, 28.0] => 0 (expected 0)\n",
            "[1.0, 124.0, 74.0, 36.0, 0.0, 27.8, 0.1, 30.0] => 0 (expected 0)\n",
            "[7.0, 150.0, 78.0, 29.0, 126.0, 35.2, 0.6920000000000001, 54.0] => 0 (expected 1)\n",
            "[4.0, 183.0, 0.0, 0.0, 0.0, 28.4, 0.212, 36.0] => 1 (expected 1)\n",
            "[1.0, 124.0, 60.0, 32.0, 0.0, 35.8, 0.514, 21.0] => 1 (expected 0)\n",
            "[1.0, 181.0, 78.0, 42.0, 293.0, 40.0, 1.258, 22.0] => 1 (expected 1)\n",
            "[1.0, 92.0, 62.0, 25.0, 41.0, 19.5, 0.48200000000000004, 25.0] => 0 (expected 0)\n",
            "[0.0, 152.0, 82.0, 39.0, 272.0, 41.5, 0.27, 27.0] => 0 (expected 0)\n",
            "[1.0, 111.0, 62.0, 13.0, 182.0, 24.0, 0.138, 23.0] => 0 (expected 0)\n"
          ],
          "name": "stdout"
        }
      ]
    },
    {
      "cell_type": "markdown",
      "metadata": {
        "id": "zCh-95EO_-17"
      },
      "source": [
        "### Confusion matrix"
      ]
    },
    {
      "cell_type": "code",
      "metadata": {
        "id": "i4QJwcVvADpU"
      },
      "source": [
        "import seaborn as sns\n",
        "from sklearn.metrics import confusion_matrix"
      ],
      "execution_count": null,
      "outputs": []
    },
    {
      "cell_type": "code",
      "metadata": {
        "id": "hiPMQeYXt12l"
      },
      "source": [
        "cm = confusion_matrix(y_test, predictions)"
      ],
      "execution_count": null,
      "outputs": []
    },
    {
      "cell_type": "code",
      "metadata": {
        "id": "YITaGwYjvatc"
      },
      "source": [
        "class_names = ['noDM','DM']"
      ],
      "execution_count": null,
      "outputs": []
    },
    {
      "cell_type": "code",
      "metadata": {
        "id": "2qGHMNU3u8ut",
        "colab": {
          "base_uri": "https://localhost:8080/",
          "height": 334
        },
        "outputId": "ed9da417-8ec2-4b47-a349-88c6060cd379"
      },
      "source": [
        "plt.figure(figsize=(5,5))\n",
        "sns.heatmap(cm, cbar=False, xticklabels=class_names, yticklabels=class_names, fmt='d', annot=True, cmap=plt.cm.coolwarm)\n",
        "plt.xlabel('Predicted')\n",
        "plt.ylabel('Actual')\n",
        "plt.show()"
      ],
      "execution_count": null,
      "outputs": [
        {
          "output_type": "display_data",
          "data": {
            "image/png": "[encoded data removed]",
            "text/plain": [
              "<Figure size 360x360 with 1 Axes>"
            ]
          },
          "metadata": {
            "tags": [],
            "needs_background": "light"
          }
        }
      ]
    },
    {
      "cell_type": "markdown",
      "metadata": {
        "id": "xG6RmEh-rECP"
      },
      "source": [
        "## [DIY-1] Save the best model\n",
        "- hdf5 file"
      ]
    },
    {
      "cell_type": "code",
      "metadata": {
        "id": "UVgMnQNMrqL4"
      },
      "source": [
        "# define the keras model\n",
        "model2 = Sequential([\n",
        "    Dense(16, input_dim=8, activation='relu'),\n",
        "    Dense(8, activation='relu'), \n",
        "    Dense(1, activation='sigmoid')                 \n",
        "])\n",
        "# compile the keras model\n",
        "model2.compile(loss='binary_crossentropy', \n",
        "              optimizer='adam', \n",
        "              metrics=['accuracy'])\n"
      ],
      "execution_count": null,
      "outputs": []
    },
    {
      "cell_type": "markdown",
      "metadata": {
        "id": "JjB5zR4vsUHw"
      },
      "source": [
        "### callbacks"
      ]
    },
    {
      "cell_type": "code",
      "metadata": {
        "id": "V20fWcM4sTAk"
      },
      "source": [
        "cp_callback = callbacks.ModelCheckpoint(filepath=\"./diabetes_DL_best_weights.{epoch:03d}-{val_accuracy:.4f}.hdf5\", \n",
        "                              monitor='val_accuracy', verbose=0, save_best_only=True)\n",
        "es_callback = callbacks.EarlyStopping(monitor='val_accuracy', \n",
        "                            mode='max', verbose=1, patience=50)    # patience=10, 20, 50"
      ],
      "execution_count": null,
      "outputs": []
    },
    {
      "cell_type": "code",
      "metadata": {
        "colab": {
          "base_uri": "https://localhost:8080/"
        },
        "id": "hjNTHDcurqL5",
        "outputId": "7e375f41-2d2d-4b51-ee5e-6b2d7b8e08e2"
      },
      "source": [
        "# fit the keras model on the dataset\n",
        "hist = model2.fit(X_train, y_train, epochs=500, batch_size=10, verbose=1, \n",
        "                  callbacks=[cp_callback, es_callback], \n",
        "                  validation_data=(X_test, y_test))\n"
      ],
      "execution_count": null,
      "outputs": [
        {
          "output_type": "stream",
          "text": [
            "Epoch 1/500\n",
            "60/60 [==============================] - 0s 4ms/step - loss: 1.7609 - accuracy: 0.5683 - val_loss: 1.0584 - val_accuracy: 0.5893\n",
            "Epoch 2/500\n",
            "60/60 [==============================] - 0s 1ms/step - loss: 1.0213 - accuracy: 0.6417 - val_loss: 0.9578 - val_accuracy: 0.5417\n",
            "Epoch 3/500\n",
            "60/60 [==============================] - 0s 1ms/step - loss: 0.8877 - accuracy: 0.6383 - val_loss: 0.7884 - val_accuracy: 0.6131\n",
            "Epoch 4/500\n",
            "60/60 [==============================] - 0s 1ms/step - loss: 0.7774 - accuracy: 0.6767 - val_loss: 0.7643 - val_accuracy: 0.5833\n",
            "Epoch 5/500\n",
            "60/60 [==============================] - 0s 2ms/step - loss: 0.7362 - accuracy: 0.6500 - val_loss: 0.7572 - val_accuracy: 0.5714\n",
            "Epoch 6/500\n",
            "60/60 [==============================] - 0s 1ms/step - loss: 0.7172 - accuracy: 0.6450 - val_loss: 0.7019 - val_accuracy: 0.5536\n",
            "Epoch 7/500\n",
            "60/60 [==============================] - 0s 1ms/step - loss: 0.6822 - accuracy: 0.6500 - val_loss: 0.6819 - val_accuracy: 0.5774\n",
            "Epoch 8/500\n",
            "60/60 [==============================] - 0s 1ms/step - loss: 0.6593 - accuracy: 0.6700 - val_loss: 0.6590 - val_accuracy: 0.6012\n",
            "Epoch 9/500\n",
            "60/60 [==============================] - 0s 2ms/step - loss: 0.6463 - accuracy: 0.6633 - val_loss: 0.6550 - val_accuracy: 0.6548\n",
            "Epoch 10/500\n",
            "60/60 [==============================] - 0s 1ms/step - loss: 0.6337 - accuracy: 0.6717 - val_loss: 0.6568 - val_accuracy: 0.6548\n",
            "Epoch 11/500\n",
            "60/60 [==============================] - 0s 1ms/step - loss: 0.6512 - accuracy: 0.6717 - val_loss: 0.6364 - val_accuracy: 0.6488\n",
            "Epoch 12/500\n",
            "60/60 [==============================] - 0s 1ms/step - loss: 0.6231 - accuracy: 0.6900 - val_loss: 0.6431 - val_accuracy: 0.6369\n",
            "Epoch 13/500\n",
            "60/60 [==============================] - 0s 1ms/step - loss: 0.6114 - accuracy: 0.6883 - val_loss: 0.6228 - val_accuracy: 0.6429\n",
            "Epoch 14/500\n",
            "60/60 [==============================] - 0s 1ms/step - loss: 0.5933 - accuracy: 0.6950 - val_loss: 0.6447 - val_accuracy: 0.6250\n",
            "Epoch 15/500\n",
            "60/60 [==============================] - 0s 1ms/step - loss: 0.6062 - accuracy: 0.6967 - val_loss: 0.6230 - val_accuracy: 0.6369\n",
            "Epoch 16/500\n",
            "60/60 [==============================] - 0s 1ms/step - loss: 0.5914 - accuracy: 0.7100 - val_loss: 0.6233 - val_accuracy: 0.6369\n",
            "Epoch 17/500\n",
            "60/60 [==============================] - 0s 2ms/step - loss: 0.5910 - accuracy: 0.6917 - val_loss: 0.6117 - val_accuracy: 0.6607\n",
            "Epoch 18/500\n",
            "60/60 [==============================] - 0s 2ms/step - loss: 0.5847 - accuracy: 0.6900 - val_loss: 0.6027 - val_accuracy: 0.6786\n",
            "Epoch 19/500\n",
            "60/60 [==============================] - 0s 1ms/step - loss: 0.5874 - accuracy: 0.6967 - val_loss: 0.7193 - val_accuracy: 0.5536\n",
            "Epoch 20/500\n",
            "60/60 [==============================] - 0s 1ms/step - loss: 0.5864 - accuracy: 0.7083 - val_loss: 0.6179 - val_accuracy: 0.6786\n",
            "Epoch 21/500\n",
            "60/60 [==============================] - 0s 1ms/step - loss: 0.5665 - accuracy: 0.7133 - val_loss: 0.5941 - val_accuracy: 0.6667\n",
            "Epoch 22/500\n",
            "60/60 [==============================] - 0s 1ms/step - loss: 0.5762 - accuracy: 0.7150 - val_loss: 0.6382 - val_accuracy: 0.6607\n",
            "Epoch 23/500\n",
            "60/60 [==============================] - 0s 1ms/step - loss: 0.5677 - accuracy: 0.7150 - val_loss: 0.6083 - val_accuracy: 0.6488\n",
            "Epoch 24/500\n",
            "60/60 [==============================] - 0s 1ms/step - loss: 0.5662 - accuracy: 0.7033 - val_loss: 0.5986 - val_accuracy: 0.6667\n",
            "Epoch 25/500\n",
            "60/60 [==============================] - 0s 2ms/step - loss: 0.5603 - accuracy: 0.7117 - val_loss: 0.5982 - val_accuracy: 0.6726\n",
            "Epoch 26/500\n",
            "60/60 [==============================] - 0s 1ms/step - loss: 0.5695 - accuracy: 0.7083 - val_loss: 0.6210 - val_accuracy: 0.6607\n",
            "Epoch 27/500\n",
            "60/60 [==============================] - 0s 1ms/step - loss: 0.5621 - accuracy: 0.7200 - val_loss: 0.6251 - val_accuracy: 0.6726\n",
            "Epoch 28/500\n",
            "60/60 [==============================] - 0s 1ms/step - loss: 0.5834 - accuracy: 0.6850 - val_loss: 0.6015 - val_accuracy: 0.6667\n",
            "Epoch 29/500\n",
            "60/60 [==============================] - 0s 1ms/step - loss: 0.5536 - accuracy: 0.7217 - val_loss: 0.6199 - val_accuracy: 0.6726\n",
            "Epoch 30/500\n",
            "60/60 [==============================] - 0s 1ms/step - loss: 0.5642 - accuracy: 0.7167 - val_loss: 0.6282 - val_accuracy: 0.6607\n",
            "Epoch 31/500\n",
            "60/60 [==============================] - 0s 1ms/step - loss: 0.5721 - accuracy: 0.7000 - val_loss: 0.5981 - val_accuracy: 0.6786\n",
            "Epoch 32/500\n",
            "60/60 [==============================] - 0s 1ms/step - loss: 0.5565 - accuracy: 0.7200 - val_loss: 0.6384 - val_accuracy: 0.6310\n",
            "Epoch 33/500\n",
            "60/60 [==============================] - 0s 2ms/step - loss: 0.5727 - accuracy: 0.7217 - val_loss: 0.5970 - val_accuracy: 0.6845\n",
            "Epoch 34/500\n",
            "60/60 [==============================] - 0s 1ms/step - loss: 0.5580 - accuracy: 0.7133 - val_loss: 0.6112 - val_accuracy: 0.6548\n",
            "Epoch 35/500\n",
            "60/60 [==============================] - 0s 1ms/step - loss: 0.5577 - accuracy: 0.7033 - val_loss: 0.6208 - val_accuracy: 0.6607\n",
            "Epoch 36/500\n",
            "60/60 [==============================] - 0s 2ms/step - loss: 0.5615 - accuracy: 0.6967 - val_loss: 0.5848 - val_accuracy: 0.6964\n",
            "Epoch 37/500\n",
            "60/60 [==============================] - 0s 2ms/step - loss: 0.5582 - accuracy: 0.7133 - val_loss: 0.5825 - val_accuracy: 0.7083\n",
            "Epoch 38/500\n",
            "60/60 [==============================] - 0s 1ms/step - loss: 0.5508 - accuracy: 0.7100 - val_loss: 0.6070 - val_accuracy: 0.6607\n",
            "Epoch 39/500\n",
            "60/60 [==============================] - 0s 1ms/step - loss: 0.5464 - accuracy: 0.7183 - val_loss: 0.5856 - val_accuracy: 0.6964\n",
            "Epoch 40/500\n",
            "60/60 [==============================] - 0s 1ms/step - loss: 0.5623 - accuracy: 0.7217 - val_loss: 0.5959 - val_accuracy: 0.6607\n",
            "Epoch 41/500\n",
            "60/60 [==============================] - 0s 2ms/step - loss: 0.5524 - accuracy: 0.7350 - val_loss: 0.6187 - val_accuracy: 0.6488\n",
            "Epoch 42/500\n",
            "60/60 [==============================] - 0s 1ms/step - loss: 0.5482 - accuracy: 0.7050 - val_loss: 0.5841 - val_accuracy: 0.6726\n",
            "Epoch 43/500\n",
            "60/60 [==============================] - 0s 1ms/step - loss: 0.5346 - accuracy: 0.7233 - val_loss: 0.6269 - val_accuracy: 0.6667\n",
            "Epoch 44/500\n",
            "60/60 [==============================] - 0s 1ms/step - loss: 0.5654 - accuracy: 0.7233 - val_loss: 0.6023 - val_accuracy: 0.7024\n",
            "Epoch 45/500\n",
            "60/60 [==============================] - 0s 1ms/step - loss: 0.5437 - accuracy: 0.7350 - val_loss: 0.5882 - val_accuracy: 0.7024\n",
            "Epoch 46/500\n",
            "60/60 [==============================] - 0s 1ms/step - loss: 0.5405 - accuracy: 0.7150 - val_loss: 0.5856 - val_accuracy: 0.6667\n",
            "Epoch 47/500\n",
            "60/60 [==============================] - 0s 1ms/step - loss: 0.5393 - accuracy: 0.7233 - val_loss: 0.5853 - val_accuracy: 0.6905\n",
            "Epoch 48/500\n",
            "60/60 [==============================] - 0s 1ms/step - loss: 0.5503 - accuracy: 0.7167 - val_loss: 0.6258 - val_accuracy: 0.6667\n",
            "Epoch 49/500\n",
            "60/60 [==============================] - 0s 1ms/step - loss: 0.5447 - accuracy: 0.7400 - val_loss: 0.5899 - val_accuracy: 0.6845\n",
            "Epoch 50/500\n",
            "60/60 [==============================] - 0s 1ms/step - loss: 0.5352 - accuracy: 0.7350 - val_loss: 0.5898 - val_accuracy: 0.6786\n",
            "Epoch 51/500\n",
            "60/60 [==============================] - 0s 1ms/step - loss: 0.5453 - accuracy: 0.7150 - val_loss: 0.6007 - val_accuracy: 0.6905\n",
            "Epoch 52/500\n",
            "60/60 [==============================] - 0s 1ms/step - loss: 0.5505 - accuracy: 0.7083 - val_loss: 0.6240 - val_accuracy: 0.6845\n",
            "Epoch 53/500\n",
            "60/60 [==============================] - 0s 1ms/step - loss: 0.5337 - accuracy: 0.7333 - val_loss: 0.6127 - val_accuracy: 0.6667\n",
            "Epoch 54/500\n",
            "60/60 [==============================] - 0s 2ms/step - loss: 0.5342 - accuracy: 0.7333 - val_loss: 0.5841 - val_accuracy: 0.6607\n",
            "Epoch 55/500\n",
            "60/60 [==============================] - 0s 1ms/step - loss: 0.5405 - accuracy: 0.7483 - val_loss: 0.6082 - val_accuracy: 0.7083\n",
            "Epoch 56/500\n",
            "60/60 [==============================] - 0s 1ms/step - loss: 0.5313 - accuracy: 0.7217 - val_loss: 0.5953 - val_accuracy: 0.6845\n",
            "Epoch 57/500\n",
            "60/60 [==============================] - 0s 1ms/step - loss: 0.5317 - accuracy: 0.7367 - val_loss: 0.5934 - val_accuracy: 0.6845\n",
            "Epoch 58/500\n",
            "60/60 [==============================] - 0s 1ms/step - loss: 0.5277 - accuracy: 0.7467 - val_loss: 0.5832 - val_accuracy: 0.6964\n",
            "Epoch 59/500\n",
            "60/60 [==============================] - 0s 1ms/step - loss: 0.5211 - accuracy: 0.7450 - val_loss: 0.6456 - val_accuracy: 0.6429\n",
            "Epoch 60/500\n",
            "60/60 [==============================] - 0s 2ms/step - loss: 0.5367 - accuracy: 0.7350 - val_loss: 0.6227 - val_accuracy: 0.6607\n",
            "Epoch 61/500\n",
            "60/60 [==============================] - 0s 1ms/step - loss: 0.5617 - accuracy: 0.7117 - val_loss: 0.6084 - val_accuracy: 0.6905\n",
            "Epoch 62/500\n",
            "60/60 [==============================] - 0s 1ms/step - loss: 0.5230 - accuracy: 0.7467 - val_loss: 0.5936 - val_accuracy: 0.7083\n",
            "Epoch 63/500\n",
            "60/60 [==============================] - 0s 1ms/step - loss: 0.5188 - accuracy: 0.7450 - val_loss: 0.5833 - val_accuracy: 0.6905\n",
            "Epoch 64/500\n",
            "60/60 [==============================] - 0s 2ms/step - loss: 0.5235 - accuracy: 0.7400 - val_loss: 0.5854 - val_accuracy: 0.7083\n",
            "Epoch 65/500\n",
            "60/60 [==============================] - 0s 2ms/step - loss: 0.5248 - accuracy: 0.7383 - val_loss: 0.5787 - val_accuracy: 0.6845\n",
            "Epoch 66/500\n",
            "60/60 [==============================] - 0s 2ms/step - loss: 0.5379 - accuracy: 0.7233 - val_loss: 0.5758 - val_accuracy: 0.7143\n",
            "Epoch 67/500\n",
            "60/60 [==============================] - 0s 1ms/step - loss: 0.5255 - accuracy: 0.7433 - val_loss: 0.5914 - val_accuracy: 0.7083\n",
            "Epoch 68/500\n",
            "60/60 [==============================] - 0s 1ms/step - loss: 0.5253 - accuracy: 0.7350 - val_loss: 0.6207 - val_accuracy: 0.6845\n",
            "Epoch 69/500\n",
            "60/60 [==============================] - 0s 1ms/step - loss: 0.5326 - accuracy: 0.7383 - val_loss: 0.6251 - val_accuracy: 0.6905\n",
            "Epoch 70/500\n",
            "60/60 [==============================] - 0s 1ms/step - loss: 0.5361 - accuracy: 0.7333 - val_loss: 0.5951 - val_accuracy: 0.7024\n",
            "Epoch 71/500\n",
            "60/60 [==============================] - 0s 2ms/step - loss: 0.5329 - accuracy: 0.7383 - val_loss: 0.6019 - val_accuracy: 0.6964\n",
            "Epoch 72/500\n",
            "60/60 [==============================] - 0s 1ms/step - loss: 0.5159 - accuracy: 0.7350 - val_loss: 0.5779 - val_accuracy: 0.6964\n",
            "Epoch 73/500\n",
            "60/60 [==============================] - 0s 2ms/step - loss: 0.5250 - accuracy: 0.7467 - val_loss: 0.6344 - val_accuracy: 0.6607\n",
            "Epoch 74/500\n",
            "60/60 [==============================] - 0s 1ms/step - loss: 0.5216 - accuracy: 0.7517 - val_loss: 0.6074 - val_accuracy: 0.7083\n",
            "Epoch 75/500\n",
            "60/60 [==============================] - 0s 1ms/step - loss: 0.5182 - accuracy: 0.7517 - val_loss: 0.7472 - val_accuracy: 0.6607\n",
            "Epoch 76/500\n",
            "60/60 [==============================] - 0s 1ms/step - loss: 0.5582 - accuracy: 0.7267 - val_loss: 0.5795 - val_accuracy: 0.7143\n",
            "Epoch 77/500\n",
            "60/60 [==============================] - 0s 2ms/step - loss: 0.5079 - accuracy: 0.7550 - val_loss: 0.5804 - val_accuracy: 0.7321\n",
            "Epoch 78/500\n",
            "60/60 [==============================] - 0s 1ms/step - loss: 0.5278 - accuracy: 0.7233 - val_loss: 0.5700 - val_accuracy: 0.7202\n",
            "Epoch 79/500\n",
            "60/60 [==============================] - 0s 1ms/step - loss: 0.5169 - accuracy: 0.7500 - val_loss: 0.6226 - val_accuracy: 0.6786\n",
            "Epoch 80/500\n",
            "60/60 [==============================] - 0s 1ms/step - loss: 0.5295 - accuracy: 0.7283 - val_loss: 0.6012 - val_accuracy: 0.6905\n",
            "Epoch 81/500\n",
            "60/60 [==============================] - 0s 2ms/step - loss: 0.5146 - accuracy: 0.7517 - val_loss: 0.5925 - val_accuracy: 0.7024\n",
            "Epoch 82/500\n",
            "60/60 [==============================] - 0s 1ms/step - loss: 0.5110 - accuracy: 0.7517 - val_loss: 0.5653 - val_accuracy: 0.7202\n",
            "Epoch 83/500\n",
            "60/60 [==============================] - 0s 1ms/step - loss: 0.5179 - accuracy: 0.7383 - val_loss: 0.5672 - val_accuracy: 0.7262\n",
            "Epoch 84/500\n",
            "60/60 [==============================] - 0s 1ms/step - loss: 0.5147 - accuracy: 0.7467 - val_loss: 0.5891 - val_accuracy: 0.7083\n",
            "Epoch 85/500\n",
            "60/60 [==============================] - 0s 1ms/step - loss: 0.5215 - accuracy: 0.7567 - val_loss: 0.5970 - val_accuracy: 0.7083\n",
            "Epoch 86/500\n",
            "60/60 [==============================] - 0s 1ms/step - loss: 0.5175 - accuracy: 0.7350 - val_loss: 0.5713 - val_accuracy: 0.7381\n",
            "Epoch 87/500\n",
            "60/60 [==============================] - 0s 1ms/step - loss: 0.5218 - accuracy: 0.7333 - val_loss: 0.6141 - val_accuracy: 0.6607\n",
            "Epoch 88/500\n",
            "60/60 [==============================] - 0s 1ms/step - loss: 0.5149 - accuracy: 0.7600 - val_loss: 0.6195 - val_accuracy: 0.6964\n",
            "Epoch 89/500\n",
            "60/60 [==============================] - 0s 2ms/step - loss: 0.5227 - accuracy: 0.7567 - val_loss: 0.5747 - val_accuracy: 0.7083\n",
            "Epoch 90/500\n",
            "60/60 [==============================] - 0s 1ms/step - loss: 0.5121 - accuracy: 0.7400 - val_loss: 0.5616 - val_accuracy: 0.7262\n",
            "Epoch 91/500\n",
            "60/60 [==============================] - 0s 1ms/step - loss: 0.5118 - accuracy: 0.7517 - val_loss: 0.5726 - val_accuracy: 0.7143\n",
            "Epoch 92/500\n",
            "60/60 [==============================] - 0s 1ms/step - loss: 0.5033 - accuracy: 0.7583 - val_loss: 0.5839 - val_accuracy: 0.6964\n",
            "Epoch 93/500\n",
            "60/60 [==============================] - 0s 1ms/step - loss: 0.5207 - accuracy: 0.7583 - val_loss: 0.6164 - val_accuracy: 0.6964\n",
            "Epoch 94/500\n",
            "60/60 [==============================] - 0s 2ms/step - loss: 0.5058 - accuracy: 0.7500 - val_loss: 0.5757 - val_accuracy: 0.7262\n",
            "Epoch 95/500\n",
            "60/60 [==============================] - 0s 2ms/step - loss: 0.5077 - accuracy: 0.7483 - val_loss: 0.6023 - val_accuracy: 0.7024\n",
            "Epoch 96/500\n",
            "60/60 [==============================] - 0s 1ms/step - loss: 0.5217 - accuracy: 0.7483 - val_loss: 0.6407 - val_accuracy: 0.6607\n",
            "Epoch 97/500\n",
            "60/60 [==============================] - 0s 1ms/step - loss: 0.5085 - accuracy: 0.7550 - val_loss: 0.5620 - val_accuracy: 0.7262\n",
            "Epoch 98/500\n",
            "60/60 [==============================] - 0s 1ms/step - loss: 0.5049 - accuracy: 0.7450 - val_loss: 0.5606 - val_accuracy: 0.6964\n",
            "Epoch 99/500\n",
            "60/60 [==============================] - 0s 1ms/step - loss: 0.5142 - accuracy: 0.7483 - val_loss: 0.5919 - val_accuracy: 0.6964\n",
            "Epoch 100/500\n",
            "60/60 [==============================] - 0s 1ms/step - loss: 0.5298 - accuracy: 0.7367 - val_loss: 0.5683 - val_accuracy: 0.7202\n",
            "Epoch 101/500\n",
            "60/60 [==============================] - 0s 1ms/step - loss: 0.5043 - accuracy: 0.7517 - val_loss: 0.6116 - val_accuracy: 0.6726\n",
            "Epoch 102/500\n",
            "60/60 [==============================] - 0s 1ms/step - loss: 0.5128 - accuracy: 0.7500 - val_loss: 0.5746 - val_accuracy: 0.7083\n",
            "Epoch 103/500\n",
            "60/60 [==============================] - 0s 1ms/step - loss: 0.4972 - accuracy: 0.7583 - val_loss: 0.5769 - val_accuracy: 0.7024\n",
            "Epoch 104/500\n",
            "60/60 [==============================] - 0s 1ms/step - loss: 0.4967 - accuracy: 0.7650 - val_loss: 0.5554 - val_accuracy: 0.7321\n",
            "Epoch 105/500\n",
            "60/60 [==============================] - 0s 1ms/step - loss: 0.4931 - accuracy: 0.7483 - val_loss: 0.6217 - val_accuracy: 0.6905\n",
            "Epoch 106/500\n",
            "60/60 [==============================] - 0s 1ms/step - loss: 0.5059 - accuracy: 0.7717 - val_loss: 0.5671 - val_accuracy: 0.7024\n",
            "Epoch 107/500\n",
            "60/60 [==============================] - 0s 1ms/step - loss: 0.5085 - accuracy: 0.7550 - val_loss: 0.5892 - val_accuracy: 0.7381\n",
            "Epoch 108/500\n",
            "60/60 [==============================] - 0s 1ms/step - loss: 0.4926 - accuracy: 0.7700 - val_loss: 0.5584 - val_accuracy: 0.7083\n",
            "Epoch 109/500\n",
            "60/60 [==============================] - 0s 1ms/step - loss: 0.4914 - accuracy: 0.7650 - val_loss: 0.5964 - val_accuracy: 0.7202\n",
            "Epoch 110/500\n",
            "60/60 [==============================] - 0s 1ms/step - loss: 0.5045 - accuracy: 0.7567 - val_loss: 0.5898 - val_accuracy: 0.7143\n",
            "Epoch 111/500\n",
            "60/60 [==============================] - 0s 1ms/step - loss: 0.5044 - accuracy: 0.7400 - val_loss: 0.5533 - val_accuracy: 0.7143\n",
            "Epoch 112/500\n",
            "60/60 [==============================] - 0s 1ms/step - loss: 0.5029 - accuracy: 0.7567 - val_loss: 0.5919 - val_accuracy: 0.6786\n",
            "Epoch 113/500\n",
            "60/60 [==============================] - 0s 1ms/step - loss: 0.4959 - accuracy: 0.7617 - val_loss: 0.5708 - val_accuracy: 0.7143\n",
            "Epoch 114/500\n",
            "60/60 [==============================] - 0s 1ms/step - loss: 0.4957 - accuracy: 0.7517 - val_loss: 0.5874 - val_accuracy: 0.7083\n",
            "Epoch 115/500\n",
            "60/60 [==============================] - 0s 1ms/step - loss: 0.4954 - accuracy: 0.7600 - val_loss: 0.5761 - val_accuracy: 0.7202\n",
            "Epoch 116/500\n",
            "60/60 [==============================] - 0s 2ms/step - loss: 0.4983 - accuracy: 0.7650 - val_loss: 0.5803 - val_accuracy: 0.7440\n",
            "Epoch 117/500\n",
            "60/60 [==============================] - 0s 1ms/step - loss: 0.5137 - accuracy: 0.7467 - val_loss: 0.5772 - val_accuracy: 0.7440\n",
            "Epoch 118/500\n",
            "60/60 [==============================] - 0s 2ms/step - loss: 0.5311 - accuracy: 0.7300 - val_loss: 0.5994 - val_accuracy: 0.7202\n",
            "Epoch 119/500\n",
            "60/60 [==============================] - 0s 1ms/step - loss: 0.4941 - accuracy: 0.7650 - val_loss: 0.6025 - val_accuracy: 0.6726\n",
            "Epoch 120/500\n",
            "60/60 [==============================] - 0s 1ms/step - loss: 0.5170 - accuracy: 0.7517 - val_loss: 0.5888 - val_accuracy: 0.7143\n",
            "Epoch 121/500\n",
            "60/60 [==============================] - 0s 1ms/step - loss: 0.4989 - accuracy: 0.7650 - val_loss: 0.5825 - val_accuracy: 0.7083\n",
            "Epoch 122/500\n",
            "60/60 [==============================] - 0s 2ms/step - loss: 0.5103 - accuracy: 0.7583 - val_loss: 0.6729 - val_accuracy: 0.6131\n",
            "Epoch 123/500\n",
            "60/60 [==============================] - 0s 1ms/step - loss: 0.5085 - accuracy: 0.7550 - val_loss: 0.5750 - val_accuracy: 0.7143\n",
            "Epoch 124/500\n",
            "60/60 [==============================] - 0s 1ms/step - loss: 0.5095 - accuracy: 0.7417 - val_loss: 0.5666 - val_accuracy: 0.7083\n",
            "Epoch 125/500\n",
            "60/60 [==============================] - 0s 1ms/step - loss: 0.4921 - accuracy: 0.7583 - val_loss: 0.5743 - val_accuracy: 0.7381\n",
            "Epoch 126/500\n",
            "60/60 [==============================] - 0s 2ms/step - loss: 0.4881 - accuracy: 0.7583 - val_loss: 0.5573 - val_accuracy: 0.7321\n",
            "Epoch 127/500\n",
            "60/60 [==============================] - 0s 2ms/step - loss: 0.4910 - accuracy: 0.7550 - val_loss: 0.5471 - val_accuracy: 0.6905\n",
            "Epoch 128/500\n",
            "60/60 [==============================] - 0s 1ms/step - loss: 0.4971 - accuracy: 0.7667 - val_loss: 0.5643 - val_accuracy: 0.7381\n",
            "Epoch 129/500\n",
            "60/60 [==============================] - 0s 2ms/step - loss: 0.4910 - accuracy: 0.7617 - val_loss: 0.5469 - val_accuracy: 0.7321\n",
            "Epoch 130/500\n",
            "60/60 [==============================] - 0s 2ms/step - loss: 0.4886 - accuracy: 0.7683 - val_loss: 0.5478 - val_accuracy: 0.7262\n",
            "Epoch 131/500\n",
            "60/60 [==============================] - 0s 2ms/step - loss: 0.4941 - accuracy: 0.7550 - val_loss: 0.5556 - val_accuracy: 0.7083\n",
            "Epoch 132/500\n",
            "60/60 [==============================] - 0s 2ms/step - loss: 0.4915 - accuracy: 0.7667 - val_loss: 0.5719 - val_accuracy: 0.7381\n",
            "Epoch 133/500\n",
            "60/60 [==============================] - 0s 2ms/step - loss: 0.4818 - accuracy: 0.7683 - val_loss: 0.5786 - val_accuracy: 0.7083\n",
            "Epoch 134/500\n",
            "60/60 [==============================] - 0s 2ms/step - loss: 0.5017 - accuracy: 0.7617 - val_loss: 0.6004 - val_accuracy: 0.7024\n",
            "Epoch 135/500\n",
            "60/60 [==============================] - 0s 1ms/step - loss: 0.4909 - accuracy: 0.7583 - val_loss: 0.5573 - val_accuracy: 0.7262\n",
            "Epoch 136/500\n",
            "60/60 [==============================] - 0s 2ms/step - loss: 0.4810 - accuracy: 0.7617 - val_loss: 0.5593 - val_accuracy: 0.7381\n",
            "Epoch 137/500\n",
            "60/60 [==============================] - 0s 2ms/step - loss: 0.4818 - accuracy: 0.7717 - val_loss: 0.5614 - val_accuracy: 0.7440\n",
            "Epoch 138/500\n",
            "60/60 [==============================] - 0s 2ms/step - loss: 0.4859 - accuracy: 0.7617 - val_loss: 0.5943 - val_accuracy: 0.6548\n",
            "Epoch 139/500\n",
            "60/60 [==============================] - 0s 1ms/step - loss: 0.4871 - accuracy: 0.7550 - val_loss: 0.5736 - val_accuracy: 0.7143\n",
            "Epoch 140/500\n",
            "60/60 [==============================] - 0s 2ms/step - loss: 0.4917 - accuracy: 0.7550 - val_loss: 0.6138 - val_accuracy: 0.6905\n",
            "Epoch 141/500\n",
            "60/60 [==============================] - 0s 2ms/step - loss: 0.4911 - accuracy: 0.7717 - val_loss: 0.5805 - val_accuracy: 0.7143\n",
            "Epoch 142/500\n",
            "60/60 [==============================] - 0s 2ms/step - loss: 0.4761 - accuracy: 0.7617 - val_loss: 0.5839 - val_accuracy: 0.7143\n",
            "Epoch 143/500\n",
            "60/60 [==============================] - 0s 2ms/step - loss: 0.5051 - accuracy: 0.7667 - val_loss: 0.6011 - val_accuracy: 0.7024\n",
            "Epoch 144/500\n",
            "60/60 [==============================] - 0s 1ms/step - loss: 0.4871 - accuracy: 0.7800 - val_loss: 0.5668 - val_accuracy: 0.7202\n",
            "Epoch 145/500\n",
            "60/60 [==============================] - 0s 2ms/step - loss: 0.4889 - accuracy: 0.7550 - val_loss: 0.5561 - val_accuracy: 0.7202\n",
            "Epoch 146/500\n",
            "60/60 [==============================] - 0s 2ms/step - loss: 0.4760 - accuracy: 0.7833 - val_loss: 0.5545 - val_accuracy: 0.7381\n",
            "Epoch 147/500\n",
            "60/60 [==============================] - 0s 2ms/step - loss: 0.5000 - accuracy: 0.7417 - val_loss: 0.5528 - val_accuracy: 0.7321\n",
            "Epoch 148/500\n",
            "60/60 [==============================] - 0s 2ms/step - loss: 0.4795 - accuracy: 0.7750 - val_loss: 0.5547 - val_accuracy: 0.7202\n",
            "Epoch 149/500\n",
            "60/60 [==============================] - 0s 2ms/step - loss: 0.4803 - accuracy: 0.7617 - val_loss: 0.5518 - val_accuracy: 0.7262\n",
            "Epoch 150/500\n",
            "60/60 [==============================] - 0s 2ms/step - loss: 0.4757 - accuracy: 0.7750 - val_loss: 0.5660 - val_accuracy: 0.7202\n",
            "Epoch 151/500\n",
            "60/60 [==============================] - 0s 2ms/step - loss: 0.4904 - accuracy: 0.7783 - val_loss: 0.5573 - val_accuracy: 0.7619\n",
            "Epoch 152/500\n",
            "60/60 [==============================] - 0s 2ms/step - loss: 0.4913 - accuracy: 0.7700 - val_loss: 0.5471 - val_accuracy: 0.7024\n",
            "Epoch 153/500\n",
            "60/60 [==============================] - 0s 2ms/step - loss: 0.4833 - accuracy: 0.7733 - val_loss: 0.5508 - val_accuracy: 0.7619\n",
            "Epoch 154/500\n",
            "60/60 [==============================] - 0s 2ms/step - loss: 0.4952 - accuracy: 0.7650 - val_loss: 0.5839 - val_accuracy: 0.6667\n",
            "Epoch 155/500\n",
            "60/60 [==============================] - 0s 2ms/step - loss: 0.4859 - accuracy: 0.7600 - val_loss: 0.5646 - val_accuracy: 0.7500\n",
            "Epoch 156/500\n",
            "60/60 [==============================] - 0s 2ms/step - loss: 0.4775 - accuracy: 0.7667 - val_loss: 0.5475 - val_accuracy: 0.7500\n",
            "Epoch 157/500\n",
            "60/60 [==============================] - 0s 2ms/step - loss: 0.4765 - accuracy: 0.7817 - val_loss: 0.5377 - val_accuracy: 0.7500\n",
            "Epoch 158/500\n",
            "60/60 [==============================] - 0s 2ms/step - loss: 0.4905 - accuracy: 0.7633 - val_loss: 0.5656 - val_accuracy: 0.7679\n",
            "Epoch 159/500\n",
            "60/60 [==============================] - 0s 2ms/step - loss: 0.4844 - accuracy: 0.7700 - val_loss: 0.5416 - val_accuracy: 0.7262\n",
            "Epoch 160/500\n",
            "60/60 [==============================] - 0s 2ms/step - loss: 0.4814 - accuracy: 0.7633 - val_loss: 0.5410 - val_accuracy: 0.7143\n",
            "Epoch 161/500\n",
            "60/60 [==============================] - 0s 2ms/step - loss: 0.4774 - accuracy: 0.7767 - val_loss: 0.5357 - val_accuracy: 0.7381\n",
            "Epoch 162/500\n",
            "60/60 [==============================] - 0s 2ms/step - loss: 0.4739 - accuracy: 0.7700 - val_loss: 0.5521 - val_accuracy: 0.7262\n",
            "Epoch 163/500\n",
            "60/60 [==============================] - 0s 2ms/step - loss: 0.4800 - accuracy: 0.7817 - val_loss: 0.5941 - val_accuracy: 0.7083\n",
            "Epoch 164/500\n",
            "60/60 [==============================] - 0s 2ms/step - loss: 0.4947 - accuracy: 0.7533 - val_loss: 0.6119 - val_accuracy: 0.6964\n",
            "Epoch 165/500\n",
            "60/60 [==============================] - 0s 2ms/step - loss: 0.4809 - accuracy: 0.7683 - val_loss: 0.5775 - val_accuracy: 0.7083\n",
            "Epoch 166/500\n",
            "60/60 [==============================] - 0s 2ms/step - loss: 0.5268 - accuracy: 0.7367 - val_loss: 0.5632 - val_accuracy: 0.7262\n",
            "Epoch 167/500\n",
            "60/60 [==============================] - 0s 2ms/step - loss: 0.5033 - accuracy: 0.7450 - val_loss: 0.5595 - val_accuracy: 0.7381\n",
            "Epoch 168/500\n",
            "60/60 [==============================] - 0s 2ms/step - loss: 0.4766 - accuracy: 0.7583 - val_loss: 0.5653 - val_accuracy: 0.7143\n",
            "Epoch 169/500\n",
            "60/60 [==============================] - 0s 2ms/step - loss: 0.4801 - accuracy: 0.7667 - val_loss: 0.5447 - val_accuracy: 0.7619\n",
            "Epoch 170/500\n",
            "60/60 [==============================] - 0s 2ms/step - loss: 0.4950 - accuracy: 0.7600 - val_loss: 0.5701 - val_accuracy: 0.7202\n",
            "Epoch 171/500\n",
            "60/60 [==============================] - 0s 2ms/step - loss: 0.4772 - accuracy: 0.7750 - val_loss: 0.5430 - val_accuracy: 0.7381\n",
            "Epoch 172/500\n",
            "60/60 [==============================] - 0s 2ms/step - loss: 0.4664 - accuracy: 0.7717 - val_loss: 0.5682 - val_accuracy: 0.7024\n",
            "Epoch 173/500\n",
            "60/60 [==============================] - 0s 2ms/step - loss: 0.4763 - accuracy: 0.7733 - val_loss: 0.5539 - val_accuracy: 0.7202\n",
            "Epoch 174/500\n",
            "60/60 [==============================] - 0s 2ms/step - loss: 0.4849 - accuracy: 0.7600 - val_loss: 0.5690 - val_accuracy: 0.7202\n",
            "Epoch 175/500\n",
            "60/60 [==============================] - 0s 2ms/step - loss: 0.4796 - accuracy: 0.7633 - val_loss: 0.5887 - val_accuracy: 0.6607\n",
            "Epoch 176/500\n",
            "60/60 [==============================] - 0s 2ms/step - loss: 0.4699 - accuracy: 0.7833 - val_loss: 0.5437 - val_accuracy: 0.7917\n",
            "Epoch 177/500\n",
            "60/60 [==============================] - 0s 2ms/step - loss: 0.4751 - accuracy: 0.7700 - val_loss: 0.5535 - val_accuracy: 0.7262\n",
            "Epoch 178/500\n",
            "60/60 [==============================] - 0s 1ms/step - loss: 0.4689 - accuracy: 0.7733 - val_loss: 0.5619 - val_accuracy: 0.7083\n",
            "Epoch 179/500\n",
            "60/60 [==============================] - 0s 2ms/step - loss: 0.4713 - accuracy: 0.7817 - val_loss: 0.5995 - val_accuracy: 0.7143\n",
            "Epoch 180/500\n",
            "60/60 [==============================] - 0s 2ms/step - loss: 0.4638 - accuracy: 0.7800 - val_loss: 0.5375 - val_accuracy: 0.7500\n",
            "Epoch 181/500\n",
            "60/60 [==============================] - 0s 2ms/step - loss: 0.4666 - accuracy: 0.7650 - val_loss: 0.5923 - val_accuracy: 0.6726\n",
            "Epoch 182/500\n",
            "60/60 [==============================] - 0s 2ms/step - loss: 0.4802 - accuracy: 0.7583 - val_loss: 0.5767 - val_accuracy: 0.7262\n",
            "Epoch 183/500\n",
            "60/60 [==============================] - 0s 2ms/step - loss: 0.5086 - accuracy: 0.7650 - val_loss: 0.5652 - val_accuracy: 0.7143\n",
            "Epoch 184/500\n",
            "60/60 [==============================] - 0s 2ms/step - loss: 0.4710 - accuracy: 0.7933 - val_loss: 0.5598 - val_accuracy: 0.7202\n",
            "Epoch 185/500\n",
            "60/60 [==============================] - 0s 2ms/step - loss: 0.4818 - accuracy: 0.7700 - val_loss: 0.5395 - val_accuracy: 0.7679\n",
            "Epoch 186/500\n",
            "60/60 [==============================] - 0s 2ms/step - loss: 0.4788 - accuracy: 0.7733 - val_loss: 0.5390 - val_accuracy: 0.7262\n",
            "Epoch 187/500\n",
            "60/60 [==============================] - 0s 2ms/step - loss: 0.4661 - accuracy: 0.7733 - val_loss: 0.6087 - val_accuracy: 0.6964\n",
            "Epoch 188/500\n",
            "60/60 [==============================] - 0s 2ms/step - loss: 0.4808 - accuracy: 0.7683 - val_loss: 0.5730 - val_accuracy: 0.7321\n",
            "Epoch 189/500\n",
            "60/60 [==============================] - 0s 2ms/step - loss: 0.4773 - accuracy: 0.7617 - val_loss: 0.5498 - val_accuracy: 0.7560\n",
            "Epoch 190/500\n",
            "60/60 [==============================] - 0s 2ms/step - loss: 0.4661 - accuracy: 0.7783 - val_loss: 0.5447 - val_accuracy: 0.7500\n",
            "Epoch 191/500\n",
            "60/60 [==============================] - 0s 2ms/step - loss: 0.4598 - accuracy: 0.7883 - val_loss: 0.5612 - val_accuracy: 0.7202\n",
            "Epoch 192/500\n",
            "60/60 [==============================] - 0s 2ms/step - loss: 0.4751 - accuracy: 0.7700 - val_loss: 0.5601 - val_accuracy: 0.7381\n",
            "Epoch 193/500\n",
            "60/60 [==============================] - 0s 2ms/step - loss: 0.4683 - accuracy: 0.7667 - val_loss: 0.5540 - val_accuracy: 0.7440\n",
            "Epoch 194/500\n",
            "60/60 [==============================] - 0s 2ms/step - loss: 0.4811 - accuracy: 0.7600 - val_loss: 0.5503 - val_accuracy: 0.7381\n",
            "Epoch 195/500\n",
            "60/60 [==============================] - 0s 2ms/step - loss: 0.4665 - accuracy: 0.7733 - val_loss: 0.5293 - val_accuracy: 0.7262\n",
            "Epoch 196/500\n",
            "60/60 [==============================] - 0s 2ms/step - loss: 0.4710 - accuracy: 0.7783 - val_loss: 0.5655 - val_accuracy: 0.7262\n",
            "Epoch 197/500\n",
            "60/60 [==============================] - 0s 2ms/step - loss: 0.4775 - accuracy: 0.7767 - val_loss: 0.5384 - val_accuracy: 0.7560\n",
            "Epoch 198/500\n",
            "60/60 [==============================] - 0s 2ms/step - loss: 0.4745 - accuracy: 0.7733 - val_loss: 0.5443 - val_accuracy: 0.7560\n",
            "Epoch 199/500\n",
            "60/60 [==============================] - 0s 1ms/step - loss: 0.4621 - accuracy: 0.7733 - val_loss: 0.5404 - val_accuracy: 0.7500\n",
            "Epoch 200/500\n",
            "60/60 [==============================] - 0s 2ms/step - loss: 0.4682 - accuracy: 0.7800 - val_loss: 0.5895 - val_accuracy: 0.7083\n",
            "Epoch 201/500\n",
            "60/60 [==============================] - 0s 1ms/step - loss: 0.4687 - accuracy: 0.7717 - val_loss: 0.5532 - val_accuracy: 0.7619\n",
            "Epoch 202/500\n",
            "60/60 [==============================] - 0s 2ms/step - loss: 0.4721 - accuracy: 0.7583 - val_loss: 0.5355 - val_accuracy: 0.7381\n",
            "Epoch 203/500\n",
            "60/60 [==============================] - 0s 1ms/step - loss: 0.4561 - accuracy: 0.7817 - val_loss: 0.5464 - val_accuracy: 0.7440\n",
            "Epoch 204/500\n",
            "60/60 [==============================] - 0s 1ms/step - loss: 0.4667 - accuracy: 0.7650 - val_loss: 0.5834 - val_accuracy: 0.7202\n",
            "Epoch 205/500\n",
            "60/60 [==============================] - 0s 1ms/step - loss: 0.4661 - accuracy: 0.7733 - val_loss: 0.5720 - val_accuracy: 0.7679\n",
            "Epoch 206/500\n",
            "60/60 [==============================] - 0s 2ms/step - loss: 0.4615 - accuracy: 0.7800 - val_loss: 0.5649 - val_accuracy: 0.7619\n",
            "Epoch 207/500\n",
            "60/60 [==============================] - 0s 1ms/step - loss: 0.4638 - accuracy: 0.7883 - val_loss: 0.5422 - val_accuracy: 0.7202\n",
            "Epoch 208/500\n",
            "60/60 [==============================] - 0s 2ms/step - loss: 0.4616 - accuracy: 0.7900 - val_loss: 0.5509 - val_accuracy: 0.7262\n",
            "Epoch 209/500\n",
            "60/60 [==============================] - 0s 2ms/step - loss: 0.4773 - accuracy: 0.7650 - val_loss: 0.5402 - val_accuracy: 0.7440\n",
            "Epoch 210/500\n",
            "60/60 [==============================] - 0s 1ms/step - loss: 0.4647 - accuracy: 0.7633 - val_loss: 0.5385 - val_accuracy: 0.7262\n",
            "Epoch 211/500\n",
            "60/60 [==============================] - 0s 2ms/step - loss: 0.4552 - accuracy: 0.7833 - val_loss: 0.5485 - val_accuracy: 0.7381\n",
            "Epoch 212/500\n",
            "60/60 [==============================] - 0s 1ms/step - loss: 0.4597 - accuracy: 0.7883 - val_loss: 0.5291 - val_accuracy: 0.7381\n",
            "Epoch 213/500\n",
            "60/60 [==============================] - 0s 2ms/step - loss: 0.4588 - accuracy: 0.7750 - val_loss: 0.5572 - val_accuracy: 0.7500\n",
            "Epoch 214/500\n",
            "60/60 [==============================] - 0s 1ms/step - loss: 0.4510 - accuracy: 0.7867 - val_loss: 0.5413 - val_accuracy: 0.7798\n",
            "Epoch 215/500\n",
            "60/60 [==============================] - 0s 2ms/step - loss: 0.4607 - accuracy: 0.7967 - val_loss: 0.5257 - val_accuracy: 0.7560\n",
            "Epoch 216/500\n",
            "60/60 [==============================] - 0s 1ms/step - loss: 0.4497 - accuracy: 0.7900 - val_loss: 0.5534 - val_accuracy: 0.7321\n",
            "Epoch 217/500\n",
            "60/60 [==============================] - 0s 1ms/step - loss: 0.4639 - accuracy: 0.7783 - val_loss: 0.5662 - val_accuracy: 0.7262\n",
            "Epoch 218/500\n",
            "60/60 [==============================] - 0s 1ms/step - loss: 0.4775 - accuracy: 0.7683 - val_loss: 0.5493 - val_accuracy: 0.7619\n",
            "Epoch 219/500\n",
            "60/60 [==============================] - 0s 2ms/step - loss: 0.4730 - accuracy: 0.7633 - val_loss: 0.5968 - val_accuracy: 0.6964\n",
            "Epoch 220/500\n",
            "60/60 [==============================] - 0s 1ms/step - loss: 0.4727 - accuracy: 0.7850 - val_loss: 0.5319 - val_accuracy: 0.7560\n",
            "Epoch 221/500\n",
            "60/60 [==============================] - 0s 2ms/step - loss: 0.4633 - accuracy: 0.7733 - val_loss: 0.5359 - val_accuracy: 0.7619\n",
            "Epoch 222/500\n",
            "60/60 [==============================] - 0s 1ms/step - loss: 0.4637 - accuracy: 0.7850 - val_loss: 0.5276 - val_accuracy: 0.7560\n",
            "Epoch 223/500\n",
            "60/60 [==============================] - 0s 2ms/step - loss: 0.4679 - accuracy: 0.7750 - val_loss: 0.5908 - val_accuracy: 0.7262\n",
            "Epoch 224/500\n",
            "60/60 [==============================] - 0s 2ms/step - loss: 0.4630 - accuracy: 0.7783 - val_loss: 0.5626 - val_accuracy: 0.7560\n",
            "Epoch 225/500\n",
            "60/60 [==============================] - 0s 2ms/step - loss: 0.4561 - accuracy: 0.7850 - val_loss: 0.5672 - val_accuracy: 0.7262\n",
            "Epoch 226/500\n",
            "60/60 [==============================] - 0s 2ms/step - loss: 0.4607 - accuracy: 0.7883 - val_loss: 0.5578 - val_accuracy: 0.7321\n",
            "Epoch 00226: early stopping\n"
          ],
          "name": "stdout"
        }
      ]
    },
    {
      "cell_type": "code",
      "metadata": {
        "colab": {
          "base_uri": "https://localhost:8080/",
          "height": 313
        },
        "id": "7cTBmcNAuIDs",
        "outputId": "ef492e44-11db-4f82-be09-14abd62c35e4"
      },
      "source": [
        "epochs = 226\n",
        "\n",
        "acc_list = [100 * i for i in hist.history['accuracy']]\n",
        "vacc_list = [100 * i for i in hist.history['val_accuracy']]\n",
        "loss_list = hist.history['loss'] #[100 * i for i in history.history['loss']]\n",
        "vloss_list = hist.history['val_loss'] #[100 * i for i in history.history['val_loss']]\n",
        "\n",
        "\n",
        "plt.plot(range(1,epochs+1),acc_list)  \n",
        "plt.plot(range(1,epochs+1),vacc_list)  \n",
        "plt.plot(np.argmax(np.array(vacc_list))+1,vacc_list[np.argmax(np.array(vacc_list))], 'r*')\n",
        "plt.title('DL of diabetes: Model accuracy')\n",
        "plt.ylabel('Accuracy (%)')\n",
        "plt.xlabel('Epoch')\n",
        "plt.legend(['accuracy','val_accuracy','best'], loc='best')\n",
        "\n",
        "\n"
      ],
      "execution_count": null,
      "outputs": [
        {
          "output_type": "execute_result",
          "data": {
            "text/plain": [
              "<matplotlib.legend.Legend at 0x7f097563a7f0>"
            ]
          },
          "metadata": {
            "tags": []
          },
          "execution_count": 25
        },
        {
          "output_type": "display_data",
          "data": {
            "image/png": "[encoded data removed]",
            "text/plain": [
              "<Figure size 432x288 with 1 Axes>"
            ]
          },
          "metadata": {
            "tags": [],
            "needs_background": "light"
          }
        }
      ]
    },
    {
      "cell_type": "markdown",
      "metadata": {
        "id": "mfpDVTp9tp0T"
      },
      "source": [
        "### best model\n",
        "> diabetes_DL_best_weights.161-0.7619.hdf5\n",
        "\n",
        "> diabetes_DL_best_weights.176-0.7917.hdf5"
      ]
    },
    {
      "cell_type": "code",
      "metadata": {
        "colab": {
          "base_uri": "https://localhost:8080/"
        },
        "id": "7XICED9Jt5ls",
        "outputId": "9bdd747e-12e4-45ac-8264-0bf37b0e75f9"
      },
      "source": [
        "# model2 performance\n",
        "model2.evaluate(X_test, y_test)"
      ],
      "execution_count": null,
      "outputs": [
        {
          "output_type": "stream",
          "text": [
            "6/6 [==============================] - 0s 1ms/step - loss: 0.5578 - accuracy: 0.7321\n"
          ],
          "name": "stdout"
        },
        {
          "output_type": "execute_result",
          "data": {
            "text/plain": [
              "[0.5578176379203796, 0.7321428656578064]"
            ]
          },
          "metadata": {
            "tags": []
          },
          "execution_count": 26
        }
      ]
    },
    {
      "cell_type": "code",
      "metadata": {
        "colab": {
          "base_uri": "https://localhost:8080/"
        },
        "id": "qdp3G_DcZ1Ek",
        "outputId": "4d8ecb08-cdac-4544-adb5-7d81904e3941"
      },
      "source": [
        "from keras.models import load_model\n",
        "\n",
        "# model = load_model('your_best_model.hdf5')\n",
        "model2_best = load_model('diabetes_DL_best_weights.176-0.7917.hdf5')\n",
        "model2_best.evaluate(X_test, y_test)"
      ],
      "execution_count": null,
      "outputs": [
        {
          "output_type": "stream",
          "text": [
            "6/6 [==============================] - 0s 2ms/step - loss: 0.5437 - accuracy: 0.7917\n"
          ],
          "name": "stdout"
        },
        {
          "output_type": "execute_result",
          "data": {
            "text/plain": [
              "[0.5436848402023315, 0.7916666865348816]"
            ]
          },
          "metadata": {
            "tags": []
          },
          "execution_count": 27
        }
      ]
    },
    {
      "cell_type": "markdown",
      "metadata": {
        "id": "U2YW92VvKSFy"
      },
      "source": [
        "### Confusion matrix"
      ]
    },
    {
      "cell_type": "code",
      "metadata": {
        "id": "eOGyXaBDKSFy"
      },
      "source": [
        "import seaborn as sns\n",
        "from sklearn.metrics import confusion_matrix"
      ],
      "execution_count": null,
      "outputs": []
    },
    {
      "cell_type": "code",
      "metadata": {
        "id": "zV4a7GS5Kfl_"
      },
      "source": [
        "predictions = [int(np.round(prob)) for prob in model2_best.predict(X_test)]"
      ],
      "execution_count": null,
      "outputs": []
    },
    {
      "cell_type": "code",
      "metadata": {
        "id": "qVaJYNBTKSFy"
      },
      "source": [
        "cm = confusion_matrix(y_test, predictions)"
      ],
      "execution_count": null,
      "outputs": []
    },
    {
      "cell_type": "code",
      "metadata": {
        "id": "al2-9UelKSFy"
      },
      "source": [
        "class_names = ['noDM','DM']"
      ],
      "execution_count": null,
      "outputs": []
    },
    {
      "cell_type": "code",
      "metadata": {
        "colab": {
          "base_uri": "https://localhost:8080/",
          "height": 334
        },
        "id": "w1ZpQBPqKSFy",
        "outputId": "ecb0bf96-5863-4d55-c17b-c3b1cc9a5d2a"
      },
      "source": [
        "plt.figure(figsize=(5,5))\n",
        "sns.heatmap(cm, cbar=False, xticklabels=class_names, yticklabels=class_names, fmt='d', annot=True, cmap=plt.cm.coolwarm)\n",
        "plt.xlabel('Predicted')\n",
        "plt.ylabel('Actual')\n",
        "plt.show()"
      ],
      "execution_count": null,
      "outputs": [
        {
          "output_type": "display_data",
          "data": {
            "image/png": "[encoded data removed]",
            "text/plain": [
              "<Figure size 360x360 with 1 Axes>"
            ]
          },
          "metadata": {
            "tags": [],
            "needs_background": "light"
          }
        }
      ]
    },
    {
      "cell_type": "markdown",
      "metadata": {
        "id": "ICOiTafiyl7b"
      },
      "source": [
        "***"
      ]
    },
    {
      "cell_type": "markdown",
      "metadata": {
        "id": "s_NsDYVbyc1_"
      },
      "source": [
        "## [DIY-2] 데이터 전처리 후 딥러닝 모델 만들어서 평가"
      ]
    },
    {
      "cell_type": "markdown",
      "metadata": {
        "id": "rWoRa2VqSkHI"
      },
      "source": [
        "## Check data\n",
        "- null\n",
        "- NaN"
      ]
    },
    {
      "cell_type": "code",
      "metadata": {
        "id": "whrqReP4mOhl",
        "colab": {
          "base_uri": "https://localhost:8080/"
        },
        "outputId": "19b35817-6983-46f8-ce1c-a08034dedf7e"
      },
      "source": [
        "# Check NaN\n",
        "data.isna().sum()\n",
        "# data.isnull().sum()"
      ],
      "execution_count": null,
      "outputs": [
        {
          "output_type": "execute_result",
          "data": {
            "text/plain": [
              "Pregnancies                 0\n",
              "Glucose                     0\n",
              "BloodPressure               0\n",
              "SkinThickness               0\n",
              "Insulin                     0\n",
              "BMI                         0\n",
              "DiabetesPedigreeFunction    0\n",
              "Age                         0\n",
              "Outcome                     0\n",
              "dtype: int64"
            ]
          },
          "metadata": {
            "tags": []
          },
          "execution_count": 47
        }
      ]
    },
    {
      "cell_type": "markdown",
      "metadata": {
        "id": "h--H_58sxzEz"
      },
      "source": [
        "### 과연 diabetes 데이터는 문제가 없는가?\n",
        "\n",
        "- 각 항목에서 0이 허용되지 않는 경우에 0이 있다면 => 문제 있는 데이터!\n",
        "- Pregnancies, Outcome은 0이 가능한 값이므로 제외하고 0이 있는 항목(column) 조사"
      ]
    },
    {
      "cell_type": "code",
      "metadata": {
        "colab": {
          "base_uri": "https://localhost:8080/",
          "height": 343
        },
        "id": "9ETrQATux_Wt",
        "outputId": "e6c8c24d-b3bd-4240-dc38-3bee4e9d0412"
      },
      "source": [
        "data.head(10)"
      ],
      "execution_count": null,
      "outputs": [
        {
          "output_type": "execute_result",
          "data": {
            "text/html": [
              "<div>\n",
              "<style scoped>\n",
              "    .dataframe tbody tr th:only-of-type {\n",
              "        vertical-align: middle;\n",
              "    }\n",
              "\n",
              "    .dataframe tbody tr th {\n",
              "        vertical-align: top;\n",
              "    }\n",
              "\n",
              "    .dataframe thead th {\n",
              "        text-align: right;\n",
              "    }\n",
              "</style>\n",
              "<table border=\"1\" class=\"dataframe\">\n",
              "  <thead>\n",
              "    <tr style=\"text-align: right;\">\n",
              "      <th></th>\n",
              "      <th>Pregnancies</th>\n",
              "      <th>Glucose</th>\n",
              "      <th>BloodPressure</th>\n",
              "      <th>SkinThickness</th>\n",
              "      <th>Insulin</th>\n",
              "      <th>BMI</th>\n",
              "      <th>DiabetesPedigreeFunction</th>\n",
              "      <th>Age</th>\n",
              "      <th>Outcome</th>\n",
              "    </tr>\n",
              "  </thead>\n",
              "  <tbody>\n",
              "    <tr>\n",
              "      <th>0</th>\n",
              "      <td>6</td>\n",
              "      <td>148.0</td>\n",
              "      <td>72.0</td>\n",
              "      <td>35.0</td>\n",
              "      <td>125.0</td>\n",
              "      <td>33.6</td>\n",
              "      <td>0.627</td>\n",
              "      <td>50</td>\n",
              "      <td>1</td>\n",
              "    </tr>\n",
              "    <tr>\n",
              "      <th>1</th>\n",
              "      <td>1</td>\n",
              "      <td>85.0</td>\n",
              "      <td>66.0</td>\n",
              "      <td>29.0</td>\n",
              "      <td>125.0</td>\n",
              "      <td>26.6</td>\n",
              "      <td>0.351</td>\n",
              "      <td>31</td>\n",
              "      <td>0</td>\n",
              "    </tr>\n",
              "    <tr>\n",
              "      <th>2</th>\n",
              "      <td>8</td>\n",
              "      <td>183.0</td>\n",
              "      <td>64.0</td>\n",
              "      <td>29.0</td>\n",
              "      <td>125.0</td>\n",
              "      <td>23.3</td>\n",
              "      <td>0.672</td>\n",
              "      <td>32</td>\n",
              "      <td>1</td>\n",
              "    </tr>\n",
              "    <tr>\n",
              "      <th>3</th>\n",
              "      <td>1</td>\n",
              "      <td>89.0</td>\n",
              "      <td>66.0</td>\n",
              "      <td>23.0</td>\n",
              "      <td>94.0</td>\n",
              "      <td>28.1</td>\n",
              "      <td>0.167</td>\n",
              "      <td>21</td>\n",
              "      <td>0</td>\n",
              "    </tr>\n",
              "    <tr>\n",
              "      <th>4</th>\n",
              "      <td>0</td>\n",
              "      <td>137.0</td>\n",
              "      <td>40.0</td>\n",
              "      <td>35.0</td>\n",
              "      <td>168.0</td>\n",
              "      <td>43.1</td>\n",
              "      <td>2.288</td>\n",
              "      <td>33</td>\n",
              "      <td>1</td>\n",
              "    </tr>\n",
              "    <tr>\n",
              "      <th>5</th>\n",
              "      <td>5</td>\n",
              "      <td>116.0</td>\n",
              "      <td>74.0</td>\n",
              "      <td>29.0</td>\n",
              "      <td>125.0</td>\n",
              "      <td>25.6</td>\n",
              "      <td>0.201</td>\n",
              "      <td>30</td>\n",
              "      <td>0</td>\n",
              "    </tr>\n",
              "    <tr>\n",
              "      <th>6</th>\n",
              "      <td>3</td>\n",
              "      <td>78.0</td>\n",
              "      <td>50.0</td>\n",
              "      <td>32.0</td>\n",
              "      <td>88.0</td>\n",
              "      <td>31.0</td>\n",
              "      <td>0.248</td>\n",
              "      <td>26</td>\n",
              "      <td>1</td>\n",
              "    </tr>\n",
              "    <tr>\n",
              "      <th>7</th>\n",
              "      <td>10</td>\n",
              "      <td>115.0</td>\n",
              "      <td>72.0</td>\n",
              "      <td>29.0</td>\n",
              "      <td>125.0</td>\n",
              "      <td>35.3</td>\n",
              "      <td>0.134</td>\n",
              "      <td>29</td>\n",
              "      <td>0</td>\n",
              "    </tr>\n",
              "    <tr>\n",
              "      <th>8</th>\n",
              "      <td>2</td>\n",
              "      <td>197.0</td>\n",
              "      <td>70.0</td>\n",
              "      <td>45.0</td>\n",
              "      <td>543.0</td>\n",
              "      <td>30.5</td>\n",
              "      <td>0.158</td>\n",
              "      <td>53</td>\n",
              "      <td>1</td>\n",
              "    </tr>\n",
              "    <tr>\n",
              "      <th>9</th>\n",
              "      <td>8</td>\n",
              "      <td>125.0</td>\n",
              "      <td>96.0</td>\n",
              "      <td>29.0</td>\n",
              "      <td>125.0</td>\n",
              "      <td>32.3</td>\n",
              "      <td>0.232</td>\n",
              "      <td>54</td>\n",
              "      <td>1</td>\n",
              "    </tr>\n",
              "  </tbody>\n",
              "</table>\n",
              "</div>"
            ],
            "text/plain": [
              "   Pregnancies  Glucose  BloodPressure  ...  DiabetesPedigreeFunction  Age  Outcome\n",
              "0            6    148.0           72.0  ...                     0.627   50        1\n",
              "1            1     85.0           66.0  ...                     0.351   31        0\n",
              "2            8    183.0           64.0  ...                     0.672   32        1\n",
              "3            1     89.0           66.0  ...                     0.167   21        0\n",
              "4            0    137.0           40.0  ...                     2.288   33        1\n",
              "5            5    116.0           74.0  ...                     0.201   30        0\n",
              "6            3     78.0           50.0  ...                     0.248   26        1\n",
              "7           10    115.0           72.0  ...                     0.134   29        0\n",
              "8            2    197.0           70.0  ...                     0.158   53        1\n",
              "9            8    125.0           96.0  ...                     0.232   54        1\n",
              "\n",
              "[10 rows x 9 columns]"
            ]
          },
          "metadata": {
            "tags": []
          },
          "execution_count": 48
        }
      ]
    },
    {
      "cell_type": "code",
      "metadata": {
        "colab": {
          "base_uri": "https://localhost:8080/"
        },
        "id": "UN8Ub9s-y7RM",
        "outputId": "2be3fdd0-4f5b-45fd-dcee-3f97758805eb"
      },
      "source": [
        "# Pregnancies, Outcome은 0이 가능한 값이므로 제외하고 0이 있는 항목(column) 조사\n",
        "columns_with_zero = data.columns[(data==0).sum() > 0][1:-1]\n",
        "columns_with_zero"
      ],
      "execution_count": null,
      "outputs": [
        {
          "output_type": "execute_result",
          "data": {
            "text/plain": [
              "Index([], dtype='object')"
            ]
          },
          "metadata": {
            "tags": []
          },
          "execution_count": 49
        }
      ]
    },
    {
      "cell_type": "code",
      "metadata": {
        "id": "jYGrj7udx6mk"
      },
      "source": [
        "# Clean the data : zero2median()\n",
        "# 1. Check zeros in features with Pregnancies, Outcome excluded.\n",
        "# 2. Replace zero with NaN \n",
        "# 3. Replace NaN with the median of the corresponding featurs\n",
        "def zero2median(df):\n",
        "    columns_with_zero = df.columns[(df==0).sum() > 0][1:-1]\n",
        "    # Index(['Glucose', 'BloodPressure', 'SkinThickness', 'Insulin', 'BMI'], dtype='object')\n",
        "    df[columns_with_zero]=df[columns_with_zero].replace(0,np.nan)\n",
        "    for feature in columns_with_zero:\n",
        "        df[feature].fillna(df[feature].median(),inplace=True)\n",
        "    \n",
        "    return df\n",
        "\n",
        "# Make clean dataframe, data2 from data\n",
        "data2 = zero2median(data)"
      ],
      "execution_count": null,
      "outputs": []
    },
    {
      "cell_type": "code",
      "metadata": {
        "colab": {
          "base_uri": "https://localhost:8080/",
          "height": 343
        },
        "id": "jUBEg3S0zxQv",
        "outputId": "164ed26e-61c4-41d4-abbc-e975b9cd63c4"
      },
      "source": [
        "data2.head(10)"
      ],
      "execution_count": null,
      "outputs": [
        {
          "output_type": "execute_result",
          "data": {
            "text/html": [
              "<div>\n",
              "<style scoped>\n",
              "    .dataframe tbody tr th:only-of-type {\n",
              "        vertical-align: middle;\n",
              "    }\n",
              "\n",
              "    .dataframe tbody tr th {\n",
              "        vertical-align: top;\n",
              "    }\n",
              "\n",
              "    .dataframe thead th {\n",
              "        text-align: right;\n",
              "    }\n",
              "</style>\n",
              "<table border=\"1\" class=\"dataframe\">\n",
              "  <thead>\n",
              "    <tr style=\"text-align: right;\">\n",
              "      <th></th>\n",
              "      <th>Pregnancies</th>\n",
              "      <th>Glucose</th>\n",
              "      <th>BloodPressure</th>\n",
              "      <th>SkinThickness</th>\n",
              "      <th>Insulin</th>\n",
              "      <th>BMI</th>\n",
              "      <th>DiabetesPedigreeFunction</th>\n",
              "      <th>Age</th>\n",
              "      <th>Outcome</th>\n",
              "    </tr>\n",
              "  </thead>\n",
              "  <tbody>\n",
              "    <tr>\n",
              "      <th>0</th>\n",
              "      <td>6</td>\n",
              "      <td>148.0</td>\n",
              "      <td>72.0</td>\n",
              "      <td>35.0</td>\n",
              "      <td>125.0</td>\n",
              "      <td>33.6</td>\n",
              "      <td>0.627</td>\n",
              "      <td>50</td>\n",
              "      <td>1</td>\n",
              "    </tr>\n",
              "    <tr>\n",
              "      <th>1</th>\n",
              "      <td>1</td>\n",
              "      <td>85.0</td>\n",
              "      <td>66.0</td>\n",
              "      <td>29.0</td>\n",
              "      <td>125.0</td>\n",
              "      <td>26.6</td>\n",
              "      <td>0.351</td>\n",
              "      <td>31</td>\n",
              "      <td>0</td>\n",
              "    </tr>\n",
              "    <tr>\n",
              "      <th>2</th>\n",
              "      <td>8</td>\n",
              "      <td>183.0</td>\n",
              "      <td>64.0</td>\n",
              "      <td>29.0</td>\n",
              "      <td>125.0</td>\n",
              "      <td>23.3</td>\n",
              "      <td>0.672</td>\n",
              "      <td>32</td>\n",
              "      <td>1</td>\n",
              "    </tr>\n",
              "    <tr>\n",
              "      <th>3</th>\n",
              "      <td>1</td>\n",
              "      <td>89.0</td>\n",
              "      <td>66.0</td>\n",
              "      <td>23.0</td>\n",
              "      <td>94.0</td>\n",
              "      <td>28.1</td>\n",
              "      <td>0.167</td>\n",
              "      <td>21</td>\n",
              "      <td>0</td>\n",
              "    </tr>\n",
              "    <tr>\n",
              "      <th>4</th>\n",
              "      <td>0</td>\n",
              "      <td>137.0</td>\n",
              "      <td>40.0</td>\n",
              "      <td>35.0</td>\n",
              "      <td>168.0</td>\n",
              "      <td>43.1</td>\n",
              "      <td>2.288</td>\n",
              "      <td>33</td>\n",
              "      <td>1</td>\n",
              "    </tr>\n",
              "    <tr>\n",
              "      <th>5</th>\n",
              "      <td>5</td>\n",
              "      <td>116.0</td>\n",
              "      <td>74.0</td>\n",
              "      <td>29.0</td>\n",
              "      <td>125.0</td>\n",
              "      <td>25.6</td>\n",
              "      <td>0.201</td>\n",
              "      <td>30</td>\n",
              "      <td>0</td>\n",
              "    </tr>\n",
              "    <tr>\n",
              "      <th>6</th>\n",
              "      <td>3</td>\n",
              "      <td>78.0</td>\n",
              "      <td>50.0</td>\n",
              "      <td>32.0</td>\n",
              "      <td>88.0</td>\n",
              "      <td>31.0</td>\n",
              "      <td>0.248</td>\n",
              "      <td>26</td>\n",
              "      <td>1</td>\n",
              "    </tr>\n",
              "    <tr>\n",
              "      <th>7</th>\n",
              "      <td>10</td>\n",
              "      <td>115.0</td>\n",
              "      <td>72.0</td>\n",
              "      <td>29.0</td>\n",
              "      <td>125.0</td>\n",
              "      <td>35.3</td>\n",
              "      <td>0.134</td>\n",
              "      <td>29</td>\n",
              "      <td>0</td>\n",
              "    </tr>\n",
              "    <tr>\n",
              "      <th>8</th>\n",
              "      <td>2</td>\n",
              "      <td>197.0</td>\n",
              "      <td>70.0</td>\n",
              "      <td>45.0</td>\n",
              "      <td>543.0</td>\n",
              "      <td>30.5</td>\n",
              "      <td>0.158</td>\n",
              "      <td>53</td>\n",
              "      <td>1</td>\n",
              "    </tr>\n",
              "    <tr>\n",
              "      <th>9</th>\n",
              "      <td>8</td>\n",
              "      <td>125.0</td>\n",
              "      <td>96.0</td>\n",
              "      <td>29.0</td>\n",
              "      <td>125.0</td>\n",
              "      <td>32.3</td>\n",
              "      <td>0.232</td>\n",
              "      <td>54</td>\n",
              "      <td>1</td>\n",
              "    </tr>\n",
              "  </tbody>\n",
              "</table>\n",
              "</div>"
            ],
            "text/plain": [
              "   Pregnancies  Glucose  BloodPressure  ...  DiabetesPedigreeFunction  Age  Outcome\n",
              "0            6    148.0           72.0  ...                     0.627   50        1\n",
              "1            1     85.0           66.0  ...                     0.351   31        0\n",
              "2            8    183.0           64.0  ...                     0.672   32        1\n",
              "3            1     89.0           66.0  ...                     0.167   21        0\n",
              "4            0    137.0           40.0  ...                     2.288   33        1\n",
              "5            5    116.0           74.0  ...                     0.201   30        0\n",
              "6            3     78.0           50.0  ...                     0.248   26        1\n",
              "7           10    115.0           72.0  ...                     0.134   29        0\n",
              "8            2    197.0           70.0  ...                     0.158   53        1\n",
              "9            8    125.0           96.0  ...                     0.232   54        1\n",
              "\n",
              "[10 rows x 9 columns]"
            ]
          },
          "metadata": {
            "tags": []
          },
          "execution_count": 51
        }
      ]
    },
    {
      "cell_type": "markdown",
      "metadata": {
        "id": "Ares-U3O0bIm"
      },
      "source": [
        "## [DIY] 전처리된 데이터프레임 data2를 이용해서 FCN으로 best model을 찾으시오.\n",
        "- best model: hdf5 file\n",
        "- Accuracy graph\n",
        "- Confusion matrix graph"
      ]
    },
    {
      "cell_type": "code",
      "metadata": {
        "id": "YDrUtW3HwUyf"
      },
      "source": [
        "# Your code here"
      ],
      "execution_count": null,
      "outputs": []
    },
    {
      "cell_type": "code",
      "metadata": {
        "colab": {
          "base_uri": "https://localhost:8080/",
          "height": 195
        },
        "id": "zoqjLAVuzc0s",
        "outputId": "e808392b-4b37-40a1-c7f7-d25ad670b33c"
      },
      "source": [
        "# Print the first 5 rows \n",
        "data2.head()"
      ],
      "execution_count": null,
      "outputs": [
        {
          "output_type": "execute_result",
          "data": {
            "text/html": [
              "<div>\n",
              "<style scoped>\n",
              "    .dataframe tbody tr th:only-of-type {\n",
              "        vertical-align: middle;\n",
              "    }\n",
              "\n",
              "    .dataframe tbody tr th {\n",
              "        vertical-align: top;\n",
              "    }\n",
              "\n",
              "    .dataframe thead th {\n",
              "        text-align: right;\n",
              "    }\n",
              "</style>\n",
              "<table border=\"1\" class=\"dataframe\">\n",
              "  <thead>\n",
              "    <tr style=\"text-align: right;\">\n",
              "      <th></th>\n",
              "      <th>Pregnancies</th>\n",
              "      <th>Glucose</th>\n",
              "      <th>BloodPressure</th>\n",
              "      <th>SkinThickness</th>\n",
              "      <th>Insulin</th>\n",
              "      <th>BMI</th>\n",
              "      <th>DiabetesPedigreeFunction</th>\n",
              "      <th>Age</th>\n",
              "      <th>Outcome</th>\n",
              "    </tr>\n",
              "  </thead>\n",
              "  <tbody>\n",
              "    <tr>\n",
              "      <th>0</th>\n",
              "      <td>6</td>\n",
              "      <td>148.0</td>\n",
              "      <td>72.0</td>\n",
              "      <td>35.0</td>\n",
              "      <td>125.0</td>\n",
              "      <td>33.6</td>\n",
              "      <td>0.627</td>\n",
              "      <td>50</td>\n",
              "      <td>1</td>\n",
              "    </tr>\n",
              "    <tr>\n",
              "      <th>1</th>\n",
              "      <td>1</td>\n",
              "      <td>85.0</td>\n",
              "      <td>66.0</td>\n",
              "      <td>29.0</td>\n",
              "      <td>125.0</td>\n",
              "      <td>26.6</td>\n",
              "      <td>0.351</td>\n",
              "      <td>31</td>\n",
              "      <td>0</td>\n",
              "    </tr>\n",
              "    <tr>\n",
              "      <th>2</th>\n",
              "      <td>8</td>\n",
              "      <td>183.0</td>\n",
              "      <td>64.0</td>\n",
              "      <td>29.0</td>\n",
              "      <td>125.0</td>\n",
              "      <td>23.3</td>\n",
              "      <td>0.672</td>\n",
              "      <td>32</td>\n",
              "      <td>1</td>\n",
              "    </tr>\n",
              "    <tr>\n",
              "      <th>3</th>\n",
              "      <td>1</td>\n",
              "      <td>89.0</td>\n",
              "      <td>66.0</td>\n",
              "      <td>23.0</td>\n",
              "      <td>94.0</td>\n",
              "      <td>28.1</td>\n",
              "      <td>0.167</td>\n",
              "      <td>21</td>\n",
              "      <td>0</td>\n",
              "    </tr>\n",
              "    <tr>\n",
              "      <th>4</th>\n",
              "      <td>0</td>\n",
              "      <td>137.0</td>\n",
              "      <td>40.0</td>\n",
              "      <td>35.0</td>\n",
              "      <td>168.0</td>\n",
              "      <td>43.1</td>\n",
              "      <td>2.288</td>\n",
              "      <td>33</td>\n",
              "      <td>1</td>\n",
              "    </tr>\n",
              "  </tbody>\n",
              "</table>\n",
              "</div>"
            ],
            "text/plain": [
              "   Pregnancies  Glucose  BloodPressure  ...  DiabetesPedigreeFunction  Age  Outcome\n",
              "0            6    148.0           72.0  ...                     0.627   50        1\n",
              "1            1     85.0           66.0  ...                     0.351   31        0\n",
              "2            8    183.0           64.0  ...                     0.672   32        1\n",
              "3            1     89.0           66.0  ...                     0.167   21        0\n",
              "4            0    137.0           40.0  ...                     2.288   33        1\n",
              "\n",
              "[5 rows x 9 columns]"
            ]
          },
          "metadata": {
            "tags": []
          },
          "execution_count": 52
        }
      ]
    },
    {
      "cell_type": "code",
      "metadata": {
        "id": "QNEaUgufzc0s"
      },
      "source": [
        "# import TF2 submodules\n",
        "from tensorflow.keras import layers, models, callbacks\n",
        "from keras.models import Sequential\n",
        "from keras.layers import Dense, Conv2D, MaxPool2D, Flatten\n",
        "from keras.callbacks import ModelCheckpoint, EarlyStopping"
      ],
      "execution_count": null,
      "outputs": []
    },
    {
      "cell_type": "code",
      "metadata": {
        "colab": {
          "base_uri": "https://localhost:8080/"
        },
        "id": "R7RPdThwy4S6",
        "outputId": "65026dd1-2140-4a3a-e7f8-b0de03ebea9c"
      },
      "source": [
        "# Split dataset to train & test set\n",
        "X_train = data2.iloc[:600,0:8] # 600\n",
        "y_train = data2.iloc[:600,8]\n",
        "X_test = data2.iloc[600:,0:8] # 168\n",
        "y_test = data2.iloc[600:,8]\n",
        "X_train.shape,y_train.shape,X_test.shape,y_test.shape"
      ],
      "execution_count": null,
      "outputs": [
        {
          "output_type": "execute_result",
          "data": {
            "text/plain": [
              "((600, 8), (600,), (168, 8), (168,))"
            ]
          },
          "metadata": {
            "tags": []
          },
          "execution_count": 54
        }
      ]
    },
    {
      "cell_type": "code",
      "metadata": {
        "id": "cHRlmj3Fy4S-"
      },
      "source": [
        "# define the keras model\n",
        "modelA = Sequential()\n",
        "modelA.add(Dense(12, input_dim=8, activation='relu'))\n",
        "modelA.add(Dense(8, activation='relu'))\n",
        "modelA.add(Dense(1, activation='sigmoid'))  # softmaX\n",
        "# compile the keras model\n",
        "modelA.compile(loss='binary_crossentropy', \n",
        "              optimizer='adam', \n",
        "              metrics=['accuracy'])\n"
      ],
      "execution_count": null,
      "outputs": []
    },
    {
      "cell_type": "code",
      "metadata": {
        "colab": {
          "base_uri": "https://localhost:8080/"
        },
        "id": "C-gKxpv1y4S-",
        "outputId": "de2e1d32-193e-4716-ff42-c0ec74105a7c"
      },
      "source": [
        "# fit the keras model on the dataset\n",
        "hist = modelA.fit(X_train, y_train, epochs=150, batch_size=10, verbose=1, \n",
        "                 validation_data=(X_test, y_test))\n"
      ],
      "execution_count": null,
      "outputs": [
        {
          "output_type": "stream",
          "text": [
            "Epoch 1/150\n",
            "60/60 [==============================] - 0s 4ms/step - loss: 1.5400 - accuracy: 0.5967 - val_loss: 0.8127 - val_accuracy: 0.6786\n",
            "Epoch 2/150\n",
            "60/60 [==============================] - 0s 1ms/step - loss: 0.8858 - accuracy: 0.6033 - val_loss: 0.7545 - val_accuracy: 0.5714\n",
            "Epoch 3/150\n",
            "60/60 [==============================] - 0s 1ms/step - loss: 0.7942 - accuracy: 0.6033 - val_loss: 0.6838 - val_accuracy: 0.6726\n",
            "Epoch 4/150\n",
            "60/60 [==============================] - 0s 1ms/step - loss: 0.7203 - accuracy: 0.6217 - val_loss: 0.6633 - val_accuracy: 0.6369\n",
            "Epoch 5/150\n",
            "60/60 [==============================] - 0s 1ms/step - loss: 0.6815 - accuracy: 0.6217 - val_loss: 0.6483 - val_accuracy: 0.6429\n",
            "Epoch 6/150\n",
            "60/60 [==============================] - 0s 1ms/step - loss: 0.6526 - accuracy: 0.6350 - val_loss: 0.6422 - val_accuracy: 0.6250\n",
            "Epoch 7/150\n",
            "60/60 [==============================] - 0s 1ms/step - loss: 0.6515 - accuracy: 0.6417 - val_loss: 0.6383 - val_accuracy: 0.6131\n",
            "Epoch 8/150\n",
            "60/60 [==============================] - 0s 1ms/step - loss: 0.6380 - accuracy: 0.6617 - val_loss: 0.6313 - val_accuracy: 0.6667\n",
            "Epoch 9/150\n",
            "60/60 [==============================] - 0s 1ms/step - loss: 0.6371 - accuracy: 0.6317 - val_loss: 0.6262 - val_accuracy: 0.6667\n",
            "Epoch 10/150\n",
            "60/60 [==============================] - 0s 1ms/step - loss: 0.6329 - accuracy: 0.6617 - val_loss: 0.6171 - val_accuracy: 0.6667\n",
            "Epoch 11/150\n",
            "60/60 [==============================] - 0s 1ms/step - loss: 0.6327 - accuracy: 0.6600 - val_loss: 0.6144 - val_accuracy: 0.6905\n",
            "Epoch 12/150\n",
            "60/60 [==============================] - 0s 1ms/step - loss: 0.6251 - accuracy: 0.6600 - val_loss: 0.6054 - val_accuracy: 0.7024\n",
            "Epoch 13/150\n",
            "60/60 [==============================] - 0s 1ms/step - loss: 0.6219 - accuracy: 0.6733 - val_loss: 0.6012 - val_accuracy: 0.7083\n",
            "Epoch 14/150\n",
            "60/60 [==============================] - 0s 1ms/step - loss: 0.6111 - accuracy: 0.6767 - val_loss: 0.5985 - val_accuracy: 0.7381\n",
            "Epoch 15/150\n",
            "60/60 [==============================] - 0s 1ms/step - loss: 0.6129 - accuracy: 0.6717 - val_loss: 0.5988 - val_accuracy: 0.7381\n",
            "Epoch 16/150\n",
            "60/60 [==============================] - 0s 1ms/step - loss: 0.6060 - accuracy: 0.6817 - val_loss: 0.5971 - val_accuracy: 0.7321\n",
            "Epoch 17/150\n",
            "60/60 [==============================] - 0s 2ms/step - loss: 0.6078 - accuracy: 0.6717 - val_loss: 0.5905 - val_accuracy: 0.7262\n",
            "Epoch 18/150\n",
            "60/60 [==============================] - 0s 1ms/step - loss: 0.6039 - accuracy: 0.6783 - val_loss: 0.5879 - val_accuracy: 0.7083\n",
            "Epoch 19/150\n",
            "60/60 [==============================] - 0s 2ms/step - loss: 0.6126 - accuracy: 0.6817 - val_loss: 0.6091 - val_accuracy: 0.6488\n",
            "Epoch 20/150\n",
            "60/60 [==============================] - 0s 1ms/step - loss: 0.6032 - accuracy: 0.6883 - val_loss: 0.5970 - val_accuracy: 0.6786\n",
            "Epoch 21/150\n",
            "60/60 [==============================] - 0s 1ms/step - loss: 0.5960 - accuracy: 0.6833 - val_loss: 0.5920 - val_accuracy: 0.6845\n",
            "Epoch 22/150\n",
            "60/60 [==============================] - 0s 1ms/step - loss: 0.6064 - accuracy: 0.6667 - val_loss: 0.5883 - val_accuracy: 0.6905\n",
            "Epoch 23/150\n",
            "60/60 [==============================] - 0s 1ms/step - loss: 0.5935 - accuracy: 0.7017 - val_loss: 0.5884 - val_accuracy: 0.6964\n",
            "Epoch 24/150\n",
            "60/60 [==============================] - 0s 1ms/step - loss: 0.5900 - accuracy: 0.7050 - val_loss: 0.5876 - val_accuracy: 0.6964\n",
            "Epoch 25/150\n",
            "60/60 [==============================] - 0s 1ms/step - loss: 0.5935 - accuracy: 0.6850 - val_loss: 0.5786 - val_accuracy: 0.7262\n",
            "Epoch 26/150\n",
            "60/60 [==============================] - 0s 1ms/step - loss: 0.5985 - accuracy: 0.6783 - val_loss: 0.6040 - val_accuracy: 0.6667\n",
            "Epoch 27/150\n",
            "60/60 [==============================] - 0s 1ms/step - loss: 0.6019 - accuracy: 0.6783 - val_loss: 0.6060 - val_accuracy: 0.6726\n",
            "Epoch 28/150\n",
            "60/60 [==============================] - 0s 1ms/step - loss: 0.6000 - accuracy: 0.6833 - val_loss: 0.5701 - val_accuracy: 0.7381\n",
            "Epoch 29/150\n",
            "60/60 [==============================] - 0s 1ms/step - loss: 0.5857 - accuracy: 0.6900 - val_loss: 0.6080 - val_accuracy: 0.6726\n",
            "Epoch 30/150\n",
            "60/60 [==============================] - 0s 1ms/step - loss: 0.5865 - accuracy: 0.6983 - val_loss: 0.5794 - val_accuracy: 0.6964\n",
            "Epoch 31/150\n",
            "60/60 [==============================] - 0s 1ms/step - loss: 0.5970 - accuracy: 0.6783 - val_loss: 0.5690 - val_accuracy: 0.7262\n",
            "Epoch 32/150\n",
            "60/60 [==============================] - 0s 1ms/step - loss: 0.5848 - accuracy: 0.6933 - val_loss: 0.5790 - val_accuracy: 0.7143\n",
            "Epoch 33/150\n",
            "60/60 [==============================] - 0s 1ms/step - loss: 0.5954 - accuracy: 0.6933 - val_loss: 0.5704 - val_accuracy: 0.7083\n",
            "Epoch 34/150\n",
            "60/60 [==============================] - 0s 1ms/step - loss: 0.5894 - accuracy: 0.6933 - val_loss: 0.5713 - val_accuracy: 0.7262\n",
            "Epoch 35/150\n",
            "60/60 [==============================] - 0s 1ms/step - loss: 0.5861 - accuracy: 0.6900 - val_loss: 0.5911 - val_accuracy: 0.6964\n",
            "Epoch 36/150\n",
            "60/60 [==============================] - 0s 1ms/step - loss: 0.5969 - accuracy: 0.6900 - val_loss: 0.5750 - val_accuracy: 0.7262\n",
            "Epoch 37/150\n",
            "60/60 [==============================] - 0s 1ms/step - loss: 0.5836 - accuracy: 0.6917 - val_loss: 0.5648 - val_accuracy: 0.7083\n",
            "Epoch 38/150\n",
            "60/60 [==============================] - 0s 2ms/step - loss: 0.5812 - accuracy: 0.7000 - val_loss: 0.5680 - val_accuracy: 0.7143\n",
            "Epoch 39/150\n",
            "60/60 [==============================] - 0s 1ms/step - loss: 0.5856 - accuracy: 0.6967 - val_loss: 0.5639 - val_accuracy: 0.7262\n",
            "Epoch 40/150\n",
            "60/60 [==============================] - 0s 1ms/step - loss: 0.5825 - accuracy: 0.7000 - val_loss: 0.5608 - val_accuracy: 0.7202\n",
            "Epoch 41/150\n",
            "60/60 [==============================] - 0s 1ms/step - loss: 0.5755 - accuracy: 0.7117 - val_loss: 0.5687 - val_accuracy: 0.7381\n",
            "Epoch 42/150\n",
            "60/60 [==============================] - 0s 1ms/step - loss: 0.5796 - accuracy: 0.7067 - val_loss: 0.5804 - val_accuracy: 0.7024\n",
            "Epoch 43/150\n",
            "60/60 [==============================] - 0s 1ms/step - loss: 0.5707 - accuracy: 0.7067 - val_loss: 0.5758 - val_accuracy: 0.7440\n",
            "Epoch 44/150\n",
            "60/60 [==============================] - 0s 1ms/step - loss: 0.5915 - accuracy: 0.7033 - val_loss: 0.5600 - val_accuracy: 0.7262\n",
            "Epoch 45/150\n",
            "60/60 [==============================] - 0s 1ms/step - loss: 0.5784 - accuracy: 0.6900 - val_loss: 0.5597 - val_accuracy: 0.7024\n",
            "Epoch 46/150\n",
            "60/60 [==============================] - 0s 2ms/step - loss: 0.5761 - accuracy: 0.6967 - val_loss: 0.5560 - val_accuracy: 0.7202\n",
            "Epoch 47/150\n",
            "60/60 [==============================] - 0s 1ms/step - loss: 0.5732 - accuracy: 0.7100 - val_loss: 0.5830 - val_accuracy: 0.7024\n",
            "Epoch 48/150\n",
            "60/60 [==============================] - 0s 1ms/step - loss: 0.5852 - accuracy: 0.6983 - val_loss: 0.5556 - val_accuracy: 0.7262\n",
            "Epoch 49/150\n",
            "60/60 [==============================] - 0s 1ms/step - loss: 0.5765 - accuracy: 0.7033 - val_loss: 0.5551 - val_accuracy: 0.7440\n",
            "Epoch 50/150\n",
            "60/60 [==============================] - 0s 1ms/step - loss: 0.5707 - accuracy: 0.7083 - val_loss: 0.5614 - val_accuracy: 0.7202\n",
            "Epoch 51/150\n",
            "60/60 [==============================] - 0s 1ms/step - loss: 0.5776 - accuracy: 0.7050 - val_loss: 0.5596 - val_accuracy: 0.7440\n",
            "Epoch 52/150\n",
            "60/60 [==============================] - 0s 2ms/step - loss: 0.5823 - accuracy: 0.6983 - val_loss: 0.5833 - val_accuracy: 0.6964\n",
            "Epoch 53/150\n",
            "60/60 [==============================] - 0s 1ms/step - loss: 0.5683 - accuracy: 0.7117 - val_loss: 0.5560 - val_accuracy: 0.7440\n",
            "Epoch 54/150\n",
            "60/60 [==============================] - 0s 1ms/step - loss: 0.5684 - accuracy: 0.7167 - val_loss: 0.5515 - val_accuracy: 0.7262\n",
            "Epoch 55/150\n",
            "60/60 [==============================] - 0s 1ms/step - loss: 0.5660 - accuracy: 0.7283 - val_loss: 0.5531 - val_accuracy: 0.7143\n",
            "Epoch 56/150\n",
            "60/60 [==============================] - 0s 1ms/step - loss: 0.5657 - accuracy: 0.7067 - val_loss: 0.5548 - val_accuracy: 0.7202\n",
            "Epoch 57/150\n",
            "60/60 [==============================] - 0s 1ms/step - loss: 0.5726 - accuracy: 0.7067 - val_loss: 0.5569 - val_accuracy: 0.7619\n",
            "Epoch 58/150\n",
            "60/60 [==============================] - 0s 1ms/step - loss: 0.5663 - accuracy: 0.7217 - val_loss: 0.5631 - val_accuracy: 0.7143\n",
            "Epoch 59/150\n",
            "60/60 [==============================] - 0s 1ms/step - loss: 0.5657 - accuracy: 0.7183 - val_loss: 0.5578 - val_accuracy: 0.7560\n",
            "Epoch 60/150\n",
            "60/60 [==============================] - 0s 1ms/step - loss: 0.5707 - accuracy: 0.7183 - val_loss: 0.5528 - val_accuracy: 0.7321\n",
            "Epoch 61/150\n",
            "60/60 [==============================] - 0s 1ms/step - loss: 0.5726 - accuracy: 0.7050 - val_loss: 0.5576 - val_accuracy: 0.7262\n",
            "Epoch 62/150\n",
            "60/60 [==============================] - 0s 2ms/step - loss: 0.5607 - accuracy: 0.7150 - val_loss: 0.5511 - val_accuracy: 0.7202\n",
            "Epoch 63/150\n",
            "60/60 [==============================] - 0s 1ms/step - loss: 0.5622 - accuracy: 0.7167 - val_loss: 0.5486 - val_accuracy: 0.7619\n",
            "Epoch 64/150\n",
            "60/60 [==============================] - 0s 1ms/step - loss: 0.5636 - accuracy: 0.7100 - val_loss: 0.5525 - val_accuracy: 0.7202\n",
            "Epoch 65/150\n",
            "60/60 [==============================] - 0s 1ms/step - loss: 0.5717 - accuracy: 0.7000 - val_loss: 0.5476 - val_accuracy: 0.7262\n",
            "Epoch 66/150\n",
            "60/60 [==============================] - 0s 1ms/step - loss: 0.5668 - accuracy: 0.7017 - val_loss: 0.5443 - val_accuracy: 0.7679\n",
            "Epoch 67/150\n",
            "60/60 [==============================] - 0s 2ms/step - loss: 0.5620 - accuracy: 0.7133 - val_loss: 0.5457 - val_accuracy: 0.7381\n",
            "Epoch 68/150\n",
            "60/60 [==============================] - 0s 2ms/step - loss: 0.5702 - accuracy: 0.7033 - val_loss: 0.5818 - val_accuracy: 0.6905\n",
            "Epoch 69/150\n",
            "60/60 [==============================] - 0s 2ms/step - loss: 0.5662 - accuracy: 0.7117 - val_loss: 0.5472 - val_accuracy: 0.7321\n",
            "Epoch 70/150\n",
            "60/60 [==============================] - 0s 2ms/step - loss: 0.5672 - accuracy: 0.7067 - val_loss: 0.5447 - val_accuracy: 0.7381\n",
            "Epoch 71/150\n",
            "60/60 [==============================] - 0s 2ms/step - loss: 0.5776 - accuracy: 0.7217 - val_loss: 0.5485 - val_accuracy: 0.7321\n",
            "Epoch 72/150\n",
            "60/60 [==============================] - 0s 1ms/step - loss: 0.5531 - accuracy: 0.7217 - val_loss: 0.5474 - val_accuracy: 0.7560\n",
            "Epoch 73/150\n",
            "60/60 [==============================] - 0s 1ms/step - loss: 0.5639 - accuracy: 0.7050 - val_loss: 0.5562 - val_accuracy: 0.7024\n",
            "Epoch 74/150\n",
            "60/60 [==============================] - 0s 1ms/step - loss: 0.5556 - accuracy: 0.7267 - val_loss: 0.5486 - val_accuracy: 0.7202\n",
            "Epoch 75/150\n",
            "60/60 [==============================] - 0s 1ms/step - loss: 0.5561 - accuracy: 0.7117 - val_loss: 0.6317 - val_accuracy: 0.6726\n",
            "Epoch 76/150\n",
            "60/60 [==============================] - 0s 1ms/step - loss: 0.5825 - accuracy: 0.6967 - val_loss: 0.5448 - val_accuracy: 0.7381\n",
            "Epoch 77/150\n",
            "60/60 [==============================] - 0s 1ms/step - loss: 0.5514 - accuracy: 0.7250 - val_loss: 0.5417 - val_accuracy: 0.7262\n",
            "Epoch 78/150\n",
            "60/60 [==============================] - 0s 2ms/step - loss: 0.5556 - accuracy: 0.7250 - val_loss: 0.5406 - val_accuracy: 0.7381\n",
            "Epoch 79/150\n",
            "60/60 [==============================] - 0s 1ms/step - loss: 0.5564 - accuracy: 0.7150 - val_loss: 0.5584 - val_accuracy: 0.7143\n",
            "Epoch 80/150\n",
            "60/60 [==============================] - 0s 1ms/step - loss: 0.5559 - accuracy: 0.7183 - val_loss: 0.5597 - val_accuracy: 0.7143\n",
            "Epoch 81/150\n",
            "60/60 [==============================] - 0s 2ms/step - loss: 0.5531 - accuracy: 0.7100 - val_loss: 0.5453 - val_accuracy: 0.7381\n",
            "Epoch 82/150\n",
            "60/60 [==============================] - 0s 1ms/step - loss: 0.5503 - accuracy: 0.7350 - val_loss: 0.5438 - val_accuracy: 0.7560\n",
            "Epoch 83/150\n",
            "60/60 [==============================] - 0s 1ms/step - loss: 0.5536 - accuracy: 0.7233 - val_loss: 0.5434 - val_accuracy: 0.7381\n",
            "Epoch 84/150\n",
            "60/60 [==============================] - 0s 1ms/step - loss: 0.5498 - accuracy: 0.7233 - val_loss: 0.5369 - val_accuracy: 0.7560\n",
            "Epoch 85/150\n",
            "60/60 [==============================] - 0s 1ms/step - loss: 0.5518 - accuracy: 0.7233 - val_loss: 0.5573 - val_accuracy: 0.7083\n",
            "Epoch 86/150\n",
            "60/60 [==============================] - 0s 1ms/step - loss: 0.5507 - accuracy: 0.7200 - val_loss: 0.5373 - val_accuracy: 0.7679\n",
            "Epoch 87/150\n",
            "60/60 [==============================] - 0s 2ms/step - loss: 0.5513 - accuracy: 0.7333 - val_loss: 0.5412 - val_accuracy: 0.7560\n",
            "Epoch 88/150\n",
            "60/60 [==============================] - 0s 2ms/step - loss: 0.5485 - accuracy: 0.7250 - val_loss: 0.5432 - val_accuracy: 0.7321\n",
            "Epoch 89/150\n",
            "60/60 [==============================] - 0s 1ms/step - loss: 0.5527 - accuracy: 0.7217 - val_loss: 0.5574 - val_accuracy: 0.7202\n",
            "Epoch 90/150\n",
            "60/60 [==============================] - 0s 2ms/step - loss: 0.5530 - accuracy: 0.7133 - val_loss: 0.5415 - val_accuracy: 0.7679\n",
            "Epoch 91/150\n",
            "60/60 [==============================] - 0s 1ms/step - loss: 0.5449 - accuracy: 0.7233 - val_loss: 0.5405 - val_accuracy: 0.7381\n",
            "Epoch 92/150\n",
            "60/60 [==============================] - 0s 2ms/step - loss: 0.5465 - accuracy: 0.7317 - val_loss: 0.5358 - val_accuracy: 0.7560\n",
            "Epoch 93/150\n",
            "60/60 [==============================] - 0s 1ms/step - loss: 0.5593 - accuracy: 0.7167 - val_loss: 0.5441 - val_accuracy: 0.7560\n",
            "Epoch 94/150\n",
            "60/60 [==============================] - 0s 1ms/step - loss: 0.5504 - accuracy: 0.7367 - val_loss: 0.5406 - val_accuracy: 0.7381\n",
            "Epoch 95/150\n",
            "60/60 [==============================] - 0s 1ms/step - loss: 0.5500 - accuracy: 0.7483 - val_loss: 0.5492 - val_accuracy: 0.7500\n",
            "Epoch 96/150\n",
            "60/60 [==============================] - 0s 1ms/step - loss: 0.5565 - accuracy: 0.7100 - val_loss: 0.5672 - val_accuracy: 0.7143\n",
            "Epoch 97/150\n",
            "60/60 [==============================] - 0s 1ms/step - loss: 0.5547 - accuracy: 0.7200 - val_loss: 0.5342 - val_accuracy: 0.7500\n",
            "Epoch 98/150\n",
            "60/60 [==============================] - 0s 1ms/step - loss: 0.5467 - accuracy: 0.7267 - val_loss: 0.5381 - val_accuracy: 0.7321\n",
            "Epoch 99/150\n",
            "60/60 [==============================] - 0s 1ms/step - loss: 0.5459 - accuracy: 0.7267 - val_loss: 0.5501 - val_accuracy: 0.7262\n",
            "Epoch 100/150\n",
            "60/60 [==============================] - 0s 1ms/step - loss: 0.5580 - accuracy: 0.7283 - val_loss: 0.5348 - val_accuracy: 0.7500\n",
            "Epoch 101/150\n",
            "60/60 [==============================] - 0s 1ms/step - loss: 0.5473 - accuracy: 0.7267 - val_loss: 0.5493 - val_accuracy: 0.7500\n",
            "Epoch 102/150\n",
            "60/60 [==============================] - 0s 2ms/step - loss: 0.5444 - accuracy: 0.7183 - val_loss: 0.5459 - val_accuracy: 0.7143\n",
            "Epoch 103/150\n",
            "60/60 [==============================] - 0s 2ms/step - loss: 0.5418 - accuracy: 0.7250 - val_loss: 0.5407 - val_accuracy: 0.7560\n",
            "Epoch 104/150\n",
            "60/60 [==============================] - 0s 1ms/step - loss: 0.5469 - accuracy: 0.7250 - val_loss: 0.5331 - val_accuracy: 0.7619\n",
            "Epoch 105/150\n",
            "60/60 [==============================] - 0s 1ms/step - loss: 0.5358 - accuracy: 0.7283 - val_loss: 0.5550 - val_accuracy: 0.7440\n",
            "Epoch 106/150\n",
            "60/60 [==============================] - 0s 1ms/step - loss: 0.5368 - accuracy: 0.7367 - val_loss: 0.5399 - val_accuracy: 0.7381\n",
            "Epoch 107/150\n",
            "60/60 [==============================] - 0s 1ms/step - loss: 0.5400 - accuracy: 0.7267 - val_loss: 0.5477 - val_accuracy: 0.7560\n",
            "Epoch 108/150\n",
            "60/60 [==============================] - 0s 1ms/step - loss: 0.5419 - accuracy: 0.7400 - val_loss: 0.5347 - val_accuracy: 0.7500\n",
            "Epoch 109/150\n",
            "60/60 [==============================] - 0s 2ms/step - loss: 0.5360 - accuracy: 0.7400 - val_loss: 0.5491 - val_accuracy: 0.7262\n",
            "Epoch 110/150\n",
            "60/60 [==============================] - 0s 1ms/step - loss: 0.5431 - accuracy: 0.7400 - val_loss: 0.5558 - val_accuracy: 0.7262\n",
            "Epoch 111/150\n",
            "60/60 [==============================] - 0s 1ms/step - loss: 0.5503 - accuracy: 0.7200 - val_loss: 0.5391 - val_accuracy: 0.7440\n",
            "Epoch 112/150\n",
            "60/60 [==============================] - 0s 1ms/step - loss: 0.5495 - accuracy: 0.7400 - val_loss: 0.5369 - val_accuracy: 0.7440\n",
            "Epoch 113/150\n",
            "60/60 [==============================] - 0s 1ms/step - loss: 0.5396 - accuracy: 0.7350 - val_loss: 0.5289 - val_accuracy: 0.7440\n",
            "Epoch 114/150\n",
            "60/60 [==============================] - 0s 1ms/step - loss: 0.5358 - accuracy: 0.7333 - val_loss: 0.5486 - val_accuracy: 0.7202\n",
            "Epoch 115/150\n",
            "60/60 [==============================] - 0s 1ms/step - loss: 0.5370 - accuracy: 0.7200 - val_loss: 0.5331 - val_accuracy: 0.7381\n",
            "Epoch 116/150\n",
            "60/60 [==============================] - 0s 1ms/step - loss: 0.5426 - accuracy: 0.7267 - val_loss: 0.5641 - val_accuracy: 0.7143\n",
            "Epoch 117/150\n",
            "60/60 [==============================] - 0s 1ms/step - loss: 0.5408 - accuracy: 0.7400 - val_loss: 0.5310 - val_accuracy: 0.7619\n",
            "Epoch 118/150\n",
            "60/60 [==============================] - 0s 1ms/step - loss: 0.5499 - accuracy: 0.7400 - val_loss: 0.5347 - val_accuracy: 0.7500\n",
            "Epoch 119/150\n",
            "60/60 [==============================] - 0s 1ms/step - loss: 0.5350 - accuracy: 0.7383 - val_loss: 0.5447 - val_accuracy: 0.7619\n",
            "Epoch 120/150\n",
            "60/60 [==============================] - 0s 1ms/step - loss: 0.5543 - accuracy: 0.7150 - val_loss: 0.5246 - val_accuracy: 0.7500\n",
            "Epoch 121/150\n",
            "60/60 [==============================] - 0s 1ms/step - loss: 0.5523 - accuracy: 0.7350 - val_loss: 0.5418 - val_accuracy: 0.7619\n",
            "Epoch 122/150\n",
            "60/60 [==============================] - 0s 1ms/step - loss: 0.5400 - accuracy: 0.7417 - val_loss: 0.5373 - val_accuracy: 0.7738\n",
            "Epoch 123/150\n",
            "60/60 [==============================] - 0s 2ms/step - loss: 0.5360 - accuracy: 0.7483 - val_loss: 0.5424 - val_accuracy: 0.7440\n",
            "Epoch 124/150\n",
            "60/60 [==============================] - 0s 1ms/step - loss: 0.5470 - accuracy: 0.7300 - val_loss: 0.5375 - val_accuracy: 0.7381\n",
            "Epoch 125/150\n",
            "60/60 [==============================] - 0s 1ms/step - loss: 0.5326 - accuracy: 0.7367 - val_loss: 0.5313 - val_accuracy: 0.7679\n",
            "Epoch 126/150\n",
            "60/60 [==============================] - 0s 1ms/step - loss: 0.5299 - accuracy: 0.7433 - val_loss: 0.5394 - val_accuracy: 0.7440\n",
            "Epoch 127/150\n",
            "60/60 [==============================] - 0s 1ms/step - loss: 0.5334 - accuracy: 0.7450 - val_loss: 0.5422 - val_accuracy: 0.7381\n",
            "Epoch 128/150\n",
            "60/60 [==============================] - 0s 1ms/step - loss: 0.5386 - accuracy: 0.7383 - val_loss: 0.5429 - val_accuracy: 0.7440\n",
            "Epoch 129/150\n",
            "60/60 [==============================] - 0s 1ms/step - loss: 0.5311 - accuracy: 0.7367 - val_loss: 0.5330 - val_accuracy: 0.7440\n",
            "Epoch 130/150\n",
            "60/60 [==============================] - 0s 1ms/step - loss: 0.5280 - accuracy: 0.7583 - val_loss: 0.5367 - val_accuracy: 0.7619\n",
            "Epoch 131/150\n",
            "60/60 [==============================] - 0s 2ms/step - loss: 0.5318 - accuracy: 0.7350 - val_loss: 0.5462 - val_accuracy: 0.7440\n",
            "Epoch 132/150\n",
            "60/60 [==============================] - 0s 1ms/step - loss: 0.5436 - accuracy: 0.7300 - val_loss: 0.5472 - val_accuracy: 0.7381\n",
            "Epoch 133/150\n",
            "60/60 [==============================] - 0s 1ms/step - loss: 0.5280 - accuracy: 0.7300 - val_loss: 0.5574 - val_accuracy: 0.7143\n",
            "Epoch 134/150\n",
            "60/60 [==============================] - 0s 1ms/step - loss: 0.5349 - accuracy: 0.7450 - val_loss: 0.5494 - val_accuracy: 0.7321\n",
            "Epoch 135/150\n",
            "60/60 [==============================] - 0s 2ms/step - loss: 0.5270 - accuracy: 0.7217 - val_loss: 0.5385 - val_accuracy: 0.7619\n",
            "Epoch 136/150\n",
            "60/60 [==============================] - 0s 2ms/step - loss: 0.5284 - accuracy: 0.7367 - val_loss: 0.5298 - val_accuracy: 0.7381\n",
            "Epoch 137/150\n",
            "60/60 [==============================] - 0s 1ms/step - loss: 0.5329 - accuracy: 0.7383 - val_loss: 0.5344 - val_accuracy: 0.7738\n",
            "Epoch 138/150\n",
            "60/60 [==============================] - 0s 1ms/step - loss: 0.5246 - accuracy: 0.7567 - val_loss: 0.5618 - val_accuracy: 0.7024\n",
            "Epoch 139/150\n",
            "60/60 [==============================] - 0s 2ms/step - loss: 0.5326 - accuracy: 0.7400 - val_loss: 0.5550 - val_accuracy: 0.7202\n",
            "Epoch 140/150\n",
            "60/60 [==============================] - 0s 1ms/step - loss: 0.5308 - accuracy: 0.7417 - val_loss: 0.5390 - val_accuracy: 0.7619\n",
            "Epoch 141/150\n",
            "60/60 [==============================] - 0s 1ms/step - loss: 0.5268 - accuracy: 0.7500 - val_loss: 0.5365 - val_accuracy: 0.7560\n",
            "Epoch 142/150\n",
            "60/60 [==============================] - 0s 1ms/step - loss: 0.5272 - accuracy: 0.7633 - val_loss: 0.5408 - val_accuracy: 0.7500\n",
            "Epoch 143/150\n",
            "60/60 [==============================] - 0s 2ms/step - loss: 0.5437 - accuracy: 0.7300 - val_loss: 0.5343 - val_accuracy: 0.7619\n",
            "Epoch 144/150\n",
            "60/60 [==============================] - 0s 1ms/step - loss: 0.5307 - accuracy: 0.7283 - val_loss: 0.5225 - val_accuracy: 0.7738\n",
            "Epoch 145/150\n",
            "60/60 [==============================] - 0s 1ms/step - loss: 0.5295 - accuracy: 0.7567 - val_loss: 0.5302 - val_accuracy: 0.7500\n",
            "Epoch 146/150\n",
            "60/60 [==============================] - 0s 2ms/step - loss: 0.5283 - accuracy: 0.7533 - val_loss: 0.5270 - val_accuracy: 0.7500\n",
            "Epoch 147/150\n",
            "60/60 [==============================] - 0s 1ms/step - loss: 0.5267 - accuracy: 0.7550 - val_loss: 0.5398 - val_accuracy: 0.7500\n",
            "Epoch 148/150\n",
            "60/60 [==============================] - 0s 1ms/step - loss: 0.5236 - accuracy: 0.7450 - val_loss: 0.5368 - val_accuracy: 0.7560\n",
            "Epoch 149/150\n",
            "60/60 [==============================] - 0s 1ms/step - loss: 0.5231 - accuracy: 0.7450 - val_loss: 0.5319 - val_accuracy: 0.7381\n",
            "Epoch 150/150\n",
            "60/60 [==============================] - 0s 2ms/step - loss: 0.5360 - accuracy: 0.7317 - val_loss: 0.5323 - val_accuracy: 0.7440\n"
          ],
          "name": "stdout"
        }
      ]
    },
    {
      "cell_type": "code",
      "metadata": {
        "colab": {
          "base_uri": "https://localhost:8080/",
          "height": 313
        },
        "id": "boE2Sv4zy4S_",
        "outputId": "f499481f-6148-4ea6-bd16-3ab73ec4ae16"
      },
      "source": [
        "epochs = 150\n",
        "\n",
        "acc_list = [100 * i for i in hist.history['accuracy']]\n",
        "vacc_list = [100 * i for i in hist.history['val_accuracy']]\n",
        "loss_list = hist.history['loss'] #[100 * i for i in history.history['loss']]\n",
        "vloss_list = hist.history['val_loss'] #[100 * i for i in history.history['val_loss']]\n",
        "\n",
        "\n",
        "plt.plot(range(1,epochs+1),acc_list)  \n",
        "plt.plot(range(1,epochs+1),vacc_list)  \n",
        "plt.plot(np.argmax(np.array(vacc_list))+1,vacc_list[np.argmax(np.array(vacc_list))], 'r*')\n",
        "plt.title('DL of diabetes: Model accuracy')\n",
        "plt.ylabel('Accuracy (%)')\n",
        "plt.xlabel('Epoch')\n",
        "plt.legend(['accuracy','val_accuracy','best'], loc='best')\n",
        "\n",
        "\n"
      ],
      "execution_count": null,
      "outputs": [
        {
          "output_type": "execute_result",
          "data": {
            "text/plain": [
              "<matplotlib.legend.Legend at 0x7f0982742fd0>"
            ]
          },
          "metadata": {
            "tags": []
          },
          "execution_count": 61
        },
        {
          "output_type": "display_data",
          "data": {
            "image/png": "[encoded data removed]",
            "text/plain": [
              "<Figure size 432x288 with 1 Axes>"
            ]
          },
          "metadata": {
            "tags": [],
            "needs_background": "light"
          }
        }
      ]
    },
    {
      "cell_type": "code",
      "metadata": {
        "colab": {
          "base_uri": "https://localhost:8080/"
        },
        "id": "q9sJF-Qu3Hdd",
        "outputId": "99402105-35c1-4878-da09-1feb1fb7d87c"
      },
      "source": [
        "# modelA performance\n",
        "modelA.evaluate(X_test, y_test)"
      ],
      "execution_count": null,
      "outputs": [
        {
          "output_type": "stream",
          "text": [
            "6/6 [==============================] - 0s 1ms/step - loss: 0.5323 - accuracy: 0.7440\n"
          ],
          "name": "stdout"
        },
        {
          "output_type": "execute_result",
          "data": {
            "text/plain": [
              "[0.5323178172111511, 0.7440476417541504]"
            ]
          },
          "metadata": {
            "tags": []
          },
          "execution_count": 64
        }
      ]
    },
    {
      "cell_type": "code",
      "metadata": {
        "colab": {
          "base_uri": "https://localhost:8080/"
        },
        "id": "ZEHdbXtK3Hdz",
        "outputId": "4d6d2373-62d3-49c0-ddbc-e8d008dfeebc"
      },
      "source": [
        "from keras.models import load_model\n",
        "\n",
        "# model = load_model('your_best_model.hdf5')\n",
        "modelA_best = load_model('diabetes_DL_best_weights.176-0.7917.hdf5')\n",
        "modelA_best.evaluate(X_test, y_test)"
      ],
      "execution_count": null,
      "outputs": [
        {
          "output_type": "stream",
          "text": [
            "6/6 [==============================] - 0s 1ms/step - loss: 0.5534 - accuracy: 0.7738\n"
          ],
          "name": "stdout"
        },
        {
          "output_type": "execute_result",
          "data": {
            "text/plain": [
              "[0.5533531308174133, 0.773809552192688]"
            ]
          },
          "metadata": {
            "tags": []
          },
          "execution_count": 65
        }
      ]
    },
    {
      "cell_type": "code",
      "metadata": {
        "id": "TpD7kvI12sch"
      },
      "source": [
        "import seaborn as sns\n",
        "from sklearn.metrics import confusion_matrix"
      ],
      "execution_count": null,
      "outputs": []
    },
    {
      "cell_type": "code",
      "metadata": {
        "id": "yidDzJvd2sch"
      },
      "source": [
        "predictions = [int(np.round(prob)) for prob in modelA_best.predict(X_test)]"
      ],
      "execution_count": null,
      "outputs": []
    },
    {
      "cell_type": "code",
      "metadata": {
        "id": "cr5u9wT22sch"
      },
      "source": [
        "cm = confusion_matrix(y_test, predictions)"
      ],
      "execution_count": null,
      "outputs": []
    },
    {
      "cell_type": "code",
      "metadata": {
        "id": "rKU3Y9rY2sci"
      },
      "source": [
        "class_names = ['noDM','DM']"
      ],
      "execution_count": null,
      "outputs": []
    },
    {
      "cell_type": "code",
      "metadata": {
        "colab": {
          "base_uri": "https://localhost:8080/",
          "height": 334
        },
        "id": "ow_NkrtX2sci",
        "outputId": "ae36a2db-6bee-45f5-9fd7-44a6e88da57b"
      },
      "source": [
        "plt.figure(figsize=(5,5))\n",
        "sns.heatmap(cm, cbar=False, xticklabels=class_names, yticklabels=class_names, fmt='d', annot=True, cmap=plt.cm.coolwarm)\n",
        "plt.xlabel('Predicted')\n",
        "plt.ylabel('Actual')\n",
        "plt.show()"
      ],
      "execution_count": null,
      "outputs": [
        {
          "output_type": "display_data",
          "data": {
            "image/png": "[encoded data removed]",
            "text/plain": [
              "<Figure size 360x360 with 1 Axes>"
            ]
          },
          "metadata": {
            "tags": [],
            "needs_background": "light"
          }
        }
      ]
    },
    {
      "cell_type": "markdown",
      "metadata": {
        "id": "HrG2XpXqL_sI"
      },
      "source": [
        "# 기말고사 안내  \n",
        "\n",
        "1. mnist, fmnist, cifar10 순으로 간단한 CNN 모델의 성능(정확도)이 낮아지는 이유를 설명하시오.\n",
        "cifar10_final.ipynb 파일 앞 부분에 설명을 추가.\n",
        "\n",
        "2. cifar10 데이터에 대한 분류 정확도가 높은 모델을 만드는 방법과 최적 모델을 구하시오.\n",
        "\n",
        "* 다음 세 개의 파일을 이메일로 압축해서 보내시오. 12월13일(일) 자정(24:00) 기한\n",
        "0. 압축파일명: pdmnn_final.zip\n",
        "1. diabetes_FCN_final.ipynb\n",
        "2. cifar10_final.ipynb\n",
        "3. cifar10_best.hdf5\n",
        "\n",
        "* email: chaos21c@gmail.com\n",
        "\n",
        "* 12월14일(월) 정오(12:00) 기한\n",
        "- py-tensorflow 안에 final-notebook 폴더를 만들고 위의 세 개의 파일을 올리시오.\n"
      ]
    },
    {
      "cell_type": "code",
      "metadata": {
        "id": "sxvR5omqMEUQ"
      },
      "source": [
        ""
      ],
      "execution_count": null,
      "outputs": []
    }
  ]
}