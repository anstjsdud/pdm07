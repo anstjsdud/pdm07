{
  "nbformat": 4,
  "nbformat_minor": 0,
  "metadata": {
    "colab": {
      "name": "tf2_7_fmnist_CNN_best.ipynb",
      "provenance": [],
      "collapsed_sections": [],
      "include_colab_link": true
    },
    "kernelspec": {
      "name": "python3",
      "display_name": "Python 3"
    },
    "accelerator": "GPU"
  },
  "cells": [
    {
      "cell_type": "markdown",
      "metadata": {
        "id": "view-in-github",
        "colab_type": "text"
      },
      "source": [
        "<a href=\"https://colab.research.google.com/github/anstjsdud/pdm07/blob/master/py-tensorflow/tf2_7_fmnist_CNN_best.ipynb\" target=\"_parent\"><img src=\"https://colab.research.google.com/assets/colab-badge.svg\" alt=\"Open In Colab\"/></a>"
      ]
    },
    {
      "cell_type": "markdown",
      "metadata": {
        "id": "rswfCVLZ-QW0"
      },
      "source": [
        "# **CNN model of fmnist dataset**\n",
        "- Conv2D + FCN\n",
        "    * Conv2D : 2차원 합성곱 필터링 + 풀링(Pooling)\n",
        "    * FCN : 1차원 완전연결신경망\n",
        "\n",
        "***\n",
        "- ## Traget: Find the best model\n",
        "***\n",
        "\n",
        "![mnist_NN_2_layers](https://img1.daumcdn.net/thumb/R1280x0/?scode=mtistory2&fname=https%3A%2F%2Fblog.kakaocdn.net%2Fdn%2FdJp5Z6%2FbtqAPebnF3x%2FQCe5vVcskhmxe964bGz4iK%2Fimg.png)\n",
        "\n",
        "(source: https://img1.daumcdn.net/thumb/R1280x0/?scode=mtistory2&fname=https%3A%2F%2Fblog.kakaocdn.net%2Fdn%2FdJp5Z6%2FbtqAPebnF3x%2FQCe5vVcskhmxe964bGz4iK%2Fimg.png)"
      ]
    },
    {
      "cell_type": "markdown",
      "metadata": {
        "id": "ISueys4bNHd1"
      },
      "source": [
        "## dataset: fashion_mnist\n",
        "- (60000, 28, 28), train\n",
        "- (10000, 28, 28), test\n",
        "- grayscale images of items of 10 types of clothings, such as shoes, t-shirts, dresses, and more.\n",
        "- class names\n",
        "> class_names = ['T-shirt/top', 'Trouser', 'Pullover', 'Dress', 'Coat', 'Sandal', 'Shirt', 'Sneaker', 'Bag', 'Ankle boot']\n",
        "\n",
        "- DL of fmnist\n",
        "> https://machinelearningmastery.com/how-to-develop-a-cnn-from-scratch-for-fashion-mnist-clothing-classification/\n"
      ]
    },
    {
      "cell_type": "markdown",
      "metadata": {
        "id": "1yhvkxS_HhpK"
      },
      "source": [
        "## Search the best model of C2F2\n",
        "- callback\n",
        "    - Early stopping\n",
        "    - model checkpoint"
      ]
    },
    {
      "cell_type": "code",
      "metadata": {
        "id": "8GgGzPXPVyfa",
        "colab": {
          "base_uri": "https://localhost:8080/"
        },
        "outputId": "ef351923-f807-4104-fe36-af4191c740b0"
      },
      "source": [
        "import numpy as np\n",
        "import tensorflow as tf\n",
        "from tensorflow import keras\n",
        "import pandas as pd\n",
        "import matplotlib.pyplot as plt\n",
        "%matplotlib inline\n",
        "\n",
        "tf.random.set_seed(0)\n",
        "\n",
        "print(tf.__version__)"
      ],
      "execution_count": 1,
      "outputs": [
        {
          "output_type": "stream",
          "text": [
            "2.3.0\n"
          ],
          "name": "stdout"
        }
      ]
    },
    {
      "cell_type": "code",
      "metadata": {
        "id": "nMZqMpIvIlwf"
      },
      "source": [
        "# import TF2 submodules\n",
        "from tensorflow.keras import layers, models, callbacks"
      ],
      "execution_count": 2,
      "outputs": []
    },
    {
      "cell_type": "markdown",
      "metadata": {
        "id": "-0IOOUM14Jk1"
      },
      "source": [
        "## **데이터 로딩, 정규화**"
      ]
    },
    {
      "cell_type": "code",
      "metadata": {
        "id": "N1ogJ7I64Fz-",
        "colab": {
          "base_uri": "https://localhost:8080/"
        },
        "outputId": "73845512-f8cb-410b-dd7b-3b867280bebd"
      },
      "source": [
        "from keras.datasets import fashion_mnist\n",
        "\n",
        "(X_train0, y_train0), (X_test0, y_test0) = fashion_mnist.load_data()\n",
        "\n",
        "# Reshape\n",
        "X_train = X_train0.reshape(60000,28,28,1)\n",
        "X_test = X_test0.reshape(10000,28,28,1)\n",
        "\n",
        "# Normalization\n",
        "X_train, X_test = X_train/255.0, X_test/255.0 # 정규화\n",
        "\n",
        "print(\"X_train={0}\".format(X_train.shape))\n",
        "print(\"y_train={0}\".format(y_train0.shape)) \n",
        "print(\"X_test={0}\".format(X_test.shape))\n",
        "print(\"y_test={0}\".format(y_test0.shape))"
      ],
      "execution_count": 3,
      "outputs": [
        {
          "output_type": "stream",
          "text": [
            "Downloading data from https://storage.googleapis.com/tensorflow/tf-keras-datasets/train-labels-idx1-ubyte.gz\n",
            "32768/29515 [=================================] - 0s 0us/step\n",
            "Downloading data from https://storage.googleapis.com/tensorflow/tf-keras-datasets/train-images-idx3-ubyte.gz\n",
            "26427392/26421880 [==============================] - 0s 0us/step\n",
            "Downloading data from https://storage.googleapis.com/tensorflow/tf-keras-datasets/t10k-labels-idx1-ubyte.gz\n",
            "8192/5148 [===============================================] - 0s 0us/step\n",
            "Downloading data from https://storage.googleapis.com/tensorflow/tf-keras-datasets/t10k-images-idx3-ubyte.gz\n",
            "4423680/4422102 [==============================] - 0s 0us/step\n",
            "X_train=(60000, 28, 28, 1)\n",
            "y_train=(60000,)\n",
            "X_test=(10000, 28, 28, 1)\n",
            "y_test=(10000,)\n"
          ],
          "name": "stdout"
        }
      ]
    },
    {
      "cell_type": "code",
      "metadata": {
        "id": "F46-QZqJHiQ6",
        "colab": {
          "base_uri": "https://localhost:8080/"
        },
        "outputId": "c5826014-758c-4011-95b7-3a76ccf1fea5"
      },
      "source": [
        "# One-Hot-Encoding\n",
        "# Use function to_categorical() to do One-Hot-Encoding\n",
        "# tf.keras.utils.to_categorical\n",
        "from keras.utils import to_categorical\n",
        "\n",
        "y_train = to_categorical(y_train0, 10)\n",
        "y_test = to_categorical(y_test0, 10)\n",
        "y_train.shape,y_test.shape"
      ],
      "execution_count": 4,
      "outputs": [
        {
          "output_type": "execute_result",
          "data": {
            "text/plain": [
              "((60000, 10), (10000, 10))"
            ]
          },
          "metadata": {
            "tags": []
          },
          "execution_count": 4
        }
      ]
    },
    {
      "cell_type": "code",
      "metadata": {
        "id": "eZ3OfP5PkEkL",
        "colab": {
          "base_uri": "https://localhost:8080/"
        },
        "outputId": "581caf07-e8b2-48a5-cf84-43a5a25a3a91"
      },
      "source": [
        "# y_train0.shape vs. y_train.shape\n",
        "y_train0.shape, y_train.shape"
      ],
      "execution_count": 5,
      "outputs": [
        {
          "output_type": "execute_result",
          "data": {
            "text/plain": [
              "((60000,), (60000, 10))"
            ]
          },
          "metadata": {
            "tags": []
          },
          "execution_count": 5
        }
      ]
    },
    {
      "cell_type": "markdown",
      "metadata": {
        "id": "5z7SozStigmF"
      },
      "source": [
        "### Display fashions\n",
        "- one random fashion\n",
        "- 10 representative fashions"
      ]
    },
    {
      "cell_type": "code",
      "metadata": {
        "id": "IK7XT3XoirSL",
        "colab": {
          "base_uri": "https://localhost:8080/",
          "height": 286
        },
        "outputId": "d9f0f4cf-b0e0-4949-d013-817f415ed6ea"
      },
      "source": [
        "# Code here!\n",
        "# display one random image from the training set:\n",
        "class_names =  ['T-shirt/top', 'Trouser', 'Pullover', 'Dress', 'Coat', 'Sandal', 'Shirt', 'Sneaker', 'Bag', 'Ankle boot']\n",
        "\n",
        "idx = np.random.randint(0, X_train0.shape[0])\n",
        "print(idx)\n",
        "image = X_train0[idx]\n",
        "plt.imshow(image) #, cmap=plt.get_cmap('gray'))\n",
        "plt.title(class_names[y_train0[idx]])\n",
        "plt.xticks([])\n",
        "plt.yticks([])\n",
        "plt.show()"
      ],
      "execution_count": 6,
      "outputs": [
        {
          "output_type": "stream",
          "text": [
            "43582\n"
          ],
          "name": "stdout"
        },
        {
          "output_type": "display_data",
          "data": {
            "image/png": "[encoded data removed]",
            "text/plain": [
              "<Figure size 432x288 with 1 Axes>"
            ]
          },
          "metadata": {
            "tags": []
          }
        }
      ]
    },
    {
      "cell_type": "code",
      "metadata": {
        "id": "LzhD5pcukau7",
        "colab": {
          "base_uri": "https://localhost:8080/",
          "height": 325
        },
        "outputId": "27d990cb-bb43-465e-eb88-5b443635baa0"
      },
      "source": [
        "fig = plt.figure(figsize=(10,6))\n",
        "for i in range(10):\n",
        "    plt.subplot(2, 5, i+1)\n",
        "    num0_9 = X_train0[y_train0 == i]\n",
        "    # print(num0_9.shape)\n",
        "    plt.imshow(num0_9[0]) #, cmap='gray') #, interpolation='none')\n",
        "    plt.title(\"Class %d\" % (i))\n",
        "    plt.xticks([])\n",
        "    plt.yticks([])"
      ],
      "execution_count": 7,
      "outputs": [
        {
          "output_type": "display_data",
          "data": {
            "image/png": "[encoded data removed]",
            "text/plain": [
              "<Figure size 720x432 with 10 Axes>"
            ]
          },
          "metadata": {
            "tags": []
          }
        }
      ]
    },
    {
      "cell_type": "markdown",
      "metadata": {
        "id": "55DYVfFXi0WR"
      },
      "source": [
        "# Design CNN"
      ]
    },
    {
      "cell_type": "markdown",
      "metadata": {
        "id": "iPcLIcUCcsiG"
      },
      "source": [
        "### import models, layers, callbacks\n",
        "- models: Sequential\n",
        "- layers: Conv2D, MaxPool2D, Flatten\n",
        "- callbacks: ModelCheckpoint, EarlyStopping"
      ]
    },
    {
      "cell_type": "code",
      "metadata": {
        "id": "NzqMC4Xtc3ZE"
      },
      "source": [
        "from keras.models import Sequential\n",
        "from keras.layers import Conv2D, MaxPool2D, Flatten\n",
        "from keras.callbacks import ModelCheckpoint, EarlyStopping"
      ],
      "execution_count": 8,
      "outputs": []
    },
    {
      "cell_type": "markdown",
      "metadata": {
        "id": "7Z6DJJUCei-s"
      },
      "source": [
        "## **CNN2 + FCN2**"
      ]
    },
    {
      "cell_type": "code",
      "metadata": {
        "id": "pV3NFglM7P65"
      },
      "source": [
        "c2f2 = keras.models.Sequential([ \n",
        "    Conv2D(input_shape=(28,28,1),kernel_size=(3,3),strides=(1,1),filters= 32,padding='same',activation='relu'),\n",
        "    MaxPool2D(pool_size=(2,2), strides=(2,2)), \n",
        "    Conv2D(kernel_size=(3,3),strides=(1,1),filters= 64,padding='same',activation='relu'),\n",
        "    MaxPool2D(pool_size=(2,2), strides=(2,2)),\n",
        "    Flatten(), \n",
        "    keras.layers.Dense(128, activation='relu'),  \n",
        "    keras.layers.Dropout(0.25), \n",
        "    keras.layers.Dense(10, activation='softmax')\n",
        "])\n",
        "\n",
        "c2f2.compile(optimizer='adam',\n",
        "              loss='categorical_crossentropy',\n",
        "              metrics=['accuracy']) "
      ],
      "execution_count": 9,
      "outputs": []
    },
    {
      "cell_type": "code",
      "metadata": {
        "id": "OGtCiKy57YkR",
        "colab": {
          "base_uri": "https://localhost:8080/"
        },
        "outputId": "a85e6f3b-b616-4773-c0c3-c14a364e2bb6"
      },
      "source": [
        "c2f2.summary()"
      ],
      "execution_count": 10,
      "outputs": [
        {
          "output_type": "stream",
          "text": [
            "Model: \"sequential\"\n",
            "_________________________________________________________________\n",
            "Layer (type)                 Output Shape              Param #   \n",
            "=================================================================\n",
            "conv2d (Conv2D)              (None, 28, 28, 32)        320       \n",
            "_________________________________________________________________\n",
            "max_pooling2d (MaxPooling2D) (None, 14, 14, 32)        0         \n",
            "_________________________________________________________________\n",
            "conv2d_1 (Conv2D)            (None, 14, 14, 64)        18496     \n",
            "_________________________________________________________________\n",
            "max_pooling2d_1 (MaxPooling2 (None, 7, 7, 64)          0         \n",
            "_________________________________________________________________\n",
            "flatten (Flatten)            (None, 3136)              0         \n",
            "_________________________________________________________________\n",
            "dense (Dense)                (None, 128)               401536    \n",
            "_________________________________________________________________\n",
            "dropout (Dropout)            (None, 128)               0         \n",
            "_________________________________________________________________\n",
            "dense_1 (Dense)              (None, 10)                1290      \n",
            "=================================================================\n",
            "Total params: 421,642\n",
            "Trainable params: 421,642\n",
            "Non-trainable params: 0\n",
            "_________________________________________________________________\n"
          ],
          "name": "stdout"
        }
      ]
    },
    {
      "cell_type": "code",
      "metadata": {
        "id": "zw_pQPBdJmU8"
      },
      "source": [
        "cp_callback = callbacks.ModelCheckpoint(filepath=\"./fmnist_c2f2_best_weights.{epoch:03d}-{val_accuracy:.4f}.hdf5\", \n",
        "                              monitor='val_accuracy', verbose=0, save_best_only=True)\n",
        "es_callback = callbacks.EarlyStopping(monitor='val_accuracy', \n",
        "                            mode='max', verbose=1, patience=50)    # patience=20, 50"
      ],
      "execution_count": 11,
      "outputs": []
    },
    {
      "cell_type": "code",
      "metadata": {
        "id": "94GWWQt-7eRS",
        "colab": {
          "base_uri": "https://localhost:8080/"
        },
        "outputId": "72d8e30a-2f37-4b6d-caa0-2ee82c539fb4"
      },
      "source": [
        "hist = c2f2.fit(X_train, y_train, epochs = 500 , batch_size =32, \n",
        "         callbacks=[cp_callback, es_callback], \n",
        "         validation_data=(X_test,y_test))"
      ],
      "execution_count": 12,
      "outputs": [
        {
          "output_type": "stream",
          "text": [
            "Epoch 1/500\n",
            "1875/1875 [==============================] - 6s 3ms/step - loss: 0.4336 - accuracy: 0.8448 - val_loss: 0.3199 - val_accuracy: 0.8853\n",
            "Epoch 2/500\n",
            "1875/1875 [==============================] - 6s 3ms/step - loss: 0.2847 - accuracy: 0.8959 - val_loss: 0.2678 - val_accuracy: 0.9012\n",
            "Epoch 3/500\n",
            "1875/1875 [==============================] - 6s 3ms/step - loss: 0.2401 - accuracy: 0.9124 - val_loss: 0.2531 - val_accuracy: 0.9059\n",
            "Epoch 4/500\n",
            "1875/1875 [==============================] - 6s 3ms/step - loss: 0.2080 - accuracy: 0.9224 - val_loss: 0.2371 - val_accuracy: 0.9117\n",
            "Epoch 5/500\n",
            "1875/1875 [==============================] - 6s 3ms/step - loss: 0.1852 - accuracy: 0.9300 - val_loss: 0.2584 - val_accuracy: 0.9086\n",
            "Epoch 6/500\n",
            "1875/1875 [==============================] - 6s 3ms/step - loss: 0.1643 - accuracy: 0.9391 - val_loss: 0.2351 - val_accuracy: 0.9186\n",
            "Epoch 7/500\n",
            "1875/1875 [==============================] - 6s 3ms/step - loss: 0.1506 - accuracy: 0.9427 - val_loss: 0.2341 - val_accuracy: 0.9180\n",
            "Epoch 8/500\n",
            "1875/1875 [==============================] - 6s 3ms/step - loss: 0.1316 - accuracy: 0.9506 - val_loss: 0.2395 - val_accuracy: 0.9222\n",
            "Epoch 9/500\n",
            "1875/1875 [==============================] - 6s 3ms/step - loss: 0.1202 - accuracy: 0.9546 - val_loss: 0.2473 - val_accuracy: 0.9219\n",
            "Epoch 10/500\n",
            "1875/1875 [==============================] - 6s 3ms/step - loss: 0.1089 - accuracy: 0.9591 - val_loss: 0.2554 - val_accuracy: 0.9187\n",
            "Epoch 11/500\n",
            "1875/1875 [==============================] - 6s 3ms/step - loss: 0.0992 - accuracy: 0.9622 - val_loss: 0.2706 - val_accuracy: 0.9193\n",
            "Epoch 12/500\n",
            "1875/1875 [==============================] - 6s 3ms/step - loss: 0.0892 - accuracy: 0.9652 - val_loss: 0.2839 - val_accuracy: 0.9172\n",
            "Epoch 13/500\n",
            "1875/1875 [==============================] - 5s 3ms/step - loss: 0.0802 - accuracy: 0.9694 - val_loss: 0.3122 - val_accuracy: 0.9221\n",
            "Epoch 14/500\n",
            "1875/1875 [==============================] - 6s 3ms/step - loss: 0.0766 - accuracy: 0.9697 - val_loss: 0.3129 - val_accuracy: 0.9214\n",
            "Epoch 15/500\n",
            "1875/1875 [==============================] - 6s 3ms/step - loss: 0.0698 - accuracy: 0.9733 - val_loss: 0.3431 - val_accuracy: 0.9224\n",
            "Epoch 16/500\n",
            "1875/1875 [==============================] - 6s 3ms/step - loss: 0.0643 - accuracy: 0.9747 - val_loss: 0.3537 - val_accuracy: 0.9189\n",
            "Epoch 17/500\n",
            "1875/1875 [==============================] - 6s 3ms/step - loss: 0.0627 - accuracy: 0.9767 - val_loss: 0.3275 - val_accuracy: 0.9214\n",
            "Epoch 18/500\n",
            "1875/1875 [==============================] - 6s 3ms/step - loss: 0.0591 - accuracy: 0.9771 - val_loss: 0.3623 - val_accuracy: 0.9230\n",
            "Epoch 19/500\n",
            "1875/1875 [==============================] - 6s 3ms/step - loss: 0.0564 - accuracy: 0.9785 - val_loss: 0.3591 - val_accuracy: 0.9193\n",
            "Epoch 20/500\n",
            "1875/1875 [==============================] - 6s 3ms/step - loss: 0.0530 - accuracy: 0.9797 - val_loss: 0.3934 - val_accuracy: 0.9190\n",
            "Epoch 21/500\n",
            "1875/1875 [==============================] - 6s 3ms/step - loss: 0.0484 - accuracy: 0.9820 - val_loss: 0.3972 - val_accuracy: 0.9239\n",
            "Epoch 22/500\n",
            "1875/1875 [==============================] - 6s 3ms/step - loss: 0.0513 - accuracy: 0.9805 - val_loss: 0.3995 - val_accuracy: 0.9191\n",
            "Epoch 23/500\n",
            "1875/1875 [==============================] - 5s 3ms/step - loss: 0.0460 - accuracy: 0.9839 - val_loss: 0.3862 - val_accuracy: 0.9214\n",
            "Epoch 24/500\n",
            "1875/1875 [==============================] - 5s 3ms/step - loss: 0.0479 - accuracy: 0.9821 - val_loss: 0.4155 - val_accuracy: 0.9233\n",
            "Epoch 25/500\n",
            "1875/1875 [==============================] - 5s 3ms/step - loss: 0.0431 - accuracy: 0.9839 - val_loss: 0.4570 - val_accuracy: 0.9199\n",
            "Epoch 26/500\n",
            "1875/1875 [==============================] - 6s 3ms/step - loss: 0.0420 - accuracy: 0.9837 - val_loss: 0.4419 - val_accuracy: 0.9173\n",
            "Epoch 27/500\n",
            "1875/1875 [==============================] - 5s 3ms/step - loss: 0.0408 - accuracy: 0.9849 - val_loss: 0.4395 - val_accuracy: 0.9228\n",
            "Epoch 28/500\n",
            "1875/1875 [==============================] - 6s 3ms/step - loss: 0.0382 - accuracy: 0.9862 - val_loss: 0.5294 - val_accuracy: 0.9186\n",
            "Epoch 29/500\n",
            "1875/1875 [==============================] - 6s 3ms/step - loss: 0.0375 - accuracy: 0.9858 - val_loss: 0.4808 - val_accuracy: 0.9173\n",
            "Epoch 30/500\n",
            "1875/1875 [==============================] - 5s 3ms/step - loss: 0.0397 - accuracy: 0.9852 - val_loss: 0.4614 - val_accuracy: 0.9196\n",
            "Epoch 31/500\n",
            "1875/1875 [==============================] - 5s 3ms/step - loss: 0.0367 - accuracy: 0.9864 - val_loss: 0.5075 - val_accuracy: 0.9200\n",
            "Epoch 32/500\n",
            "1875/1875 [==============================] - 5s 3ms/step - loss: 0.0357 - accuracy: 0.9869 - val_loss: 0.5336 - val_accuracy: 0.9211\n",
            "Epoch 33/500\n",
            "1875/1875 [==============================] - 5s 3ms/step - loss: 0.0369 - accuracy: 0.9872 - val_loss: 0.5312 - val_accuracy: 0.9187\n",
            "Epoch 34/500\n",
            "1875/1875 [==============================] - 5s 3ms/step - loss: 0.0349 - accuracy: 0.9871 - val_loss: 0.5250 - val_accuracy: 0.9176\n",
            "Epoch 35/500\n",
            "1875/1875 [==============================] - 5s 3ms/step - loss: 0.0334 - accuracy: 0.9882 - val_loss: 0.5048 - val_accuracy: 0.9190\n",
            "Epoch 36/500\n",
            "1875/1875 [==============================] - 5s 3ms/step - loss: 0.0356 - accuracy: 0.9873 - val_loss: 0.6075 - val_accuracy: 0.9180\n",
            "Epoch 37/500\n",
            "1875/1875 [==============================] - 5s 3ms/step - loss: 0.0331 - accuracy: 0.9880 - val_loss: 0.5686 - val_accuracy: 0.9195\n",
            "Epoch 38/500\n",
            "1875/1875 [==============================] - 5s 3ms/step - loss: 0.0332 - accuracy: 0.9883 - val_loss: 0.5768 - val_accuracy: 0.9196\n",
            "Epoch 39/500\n",
            "1875/1875 [==============================] - 5s 3ms/step - loss: 0.0315 - accuracy: 0.9885 - val_loss: 0.6142 - val_accuracy: 0.9205\n",
            "Epoch 40/500\n",
            "1875/1875 [==============================] - 5s 3ms/step - loss: 0.0330 - accuracy: 0.9883 - val_loss: 0.5580 - val_accuracy: 0.9189\n",
            "Epoch 41/500\n",
            "1875/1875 [==============================] - 5s 3ms/step - loss: 0.0305 - accuracy: 0.9891 - val_loss: 0.5966 - val_accuracy: 0.9184\n",
            "Epoch 42/500\n",
            "1875/1875 [==============================] - 6s 3ms/step - loss: 0.0305 - accuracy: 0.9888 - val_loss: 0.5657 - val_accuracy: 0.9213\n",
            "Epoch 43/500\n",
            "1875/1875 [==============================] - 6s 3ms/step - loss: 0.0306 - accuracy: 0.9891 - val_loss: 0.6386 - val_accuracy: 0.9180\n",
            "Epoch 44/500\n",
            "1875/1875 [==============================] - 6s 3ms/step - loss: 0.0318 - accuracy: 0.9891 - val_loss: 0.5722 - val_accuracy: 0.9177\n",
            "Epoch 45/500\n",
            "1875/1875 [==============================] - 6s 3ms/step - loss: 0.0272 - accuracy: 0.9898 - val_loss: 0.6098 - val_accuracy: 0.9151\n",
            "Epoch 46/500\n",
            "1875/1875 [==============================] - 5s 3ms/step - loss: 0.0291 - accuracy: 0.9896 - val_loss: 0.6043 - val_accuracy: 0.9192\n",
            "Epoch 47/500\n",
            "1875/1875 [==============================] - 5s 3ms/step - loss: 0.0316 - accuracy: 0.9892 - val_loss: 0.6290 - val_accuracy: 0.9193\n",
            "Epoch 48/500\n",
            "1875/1875 [==============================] - 5s 3ms/step - loss: 0.0264 - accuracy: 0.9908 - val_loss: 0.6458 - val_accuracy: 0.9181\n",
            "Epoch 49/500\n",
            "1875/1875 [==============================] - 5s 3ms/step - loss: 0.0297 - accuracy: 0.9895 - val_loss: 0.7142 - val_accuracy: 0.9195\n",
            "Epoch 50/500\n",
            "1875/1875 [==============================] - 5s 3ms/step - loss: 0.0275 - accuracy: 0.9906 - val_loss: 0.6370 - val_accuracy: 0.9185\n",
            "Epoch 51/500\n",
            "1875/1875 [==============================] - 5s 3ms/step - loss: 0.0292 - accuracy: 0.9897 - val_loss: 0.6615 - val_accuracy: 0.9203\n",
            "Epoch 52/500\n",
            "1875/1875 [==============================] - 5s 3ms/step - loss: 0.0279 - accuracy: 0.9902 - val_loss: 0.6347 - val_accuracy: 0.9196\n",
            "Epoch 53/500\n",
            "1875/1875 [==============================] - 5s 3ms/step - loss: 0.0271 - accuracy: 0.9903 - val_loss: 0.6934 - val_accuracy: 0.9202\n",
            "Epoch 54/500\n",
            "1875/1875 [==============================] - 5s 3ms/step - loss: 0.0276 - accuracy: 0.9906 - val_loss: 0.7049 - val_accuracy: 0.9192\n",
            "Epoch 55/500\n",
            "1875/1875 [==============================] - 5s 3ms/step - loss: 0.0287 - accuracy: 0.9901 - val_loss: 0.6965 - val_accuracy: 0.9183\n",
            "Epoch 56/500\n",
            "1875/1875 [==============================] - 5s 3ms/step - loss: 0.0247 - accuracy: 0.9912 - val_loss: 0.6950 - val_accuracy: 0.9195\n",
            "Epoch 57/500\n",
            "1875/1875 [==============================] - 5s 3ms/step - loss: 0.0268 - accuracy: 0.9910 - val_loss: 0.6738 - val_accuracy: 0.9210\n",
            "Epoch 58/500\n",
            "1875/1875 [==============================] - 6s 3ms/step - loss: 0.0275 - accuracy: 0.9908 - val_loss: 0.6558 - val_accuracy: 0.9188\n",
            "Epoch 59/500\n",
            "1875/1875 [==============================] - 5s 3ms/step - loss: 0.0267 - accuracy: 0.9911 - val_loss: 0.6859 - val_accuracy: 0.9197\n",
            "Epoch 60/500\n",
            "1875/1875 [==============================] - 5s 3ms/step - loss: 0.0285 - accuracy: 0.9910 - val_loss: 0.7495 - val_accuracy: 0.9193\n",
            "Epoch 61/500\n",
            "1875/1875 [==============================] - 5s 3ms/step - loss: 0.0252 - accuracy: 0.9913 - val_loss: 0.6771 - val_accuracy: 0.9184\n",
            "Epoch 62/500\n",
            "1875/1875 [==============================] - 5s 3ms/step - loss: 0.0259 - accuracy: 0.9910 - val_loss: 0.6796 - val_accuracy: 0.9227\n",
            "Epoch 63/500\n",
            "1875/1875 [==============================] - 5s 3ms/step - loss: 0.0281 - accuracy: 0.9908 - val_loss: 0.7456 - val_accuracy: 0.9207\n",
            "Epoch 64/500\n",
            "1875/1875 [==============================] - 5s 3ms/step - loss: 0.0262 - accuracy: 0.9911 - val_loss: 0.7026 - val_accuracy: 0.9202\n",
            "Epoch 65/500\n",
            "1875/1875 [==============================] - 5s 3ms/step - loss: 0.0251 - accuracy: 0.9918 - val_loss: 0.7705 - val_accuracy: 0.9201\n",
            "Epoch 66/500\n",
            "1875/1875 [==============================] - 5s 3ms/step - loss: 0.0237 - accuracy: 0.9918 - val_loss: 0.7703 - val_accuracy: 0.9195\n",
            "Epoch 67/500\n",
            "1875/1875 [==============================] - 5s 3ms/step - loss: 0.0254 - accuracy: 0.9918 - val_loss: 0.6884 - val_accuracy: 0.9226\n",
            "Epoch 68/500\n",
            "1875/1875 [==============================] - 5s 3ms/step - loss: 0.0233 - accuracy: 0.9922 - val_loss: 0.7745 - val_accuracy: 0.9167\n",
            "Epoch 69/500\n",
            "1875/1875 [==============================] - 5s 3ms/step - loss: 0.0254 - accuracy: 0.9916 - val_loss: 0.7231 - val_accuracy: 0.9192\n",
            "Epoch 70/500\n",
            "1875/1875 [==============================] - 5s 3ms/step - loss: 0.0236 - accuracy: 0.9922 - val_loss: 0.7696 - val_accuracy: 0.9168\n",
            "Epoch 71/500\n",
            "1875/1875 [==============================] - 5s 3ms/step - loss: 0.0269 - accuracy: 0.9916 - val_loss: 0.7414 - val_accuracy: 0.9199\n",
            "Epoch 00071: early stopping\n"
          ],
          "name": "stdout"
        }
      ]
    },
    {
      "cell_type": "code",
      "metadata": {
        "id": "0-7is2U49A6Z",
        "colab": {
          "base_uri": "https://localhost:8080/"
        },
        "outputId": "615631c1-ce5c-4741-8a20-9846756851f2"
      },
      "source": [
        "c2f2.evaluate(X_test, y_test, batch_size =32)"
      ],
      "execution_count": 13,
      "outputs": [
        {
          "output_type": "stream",
          "text": [
            "313/313 [==============================] - 1s 2ms/step - loss: 0.7414 - accuracy: 0.9199\n"
          ],
          "name": "stdout"
        },
        {
          "output_type": "execute_result",
          "data": {
            "text/plain": [
              "[0.741439700126648, 0.9199000000953674]"
            ]
          },
          "metadata": {
            "tags": []
          },
          "execution_count": 13
        }
      ]
    },
    {
      "cell_type": "markdown",
      "metadata": {
        "id": "SUJxRQtafihM"
      },
      "source": [
        "## **CNN2 + FCN3**"
      ]
    },
    {
      "cell_type": "code",
      "metadata": {
        "id": "Nl5CyAymAB34"
      },
      "source": [
        "c2f3 = keras.models.Sequential([ \n",
        "    Conv2D(input_shape=(28,28,1),kernel_size=(3,3),strides=(1,1),filters= 32,padding='same',activation='relu'),\n",
        "    MaxPool2D(pool_size=(2,2), strides=(2,2)), \n",
        "    Conv2D(kernel_size=(3,3),strides=(1,1),filters= 64,padding='same',activation='relu'),\n",
        "    MaxPool2D(pool_size=(2,2), strides=(2,2)),\n",
        "    Flatten(), \n",
        "    keras.layers.Dense(128, activation='relu'),  \n",
        "    keras.layers.Dropout(0.25), \n",
        "    keras.layers.Dense(64, activation='relu'),  \n",
        "    keras.layers.Dropout(0.25), \n",
        "    keras.layers.Dense(10, activation='softmax')\n",
        "])\n",
        "\n",
        "c2f3.compile(optimizer='adam',\n",
        "              loss='categorical_crossentropy',\n",
        "              metrics=['accuracy']) "
      ],
      "execution_count": 14,
      "outputs": []
    },
    {
      "cell_type": "code",
      "metadata": {
        "id": "gYxuGW_2ANL8",
        "colab": {
          "base_uri": "https://localhost:8080/"
        },
        "outputId": "854e4394-3810-4af4-dd34-05486adc3db2"
      },
      "source": [
        "c2f3.summary()"
      ],
      "execution_count": 15,
      "outputs": [
        {
          "output_type": "stream",
          "text": [
            "Model: \"sequential_1\"\n",
            "_________________________________________________________________\n",
            "Layer (type)                 Output Shape              Param #   \n",
            "=================================================================\n",
            "conv2d_2 (Conv2D)            (None, 28, 28, 32)        320       \n",
            "_________________________________________________________________\n",
            "max_pooling2d_2 (MaxPooling2 (None, 14, 14, 32)        0         \n",
            "_________________________________________________________________\n",
            "conv2d_3 (Conv2D)            (None, 14, 14, 64)        18496     \n",
            "_________________________________________________________________\n",
            "max_pooling2d_3 (MaxPooling2 (None, 7, 7, 64)          0         \n",
            "_________________________________________________________________\n",
            "flatten_1 (Flatten)          (None, 3136)              0         \n",
            "_________________________________________________________________\n",
            "dense_2 (Dense)              (None, 128)               401536    \n",
            "_________________________________________________________________\n",
            "dropout_1 (Dropout)          (None, 128)               0         \n",
            "_________________________________________________________________\n",
            "dense_3 (Dense)              (None, 64)                8256      \n",
            "_________________________________________________________________\n",
            "dropout_2 (Dropout)          (None, 64)                0         \n",
            "_________________________________________________________________\n",
            "dense_4 (Dense)              (None, 10)                650       \n",
            "=================================================================\n",
            "Total params: 429,258\n",
            "Trainable params: 429,258\n",
            "Non-trainable params: 0\n",
            "_________________________________________________________________\n"
          ],
          "name": "stdout"
        }
      ]
    },
    {
      "cell_type": "code",
      "metadata": {
        "id": "KMsTuhO2x61z"
      },
      "source": [
        "cp_callback = callbacks.ModelCheckpoint(filepath=\"./fmnist_c2f3_best_weights.{epoch:03d}-{val_accuracy:.4f}.hdf5\", \n",
        "                              monitor='val_accuracy', verbose=0, save_best_only=True)\n",
        "es_callback = callbacks.EarlyStopping(monitor='val_accuracy', \n",
        "                            mode='max', verbose=1, patience=50)    # patience=20, 50"
      ],
      "execution_count": 16,
      "outputs": []
    },
    {
      "cell_type": "code",
      "metadata": {
        "id": "lO1of4AOAQlV",
        "colab": {
          "base_uri": "https://localhost:8080/"
        },
        "outputId": "6d31c56f-9e4d-4aa4-c536-63ea62ab5c81"
      },
      "source": [
        "c2f3.fit(X_train, y_train, epochs=500, batch_size =32, \n",
        "         callbacks=[cp_callback, es_callback], \n",
        "         validation_data=(X_test,y_test))"
      ],
      "execution_count": 17,
      "outputs": [
        {
          "output_type": "stream",
          "text": [
            "Epoch 1/500\n",
            "1875/1875 [==============================] - 6s 3ms/step - loss: 0.4957 - accuracy: 0.8214 - val_loss: 0.3338 - val_accuracy: 0.8803\n",
            "Epoch 2/500\n",
            "1875/1875 [==============================] - 6s 3ms/step - loss: 0.3159 - accuracy: 0.8873 - val_loss: 0.2761 - val_accuracy: 0.8998\n",
            "Epoch 3/500\n",
            "1875/1875 [==============================] - 6s 3ms/step - loss: 0.2663 - accuracy: 0.9048 - val_loss: 0.2606 - val_accuracy: 0.9053\n",
            "Epoch 4/500\n",
            "1875/1875 [==============================] - 6s 3ms/step - loss: 0.2345 - accuracy: 0.9153 - val_loss: 0.2419 - val_accuracy: 0.9109\n",
            "Epoch 5/500\n",
            "1875/1875 [==============================] - 6s 3ms/step - loss: 0.2117 - accuracy: 0.9230 - val_loss: 0.2477 - val_accuracy: 0.9106\n",
            "Epoch 6/500\n",
            "1875/1875 [==============================] - 6s 3ms/step - loss: 0.1914 - accuracy: 0.9302 - val_loss: 0.2424 - val_accuracy: 0.9139\n",
            "Epoch 7/500\n",
            "1875/1875 [==============================] - 6s 3ms/step - loss: 0.1749 - accuracy: 0.9357 - val_loss: 0.2341 - val_accuracy: 0.9183\n",
            "Epoch 8/500\n",
            "1875/1875 [==============================] - 5s 3ms/step - loss: 0.1594 - accuracy: 0.9411 - val_loss: 0.2340 - val_accuracy: 0.9225\n",
            "Epoch 9/500\n",
            "1875/1875 [==============================] - 5s 3ms/step - loss: 0.1469 - accuracy: 0.9456 - val_loss: 0.2493 - val_accuracy: 0.9166\n",
            "Epoch 10/500\n",
            "1875/1875 [==============================] - 6s 3ms/step - loss: 0.1356 - accuracy: 0.9501 - val_loss: 0.2396 - val_accuracy: 0.9191\n",
            "Epoch 11/500\n",
            "1875/1875 [==============================] - 6s 3ms/step - loss: 0.1282 - accuracy: 0.9528 - val_loss: 0.2671 - val_accuracy: 0.9239\n",
            "Epoch 12/500\n",
            "1875/1875 [==============================] - 5s 3ms/step - loss: 0.1216 - accuracy: 0.9552 - val_loss: 0.2774 - val_accuracy: 0.9171\n",
            "Epoch 13/500\n",
            "1875/1875 [==============================] - 5s 3ms/step - loss: 0.1117 - accuracy: 0.9583 - val_loss: 0.2838 - val_accuracy: 0.9208\n",
            "Epoch 14/500\n",
            "1875/1875 [==============================] - 6s 3ms/step - loss: 0.1037 - accuracy: 0.9618 - val_loss: 0.2843 - val_accuracy: 0.9200\n",
            "Epoch 15/500\n",
            "1875/1875 [==============================] - 6s 3ms/step - loss: 0.1004 - accuracy: 0.9628 - val_loss: 0.2885 - val_accuracy: 0.9201\n",
            "Epoch 16/500\n",
            "1875/1875 [==============================] - 6s 3ms/step - loss: 0.0907 - accuracy: 0.9667 - val_loss: 0.3070 - val_accuracy: 0.9196\n",
            "Epoch 17/500\n",
            "1875/1875 [==============================] - 6s 3ms/step - loss: 0.0905 - accuracy: 0.9675 - val_loss: 0.2944 - val_accuracy: 0.9231\n",
            "Epoch 18/500\n",
            "1875/1875 [==============================] - 6s 3ms/step - loss: 0.0826 - accuracy: 0.9700 - val_loss: 0.3192 - val_accuracy: 0.9193\n",
            "Epoch 19/500\n",
            "1875/1875 [==============================] - 6s 3ms/step - loss: 0.0816 - accuracy: 0.9698 - val_loss: 0.3431 - val_accuracy: 0.9219\n",
            "Epoch 20/500\n",
            "1875/1875 [==============================] - 6s 3ms/step - loss: 0.0758 - accuracy: 0.9729 - val_loss: 0.3451 - val_accuracy: 0.9203\n",
            "Epoch 21/500\n",
            "1875/1875 [==============================] - 6s 3ms/step - loss: 0.0756 - accuracy: 0.9727 - val_loss: 0.3756 - val_accuracy: 0.9248\n",
            "Epoch 22/500\n",
            "1875/1875 [==============================] - 5s 3ms/step - loss: 0.0716 - accuracy: 0.9730 - val_loss: 0.3817 - val_accuracy: 0.9195\n",
            "Epoch 23/500\n",
            "1875/1875 [==============================] - 5s 3ms/step - loss: 0.0692 - accuracy: 0.9742 - val_loss: 0.3670 - val_accuracy: 0.9185\n",
            "Epoch 24/500\n",
            "1875/1875 [==============================] - 6s 3ms/step - loss: 0.0627 - accuracy: 0.9771 - val_loss: 0.3897 - val_accuracy: 0.9188\n",
            "Epoch 25/500\n",
            "1875/1875 [==============================] - 5s 3ms/step - loss: 0.0635 - accuracy: 0.9770 - val_loss: 0.3913 - val_accuracy: 0.9180\n",
            "Epoch 26/500\n",
            "1875/1875 [==============================] - 5s 3ms/step - loss: 0.0598 - accuracy: 0.9780 - val_loss: 0.4536 - val_accuracy: 0.9183\n",
            "Epoch 27/500\n",
            "1875/1875 [==============================] - 6s 3ms/step - loss: 0.0614 - accuracy: 0.9783 - val_loss: 0.3872 - val_accuracy: 0.9217\n",
            "Epoch 28/500\n",
            "1875/1875 [==============================] - 5s 3ms/step - loss: 0.0591 - accuracy: 0.9783 - val_loss: 0.3931 - val_accuracy: 0.9198\n",
            "Epoch 29/500\n",
            "1875/1875 [==============================] - 6s 3ms/step - loss: 0.0562 - accuracy: 0.9799 - val_loss: 0.3905 - val_accuracy: 0.9185\n",
            "Epoch 30/500\n",
            "1875/1875 [==============================] - 6s 3ms/step - loss: 0.0552 - accuracy: 0.9804 - val_loss: 0.3891 - val_accuracy: 0.9220\n",
            "Epoch 31/500\n",
            "1875/1875 [==============================] - 6s 3ms/step - loss: 0.0546 - accuracy: 0.9803 - val_loss: 0.4708 - val_accuracy: 0.9186\n",
            "Epoch 32/500\n",
            "1875/1875 [==============================] - 6s 3ms/step - loss: 0.0522 - accuracy: 0.9816 - val_loss: 0.4286 - val_accuracy: 0.9226\n",
            "Epoch 33/500\n",
            "1875/1875 [==============================] - 6s 3ms/step - loss: 0.0485 - accuracy: 0.9823 - val_loss: 0.4282 - val_accuracy: 0.9213\n",
            "Epoch 34/500\n",
            "1875/1875 [==============================] - 5s 3ms/step - loss: 0.0515 - accuracy: 0.9822 - val_loss: 0.4617 - val_accuracy: 0.9192\n",
            "Epoch 35/500\n",
            "1875/1875 [==============================] - 5s 3ms/step - loss: 0.0485 - accuracy: 0.9840 - val_loss: 0.4584 - val_accuracy: 0.9200\n",
            "Epoch 36/500\n",
            "1875/1875 [==============================] - 6s 3ms/step - loss: 0.0451 - accuracy: 0.9838 - val_loss: 0.4732 - val_accuracy: 0.9211\n",
            "Epoch 37/500\n",
            "1875/1875 [==============================] - 5s 3ms/step - loss: 0.0459 - accuracy: 0.9839 - val_loss: 0.4412 - val_accuracy: 0.9233\n",
            "Epoch 38/500\n",
            "1875/1875 [==============================] - 5s 3ms/step - loss: 0.0474 - accuracy: 0.9836 - val_loss: 0.4613 - val_accuracy: 0.9216\n",
            "Epoch 39/500\n",
            "1875/1875 [==============================] - 5s 3ms/step - loss: 0.0442 - accuracy: 0.9848 - val_loss: 0.4710 - val_accuracy: 0.9197\n",
            "Epoch 40/500\n",
            "1875/1875 [==============================] - 5s 3ms/step - loss: 0.0420 - accuracy: 0.9853 - val_loss: 0.5130 - val_accuracy: 0.9185\n",
            "Epoch 41/500\n",
            "1875/1875 [==============================] - 5s 3ms/step - loss: 0.0454 - accuracy: 0.9846 - val_loss: 0.4597 - val_accuracy: 0.9215\n",
            "Epoch 42/500\n",
            "1875/1875 [==============================] - 5s 3ms/step - loss: 0.0422 - accuracy: 0.9852 - val_loss: 0.5342 - val_accuracy: 0.9224\n",
            "Epoch 43/500\n",
            "1875/1875 [==============================] - 5s 3ms/step - loss: 0.0430 - accuracy: 0.9847 - val_loss: 0.5230 - val_accuracy: 0.9200\n",
            "Epoch 44/500\n",
            "1875/1875 [==============================] - 6s 3ms/step - loss: 0.0393 - accuracy: 0.9863 - val_loss: 0.5258 - val_accuracy: 0.9240\n",
            "Epoch 45/500\n",
            "1875/1875 [==============================] - 6s 3ms/step - loss: 0.0429 - accuracy: 0.9848 - val_loss: 0.5409 - val_accuracy: 0.9230\n",
            "Epoch 46/500\n",
            "1875/1875 [==============================] - 5s 3ms/step - loss: 0.0408 - accuracy: 0.9862 - val_loss: 0.5177 - val_accuracy: 0.9210\n",
            "Epoch 47/500\n",
            "1875/1875 [==============================] - 5s 3ms/step - loss: 0.0398 - accuracy: 0.9865 - val_loss: 0.5530 - val_accuracy: 0.9225\n",
            "Epoch 48/500\n",
            "1875/1875 [==============================] - 5s 3ms/step - loss: 0.0403 - accuracy: 0.9861 - val_loss: 0.4956 - val_accuracy: 0.9199\n",
            "Epoch 49/500\n",
            "1875/1875 [==============================] - 5s 3ms/step - loss: 0.0370 - accuracy: 0.9873 - val_loss: 0.5998 - val_accuracy: 0.9193\n",
            "Epoch 50/500\n",
            "1875/1875 [==============================] - 5s 3ms/step - loss: 0.0407 - accuracy: 0.9861 - val_loss: 0.5008 - val_accuracy: 0.9228\n",
            "Epoch 51/500\n",
            "1875/1875 [==============================] - 5s 3ms/step - loss: 0.0384 - accuracy: 0.9870 - val_loss: 0.5117 - val_accuracy: 0.9204\n",
            "Epoch 52/500\n",
            "1875/1875 [==============================] - 5s 3ms/step - loss: 0.0393 - accuracy: 0.9866 - val_loss: 0.5285 - val_accuracy: 0.9215\n",
            "Epoch 53/500\n",
            "1875/1875 [==============================] - 5s 3ms/step - loss: 0.0386 - accuracy: 0.9874 - val_loss: 0.5835 - val_accuracy: 0.9223\n",
            "Epoch 54/500\n",
            "1875/1875 [==============================] - 5s 3ms/step - loss: 0.0337 - accuracy: 0.9886 - val_loss: 0.5589 - val_accuracy: 0.9226\n",
            "Epoch 55/500\n",
            "1875/1875 [==============================] - 6s 3ms/step - loss: 0.0387 - accuracy: 0.9879 - val_loss: 0.5512 - val_accuracy: 0.9249\n",
            "Epoch 56/500\n",
            "1875/1875 [==============================] - 5s 3ms/step - loss: 0.0377 - accuracy: 0.9877 - val_loss: 0.5371 - val_accuracy: 0.9239\n",
            "Epoch 57/500\n",
            "1875/1875 [==============================] - 6s 3ms/step - loss: 0.0327 - accuracy: 0.9886 - val_loss: 0.5865 - val_accuracy: 0.9218\n",
            "Epoch 58/500\n",
            "1875/1875 [==============================] - 6s 3ms/step - loss: 0.0344 - accuracy: 0.9881 - val_loss: 0.5690 - val_accuracy: 0.9220\n",
            "Epoch 59/500\n",
            "1875/1875 [==============================] - 6s 3ms/step - loss: 0.0381 - accuracy: 0.9880 - val_loss: 0.5968 - val_accuracy: 0.9223\n",
            "Epoch 60/500\n",
            "1875/1875 [==============================] - 6s 3ms/step - loss: 0.0360 - accuracy: 0.9880 - val_loss: 0.5590 - val_accuracy: 0.9238\n",
            "Epoch 61/500\n",
            "1875/1875 [==============================] - 6s 3ms/step - loss: 0.0339 - accuracy: 0.9890 - val_loss: 0.6200 - val_accuracy: 0.9171\n",
            "Epoch 62/500\n",
            "1875/1875 [==============================] - 6s 3ms/step - loss: 0.0356 - accuracy: 0.9879 - val_loss: 0.6668 - val_accuracy: 0.9150\n",
            "Epoch 63/500\n",
            "1875/1875 [==============================] - 6s 3ms/step - loss: 0.0313 - accuracy: 0.9898 - val_loss: 0.6043 - val_accuracy: 0.9176\n",
            "Epoch 64/500\n",
            "1875/1875 [==============================] - 6s 3ms/step - loss: 0.0359 - accuracy: 0.9886 - val_loss: 0.6052 - val_accuracy: 0.9224\n",
            "Epoch 65/500\n",
            "1875/1875 [==============================] - 6s 3ms/step - loss: 0.0321 - accuracy: 0.9890 - val_loss: 0.5598 - val_accuracy: 0.9221\n",
            "Epoch 66/500\n",
            "1875/1875 [==============================] - 6s 3ms/step - loss: 0.0354 - accuracy: 0.9889 - val_loss: 0.6445 - val_accuracy: 0.9214\n",
            "Epoch 67/500\n",
            "1875/1875 [==============================] - 6s 3ms/step - loss: 0.0306 - accuracy: 0.9897 - val_loss: 0.5970 - val_accuracy: 0.9179\n",
            "Epoch 68/500\n",
            "1875/1875 [==============================] - 6s 3ms/step - loss: 0.0308 - accuracy: 0.9897 - val_loss: 0.6030 - val_accuracy: 0.9205\n",
            "Epoch 69/500\n",
            "1875/1875 [==============================] - 6s 3ms/step - loss: 0.0340 - accuracy: 0.9893 - val_loss: 0.6821 - val_accuracy: 0.9197\n",
            "Epoch 70/500\n",
            "1875/1875 [==============================] - 6s 3ms/step - loss: 0.0352 - accuracy: 0.9890 - val_loss: 0.6224 - val_accuracy: 0.9223\n",
            "Epoch 71/500\n",
            "1875/1875 [==============================] - 6s 3ms/step - loss: 0.0312 - accuracy: 0.9902 - val_loss: 0.6151 - val_accuracy: 0.9210\n",
            "Epoch 72/500\n",
            "1875/1875 [==============================] - 6s 3ms/step - loss: 0.0300 - accuracy: 0.9901 - val_loss: 0.6368 - val_accuracy: 0.9223\n",
            "Epoch 73/500\n",
            "1875/1875 [==============================] - 6s 3ms/step - loss: 0.0328 - accuracy: 0.9895 - val_loss: 0.6692 - val_accuracy: 0.9214\n",
            "Epoch 74/500\n",
            "1875/1875 [==============================] - 6s 3ms/step - loss: 0.0317 - accuracy: 0.9899 - val_loss: 0.6557 - val_accuracy: 0.9202\n",
            "Epoch 75/500\n",
            "1875/1875 [==============================] - 6s 3ms/step - loss: 0.0319 - accuracy: 0.9897 - val_loss: 0.6050 - val_accuracy: 0.9218\n",
            "Epoch 76/500\n",
            "1875/1875 [==============================] - 6s 3ms/step - loss: 0.0301 - accuracy: 0.9902 - val_loss: 0.6763 - val_accuracy: 0.9180\n",
            "Epoch 77/500\n",
            "1875/1875 [==============================] - 6s 3ms/step - loss: 0.0297 - accuracy: 0.9907 - val_loss: 0.6192 - val_accuracy: 0.9208\n",
            "Epoch 78/500\n",
            "1875/1875 [==============================] - 6s 3ms/step - loss: 0.0318 - accuracy: 0.9902 - val_loss: 0.6040 - val_accuracy: 0.9206\n",
            "Epoch 79/500\n",
            "1875/1875 [==============================] - 6s 3ms/step - loss: 0.0291 - accuracy: 0.9909 - val_loss: 0.7132 - val_accuracy: 0.9215\n",
            "Epoch 80/500\n",
            "1875/1875 [==============================] - 6s 3ms/step - loss: 0.0273 - accuracy: 0.9914 - val_loss: 0.6236 - val_accuracy: 0.9228\n",
            "Epoch 81/500\n",
            "1875/1875 [==============================] - 6s 3ms/step - loss: 0.0288 - accuracy: 0.9904 - val_loss: 0.6702 - val_accuracy: 0.9198\n",
            "Epoch 82/500\n",
            "1875/1875 [==============================] - 6s 3ms/step - loss: 0.0314 - accuracy: 0.9902 - val_loss: 0.7049 - val_accuracy: 0.9200\n",
            "Epoch 83/500\n",
            "1875/1875 [==============================] - 6s 3ms/step - loss: 0.0294 - accuracy: 0.9907 - val_loss: 0.6744 - val_accuracy: 0.9251\n",
            "Epoch 84/500\n",
            "1875/1875 [==============================] - 6s 3ms/step - loss: 0.0278 - accuracy: 0.9916 - val_loss: 0.6798 - val_accuracy: 0.9238\n",
            "Epoch 85/500\n",
            "1875/1875 [==============================] - 6s 3ms/step - loss: 0.0277 - accuracy: 0.9912 - val_loss: 0.7739 - val_accuracy: 0.9196\n",
            "Epoch 86/500\n",
            "1875/1875 [==============================] - 6s 3ms/step - loss: 0.0312 - accuracy: 0.9899 - val_loss: 0.6304 - val_accuracy: 0.9194\n",
            "Epoch 87/500\n",
            "1875/1875 [==============================] - 6s 3ms/step - loss: 0.0283 - accuracy: 0.9912 - val_loss: 0.7204 - val_accuracy: 0.9192\n",
            "Epoch 88/500\n",
            "1875/1875 [==============================] - 6s 3ms/step - loss: 0.0282 - accuracy: 0.9914 - val_loss: 0.6766 - val_accuracy: 0.9207\n",
            "Epoch 89/500\n",
            "1875/1875 [==============================] - 6s 3ms/step - loss: 0.0294 - accuracy: 0.9908 - val_loss: 0.6848 - val_accuracy: 0.9239\n",
            "Epoch 90/500\n",
            "1875/1875 [==============================] - 6s 3ms/step - loss: 0.0293 - accuracy: 0.9909 - val_loss: 0.6962 - val_accuracy: 0.9242\n",
            "Epoch 91/500\n",
            "1875/1875 [==============================] - 6s 3ms/step - loss: 0.0252 - accuracy: 0.9919 - val_loss: 0.7093 - val_accuracy: 0.9186\n",
            "Epoch 92/500\n",
            "1875/1875 [==============================] - 6s 3ms/step - loss: 0.0288 - accuracy: 0.9911 - val_loss: 0.7010 - val_accuracy: 0.9210\n",
            "Epoch 93/500\n",
            "1875/1875 [==============================] - 5s 3ms/step - loss: 0.0287 - accuracy: 0.9910 - val_loss: 0.7285 - val_accuracy: 0.9210\n",
            "Epoch 94/500\n",
            "1875/1875 [==============================] - 5s 3ms/step - loss: 0.0264 - accuracy: 0.9920 - val_loss: 0.7026 - val_accuracy: 0.9218\n",
            "Epoch 95/500\n",
            "1875/1875 [==============================] - 6s 3ms/step - loss: 0.0303 - accuracy: 0.9908 - val_loss: 0.8137 - val_accuracy: 0.9206\n",
            "Epoch 96/500\n",
            "1875/1875 [==============================] - 5s 3ms/step - loss: 0.0279 - accuracy: 0.9916 - val_loss: 0.7244 - val_accuracy: 0.9198\n",
            "Epoch 97/500\n",
            "1875/1875 [==============================] - 6s 3ms/step - loss: 0.0290 - accuracy: 0.9908 - val_loss: 0.6570 - val_accuracy: 0.9217\n",
            "Epoch 98/500\n",
            "1875/1875 [==============================] - 6s 3ms/step - loss: 0.0273 - accuracy: 0.9914 - val_loss: 0.6452 - val_accuracy: 0.9240\n",
            "Epoch 99/500\n",
            "1875/1875 [==============================] - 6s 3ms/step - loss: 0.0294 - accuracy: 0.9913 - val_loss: 0.7191 - val_accuracy: 0.9231\n",
            "Epoch 100/500\n",
            "1875/1875 [==============================] - 6s 3ms/step - loss: 0.0273 - accuracy: 0.9916 - val_loss: 0.7073 - val_accuracy: 0.9235\n",
            "Epoch 101/500\n",
            "1875/1875 [==============================] - 6s 3ms/step - loss: 0.0309 - accuracy: 0.9907 - val_loss: 0.7484 - val_accuracy: 0.9203\n",
            "Epoch 102/500\n",
            "1875/1875 [==============================] - 6s 3ms/step - loss: 0.0259 - accuracy: 0.9917 - val_loss: 0.7054 - val_accuracy: 0.9244\n",
            "Epoch 103/500\n",
            "1875/1875 [==============================] - 6s 3ms/step - loss: 0.0274 - accuracy: 0.9920 - val_loss: 0.7114 - val_accuracy: 0.9211\n",
            "Epoch 104/500\n",
            "1875/1875 [==============================] - 5s 3ms/step - loss: 0.0277 - accuracy: 0.9914 - val_loss: 0.7318 - val_accuracy: 0.9201\n",
            "Epoch 105/500\n",
            "1875/1875 [==============================] - 5s 3ms/step - loss: 0.0257 - accuracy: 0.9916 - val_loss: 0.7368 - val_accuracy: 0.9226\n",
            "Epoch 106/500\n",
            "1875/1875 [==============================] - 5s 3ms/step - loss: 0.0295 - accuracy: 0.9909 - val_loss: 0.7114 - val_accuracy: 0.9223\n",
            "Epoch 107/500\n",
            "1875/1875 [==============================] - 6s 3ms/step - loss: 0.0296 - accuracy: 0.9914 - val_loss: 0.7389 - val_accuracy: 0.9174\n",
            "Epoch 108/500\n",
            "1875/1875 [==============================] - 6s 3ms/step - loss: 0.0240 - accuracy: 0.9923 - val_loss: 0.7787 - val_accuracy: 0.9176\n",
            "Epoch 109/500\n",
            "1875/1875 [==============================] - 5s 3ms/step - loss: 0.0257 - accuracy: 0.9921 - val_loss: 0.7346 - val_accuracy: 0.9219\n",
            "Epoch 110/500\n",
            "1875/1875 [==============================] - 6s 3ms/step - loss: 0.0265 - accuracy: 0.9922 - val_loss: 0.7463 - val_accuracy: 0.9171\n",
            "Epoch 111/500\n",
            "1875/1875 [==============================] - 6s 3ms/step - loss: 0.0272 - accuracy: 0.9916 - val_loss: 0.7853 - val_accuracy: 0.9185\n",
            "Epoch 112/500\n",
            "1875/1875 [==============================] - 6s 3ms/step - loss: 0.0289 - accuracy: 0.9920 - val_loss: 0.7236 - val_accuracy: 0.9182\n",
            "Epoch 113/500\n",
            "1875/1875 [==============================] - 6s 3ms/step - loss: 0.0257 - accuracy: 0.9921 - val_loss: 0.7055 - val_accuracy: 0.9212\n",
            "Epoch 114/500\n",
            "1875/1875 [==============================] - 6s 3ms/step - loss: 0.0261 - accuracy: 0.9917 - val_loss: 0.7800 - val_accuracy: 0.9213\n",
            "Epoch 115/500\n",
            "1875/1875 [==============================] - 6s 3ms/step - loss: 0.0235 - accuracy: 0.9930 - val_loss: 0.8225 - val_accuracy: 0.9213\n",
            "Epoch 116/500\n",
            "1875/1875 [==============================] - 6s 3ms/step - loss: 0.0260 - accuracy: 0.9921 - val_loss: 0.8067 - val_accuracy: 0.9204\n",
            "Epoch 117/500\n",
            "1875/1875 [==============================] - 6s 3ms/step - loss: 0.0258 - accuracy: 0.9928 - val_loss: 0.8000 - val_accuracy: 0.9153\n",
            "Epoch 118/500\n",
            "1875/1875 [==============================] - 6s 3ms/step - loss: 0.0257 - accuracy: 0.9925 - val_loss: 0.7594 - val_accuracy: 0.9203\n",
            "Epoch 119/500\n",
            "1875/1875 [==============================] - 6s 3ms/step - loss: 0.0240 - accuracy: 0.9926 - val_loss: 0.8114 - val_accuracy: 0.9220\n",
            "Epoch 120/500\n",
            "1875/1875 [==============================] - 6s 3ms/step - loss: 0.0305 - accuracy: 0.9910 - val_loss: 0.7563 - val_accuracy: 0.9178\n",
            "Epoch 121/500\n",
            "1875/1875 [==============================] - 6s 3ms/step - loss: 0.0272 - accuracy: 0.9922 - val_loss: 0.7827 - val_accuracy: 0.9182\n",
            "Epoch 122/500\n",
            "1875/1875 [==============================] - 6s 3ms/step - loss: 0.0271 - accuracy: 0.9920 - val_loss: 0.7354 - val_accuracy: 0.9223\n",
            "Epoch 123/500\n",
            "1875/1875 [==============================] - 6s 3ms/step - loss: 0.0218 - accuracy: 0.9933 - val_loss: 0.8552 - val_accuracy: 0.9198\n",
            "Epoch 124/500\n",
            "1875/1875 [==============================] - 6s 3ms/step - loss: 0.0293 - accuracy: 0.9917 - val_loss: 0.7370 - val_accuracy: 0.9165\n",
            "Epoch 125/500\n",
            "1875/1875 [==============================] - 6s 3ms/step - loss: 0.0281 - accuracy: 0.9918 - val_loss: 0.7257 - val_accuracy: 0.9219\n",
            "Epoch 126/500\n",
            "1875/1875 [==============================] - 6s 3ms/step - loss: 0.0300 - accuracy: 0.9916 - val_loss: 0.7939 - val_accuracy: 0.9221\n",
            "Epoch 127/500\n",
            "1875/1875 [==============================] - 6s 3ms/step - loss: 0.0245 - accuracy: 0.9926 - val_loss: 0.7732 - val_accuracy: 0.9212\n",
            "Epoch 128/500\n",
            "1875/1875 [==============================] - 6s 3ms/step - loss: 0.0257 - accuracy: 0.9925 - val_loss: 0.6900 - val_accuracy: 0.9240\n",
            "Epoch 129/500\n",
            "1875/1875 [==============================] - 6s 3ms/step - loss: 0.0247 - accuracy: 0.9930 - val_loss: 0.8380 - val_accuracy: 0.9194\n",
            "Epoch 130/500\n",
            "1875/1875 [==============================] - 6s 3ms/step - loss: 0.0272 - accuracy: 0.9923 - val_loss: 0.7439 - val_accuracy: 0.9216\n",
            "Epoch 131/500\n",
            "1875/1875 [==============================] - 6s 3ms/step - loss: 0.0243 - accuracy: 0.9929 - val_loss: 0.8530 - val_accuracy: 0.9204\n",
            "Epoch 132/500\n",
            "1875/1875 [==============================] - 6s 3ms/step - loss: 0.0260 - accuracy: 0.9923 - val_loss: 0.7551 - val_accuracy: 0.9192\n",
            "Epoch 133/500\n",
            "1875/1875 [==============================] - 6s 3ms/step - loss: 0.0211 - accuracy: 0.9936 - val_loss: 0.7732 - val_accuracy: 0.9219\n",
            "Epoch 00133: early stopping\n"
          ],
          "name": "stdout"
        },
        {
          "output_type": "execute_result",
          "data": {
            "text/plain": [
              "<tensorflow.python.keras.callbacks.History at 0x7fa63af01c88>"
            ]
          },
          "metadata": {
            "tags": []
          },
          "execution_count": 17
        }
      ]
    },
    {
      "cell_type": "code",
      "metadata": {
        "id": "W-eIxCasDBil",
        "colab": {
          "base_uri": "https://localhost:8080/"
        },
        "outputId": "e11dfad6-9b47-4df8-959d-86aa1464bc37"
      },
      "source": [
        " c2f3.evaluate(X_test, y_test, batch_size = 32)"
      ],
      "execution_count": 18,
      "outputs": [
        {
          "output_type": "stream",
          "text": [
            "313/313 [==============================] - 1s 2ms/step - loss: 0.7732 - accuracy: 0.9219\n"
          ],
          "name": "stdout"
        },
        {
          "output_type": "execute_result",
          "data": {
            "text/plain": [
              "[0.7731505632400513, 0.9218999743461609]"
            ]
          },
          "metadata": {
            "tags": []
          },
          "execution_count": 18
        }
      ]
    },
    {
      "cell_type": "markdown",
      "metadata": {
        "id": "5XYSVtC-DVsz"
      },
      "source": [
        "# **[DIY] Hidden layer에 따른 정확도**"
      ]
    },
    {
      "cell_type": "code",
      "metadata": {
        "id": "OiCc_UO2rGmp",
        "colab": {
          "base_uri": "https://localhost:8080/"
        },
        "outputId": "14e60445-9efb-4730-d15f-5e593dae3c91"
      },
      "source": [
        "score1=c2f2.evaluate(X_test, y_test, batch_size = 32)\n",
        "score2=c2f3.evaluate(X_test, y_test, batch_size = 32)\n",
        "losses = [score1[0],score2[0]]\n",
        "accuracies= [score1[1],score2[1]]\n",
        "losses,accuracies"
      ],
      "execution_count": 19,
      "outputs": [
        {
          "output_type": "stream",
          "text": [
            "313/313 [==============================] - 1s 2ms/step - loss: 0.7414 - accuracy: 0.9199\n",
            "313/313 [==============================] - 1s 2ms/step - loss: 0.7732 - accuracy: 0.9219\n"
          ],
          "name": "stdout"
        },
        {
          "output_type": "execute_result",
          "data": {
            "text/plain": [
              "([0.741439700126648, 0.7731505632400513],\n",
              " [0.9199000000953674, 0.9218999743461609])"
            ]
          },
          "metadata": {
            "tags": []
          },
          "execution_count": 19
        }
      ]
    },
    {
      "cell_type": "code",
      "metadata": {
        "id": "vZv6a2aVRw9j",
        "colab": {
          "base_uri": "https://localhost:8080/",
          "height": 269
        },
        "outputId": "c176af18-eeda-4b4d-ca63-be735fc7666b"
      },
      "source": [
        "x = np.arange(2)\n",
        "cnns = ['C2F2','C2F3']\n",
        "\n",
        "plt.bar(x, accuracies)\n",
        "plt.xticks(x, cnns)\n",
        "plt.ylim((.9,1.0))\n",
        "plt.show()"
      ],
      "execution_count": 20,
      "outputs": [
        {
          "output_type": "display_data",
          "data": {
            "image/png": "[encoded data removed]",
            "text/plain": [
              "<Figure size 432x288 with 1 Axes>"
            ]
          },
          "metadata": {
            "tags": [],
            "needs_background": "light"
          }
        }
      ]
    },
    {
      "cell_type": "markdown",
      "metadata": {
        "id": "3Ub3qGnjs4EI"
      },
      "source": [
        "## Graph of loss and accuracy\n",
        "- model: C2F2"
      ]
    },
    {
      "cell_type": "code",
      "metadata": {
        "id": "NiSAsgsNtUte"
      },
      "source": [
        "c2f2 = keras.models.Sequential([ \n",
        "    Conv2D(input_shape=(28,28,1),kernel_size=(3,3),strides=(1,1),filters= 32,padding='same',activation='relu'),\n",
        "    MaxPool2D(pool_size=(2,2), strides=(2,2)), \n",
        "    Conv2D(kernel_size=(3,3),strides=(1,1),filters= 64,padding='same',activation='relu'),\n",
        "    MaxPool2D(pool_size=(2,2), strides=(2,2)),\n",
        "    Flatten(), \n",
        "    keras.layers.Dense(128, activation='relu'),  \n",
        "    keras.layers.Dropout(0.25), \n",
        "    keras.layers.Dense(10, activation='softmax')\n",
        "])\n",
        "\n",
        "c2f2.compile(optimizer='adam',\n",
        "            loss='categorical_crossentropy',\n",
        "            metrics=['accuracy'])"
      ],
      "execution_count": 21,
      "outputs": []
    },
    {
      "cell_type": "code",
      "metadata": {
        "id": "dJHBUlomtUtt",
        "colab": {
          "base_uri": "https://localhost:8080/"
        },
        "outputId": "3994162d-11d5-4a22-e98f-2086babeb9aa"
      },
      "source": [
        "c2f2.summary()"
      ],
      "execution_count": 22,
      "outputs": [
        {
          "output_type": "stream",
          "text": [
            "Model: \"sequential_2\"\n",
            "_________________________________________________________________\n",
            "Layer (type)                 Output Shape              Param #   \n",
            "=================================================================\n",
            "conv2d_4 (Conv2D)            (None, 28, 28, 32)        320       \n",
            "_________________________________________________________________\n",
            "max_pooling2d_4 (MaxPooling2 (None, 14, 14, 32)        0         \n",
            "_________________________________________________________________\n",
            "conv2d_5 (Conv2D)            (None, 14, 14, 64)        18496     \n",
            "_________________________________________________________________\n",
            "max_pooling2d_5 (MaxPooling2 (None, 7, 7, 64)          0         \n",
            "_________________________________________________________________\n",
            "flatten_2 (Flatten)          (None, 3136)              0         \n",
            "_________________________________________________________________\n",
            "dense_5 (Dense)              (None, 128)               401536    \n",
            "_________________________________________________________________\n",
            "dropout_3 (Dropout)          (None, 128)               0         \n",
            "_________________________________________________________________\n",
            "dense_6 (Dense)              (None, 10)                1290      \n",
            "=================================================================\n",
            "Total params: 421,642\n",
            "Trainable params: 421,642\n",
            "Non-trainable params: 0\n",
            "_________________________________________________________________\n"
          ],
          "name": "stdout"
        }
      ]
    },
    {
      "cell_type": "code",
      "metadata": {
        "id": "-Yfqv2AqtUtz",
        "colab": {
          "base_uri": "https://localhost:8080/"
        },
        "outputId": "d782ed6b-19b1-42a0-887c-bb93ce246c1b"
      },
      "source": [
        "hist = c2f2.fit(X_train, y_train, \n",
        "         epochs = 20 , \n",
        "         batch_size =32, \n",
        "         validation_data=(X_test,y_test))"
      ],
      "execution_count": 23,
      "outputs": [
        {
          "output_type": "stream",
          "text": [
            "Epoch 1/20\n",
            "1875/1875 [==============================] - 5s 3ms/step - loss: 0.4334 - accuracy: 0.8436 - val_loss: 0.3165 - val_accuracy: 0.8866\n",
            "Epoch 2/20\n",
            "1875/1875 [==============================] - 5s 3ms/step - loss: 0.2841 - accuracy: 0.8967 - val_loss: 0.2787 - val_accuracy: 0.8977\n",
            "Epoch 3/20\n",
            "1875/1875 [==============================] - 5s 3ms/step - loss: 0.2405 - accuracy: 0.9121 - val_loss: 0.2534 - val_accuracy: 0.9094\n",
            "Epoch 4/20\n",
            "1875/1875 [==============================] - 5s 3ms/step - loss: 0.2082 - accuracy: 0.9237 - val_loss: 0.2345 - val_accuracy: 0.9169\n",
            "Epoch 5/20\n",
            "1875/1875 [==============================] - 5s 3ms/step - loss: 0.1851 - accuracy: 0.9307 - val_loss: 0.2380 - val_accuracy: 0.9140\n",
            "Epoch 6/20\n",
            "1875/1875 [==============================] - 5s 3ms/step - loss: 0.1646 - accuracy: 0.9388 - val_loss: 0.2427 - val_accuracy: 0.9187\n",
            "Epoch 7/20\n",
            "1875/1875 [==============================] - 6s 3ms/step - loss: 0.1490 - accuracy: 0.9445 - val_loss: 0.2396 - val_accuracy: 0.9228\n",
            "Epoch 8/20\n",
            "1875/1875 [==============================] - 6s 3ms/step - loss: 0.1343 - accuracy: 0.9485 - val_loss: 0.2313 - val_accuracy: 0.9233\n",
            "Epoch 9/20\n",
            "1875/1875 [==============================] - 5s 3ms/step - loss: 0.1206 - accuracy: 0.9543 - val_loss: 0.2575 - val_accuracy: 0.9218\n",
            "Epoch 10/20\n",
            "1875/1875 [==============================] - 5s 3ms/step - loss: 0.1086 - accuracy: 0.9586 - val_loss: 0.2667 - val_accuracy: 0.9190\n",
            "Epoch 11/20\n",
            "1875/1875 [==============================] - 5s 3ms/step - loss: 0.0969 - accuracy: 0.9636 - val_loss: 0.2885 - val_accuracy: 0.9215\n",
            "Epoch 12/20\n",
            "1875/1875 [==============================] - 5s 3ms/step - loss: 0.0914 - accuracy: 0.9655 - val_loss: 0.2711 - val_accuracy: 0.9191\n",
            "Epoch 13/20\n",
            "1875/1875 [==============================] - 5s 3ms/step - loss: 0.0812 - accuracy: 0.9689 - val_loss: 0.2748 - val_accuracy: 0.9215\n",
            "Epoch 14/20\n",
            "1875/1875 [==============================] - 5s 3ms/step - loss: 0.0755 - accuracy: 0.9711 - val_loss: 0.3196 - val_accuracy: 0.9183\n",
            "Epoch 15/20\n",
            "1875/1875 [==============================] - 5s 3ms/step - loss: 0.0696 - accuracy: 0.9729 - val_loss: 0.3302 - val_accuracy: 0.9196\n",
            "Epoch 16/20\n",
            "1875/1875 [==============================] - 5s 3ms/step - loss: 0.0643 - accuracy: 0.9751 - val_loss: 0.3662 - val_accuracy: 0.9227\n",
            "Epoch 17/20\n",
            "1875/1875 [==============================] - 5s 3ms/step - loss: 0.0615 - accuracy: 0.9765 - val_loss: 0.3632 - val_accuracy: 0.9211\n",
            "Epoch 18/20\n",
            "1875/1875 [==============================] - 5s 3ms/step - loss: 0.0597 - accuracy: 0.9772 - val_loss: 0.3354 - val_accuracy: 0.9263\n",
            "Epoch 19/20\n",
            "1875/1875 [==============================] - 5s 3ms/step - loss: 0.0519 - accuracy: 0.9802 - val_loss: 0.3430 - val_accuracy: 0.9249\n",
            "Epoch 20/20\n",
            "1875/1875 [==============================] - 5s 3ms/step - loss: 0.0518 - accuracy: 0.9802 - val_loss: 0.4332 - val_accuracy: 0.9219\n"
          ],
          "name": "stdout"
        }
      ]
    },
    {
      "cell_type": "code",
      "metadata": {
        "id": "WNmXXLhvWUiK",
        "colab": {
          "base_uri": "https://localhost:8080/",
          "height": 313
        },
        "outputId": "2d463b7c-ee2c-4d40-bbd9-2229d60fdba2"
      },
      "source": [
        "# Plot loass and accuracy\n",
        "# Plot training & validation accuracy values\n",
        "epochs = 20\n",
        "loss_list = [100 * i for i in hist.history['loss']]\n",
        "acc_list = [100 * i for i in hist.history['accuracy']]\n",
        "plt.plot(range(1,epochs+1),loss_list) \n",
        "plt.plot(range(1,epochs+1),acc_list) \n",
        "plt.title('Model loss & accuracy')\n",
        "plt.ylabel('Accuracy (%)')\n",
        "plt.xlabel('Epoch')\n",
        "plt.legend(['loss', 'accuracy'], loc='center left')"
      ],
      "execution_count": 24,
      "outputs": [
        {
          "output_type": "execute_result",
          "data": {
            "text/plain": [
              "<matplotlib.legend.Legend at 0x7fa63a39ff60>"
            ]
          },
          "metadata": {
            "tags": []
          },
          "execution_count": 24
        },
        {
          "output_type": "display_data",
          "data": {
            "image/png": "[encoded data removed]",
            "text/plain": [
              "<Figure size 432x288 with 1 Axes>"
            ]
          },
          "metadata": {
            "tags": [],
            "needs_background": "light"
          }
        }
      ]
    },
    {
      "cell_type": "code",
      "metadata": {
        "id": "0wNssVPhu_8m"
      },
      "source": [
        "vloss_list = [100 * i for i in hist.history['val_loss']]\n",
        "vacc_list = [100 * i for i in hist.history['val_accuracy']]"
      ],
      "execution_count": 25,
      "outputs": []
    },
    {
      "cell_type": "code",
      "metadata": {
        "id": "TX5Uzro4vjaY",
        "colab": {
          "base_uri": "https://localhost:8080/",
          "height": 313
        },
        "outputId": "551985c6-7d0f-4d0d-ba7c-22f1a36facbd"
      },
      "source": [
        "plt.plot(range(1,epochs+1),vloss_list)  \n",
        "plt.plot(range(1,epochs+1),vacc_list)  \n",
        "plt.title('Model val_loss & val_accuracy')\n",
        "plt.ylabel('Accuracy (%)')\n",
        "plt.xlabel('Epoch')\n",
        "plt.legend(['val_loss', 'val_accuracy'], loc='center left')"
      ],
      "execution_count": 26,
      "outputs": [
        {
          "output_type": "execute_result",
          "data": {
            "text/plain": [
              "<matplotlib.legend.Legend at 0x7fa63a371a90>"
            ]
          },
          "metadata": {
            "tags": []
          },
          "execution_count": 26
        },
        {
          "output_type": "display_data",
          "data": {
            "image/png": "[encoded data removed]",
            "text/plain": [
              "<Figure size 432x288 with 1 Axes>"
            ]
          },
          "metadata": {
            "tags": [],
            "needs_background": "light"
          }
        }
      ]
    },
    {
      "cell_type": "code",
      "metadata": {
        "id": "blALTNdyvjVK",
        "colab": {
          "base_uri": "https://localhost:8080/",
          "height": 313
        },
        "outputId": "37aa7f65-135f-4ea1-a426-72b6f129bdc2"
      },
      "source": [
        "plt.plot(range(1,epochs+1),acc_list)  \n",
        "plt.plot(range(1,epochs+1),vacc_list)  \n",
        "plt.title('accuracy vs. val_accuracy')\n",
        "plt.ylabel('Accuracy (%)')\n",
        "plt.xlabel('Epoch')\n",
        "plt.legend(['accuracy','val_accuracy']) #, loc='center bottom')"
      ],
      "execution_count": 27,
      "outputs": [
        {
          "output_type": "execute_result",
          "data": {
            "text/plain": [
              "<matplotlib.legend.Legend at 0x7fa63a323198>"
            ]
          },
          "metadata": {
            "tags": []
          },
          "execution_count": 27
        },
        {
          "output_type": "display_data",
          "data": {
            "image/png": "[encoded data removed]",
            "text/plain": [
              "<Figure size 432x288 with 1 Axes>"
            ]
          },
          "metadata": {
            "tags": [],
            "needs_background": "light"
          }
        }
      ]
    },
    {
      "cell_type": "markdown",
      "metadata": {
        "id": "gBPKMI4y3fsa"
      },
      "source": [
        "## 모형의 저장\n",
        "\n",
        "- 트레이닝이 끝난 모형은 save 메서드로 가중치와 함께 hdf5 형식으로 저장\n",
        "- load 명령으로 불러 사용"
      ]
    },
    {
      "cell_type": "code",
      "metadata": {
        "id": "KCfbQl2v3fsa"
      },
      "source": [
        "# c2f2.save('fmnist_cnn_best.hdf5')"
      ],
      "execution_count": 31,
      "outputs": []
    },
    {
      "cell_type": "code",
      "metadata": {
        "id": "b7-ysIVy3fse",
        "colab": {
          "base_uri": "https://localhost:8080/"
        },
        "outputId": "d3fb0c09-de70-40dc-faf3-f43b74f22536"
      },
      "source": [
        "from keras.models import load_model\n",
        "\n",
        "model = load_model('fmnist_c2f3_best_weights.083-0.9251.hdf5')\n",
        "model.evaluate(X_test, y_test, batch_size=32)"
      ],
      "execution_count": 33,
      "outputs": [
        {
          "output_type": "stream",
          "text": [
            "313/313 [==============================] - 1s 2ms/step - loss: 0.6744 - accuracy: 0.9251\n"
          ],
          "name": "stdout"
        },
        {
          "output_type": "execute_result",
          "data": {
            "text/plain": [
              "[0.6743859648704529, 0.9251000285148621]"
            ]
          },
          "metadata": {
            "tags": []
          },
          "execution_count": 33
        }
      ]
    },
    {
      "cell_type": "markdown",
      "metadata": {
        "id": "KF3UzDJotZrh"
      },
      "source": [
        "## Confusion matrix"
      ]
    },
    {
      "cell_type": "code",
      "metadata": {
        "id": "RV1IaOyeu6Em"
      },
      "source": [
        "from sklearn.metrics import confusion_matrix\n",
        "import seaborn as sns"
      ],
      "execution_count": 34,
      "outputs": []
    },
    {
      "cell_type": "code",
      "metadata": {
        "id": "Bxs1eC-cuO0Y"
      },
      "source": [
        "predictions = model.predict(X_test)"
      ],
      "execution_count": 35,
      "outputs": []
    },
    {
      "cell_type": "code",
      "metadata": {
        "id": "6Tqhg-UJujo5",
        "colab": {
          "base_uri": "https://localhost:8080/"
        },
        "outputId": "b60497e4-c80a-4658-ce72-483373b92f37"
      },
      "source": [
        "predictions.shape"
      ],
      "execution_count": 36,
      "outputs": [
        {
          "output_type": "execute_result",
          "data": {
            "text/plain": [
              "(10000, 10)"
            ]
          },
          "metadata": {
            "tags": []
          },
          "execution_count": 36
        }
      ]
    },
    {
      "cell_type": "code",
      "metadata": {
        "id": "nZch1JFSufoR",
        "colab": {
          "base_uri": "https://localhost:8080/"
        },
        "outputId": "b51bffac-4ef7-42f9-8201-013667fc6be8"
      },
      "source": [
        "predictions0 = np.argmax(predictions, axis=1)\n",
        "predictions0.shape"
      ],
      "execution_count": 37,
      "outputs": [
        {
          "output_type": "execute_result",
          "data": {
            "text/plain": [
              "(10000,)"
            ]
          },
          "metadata": {
            "tags": []
          },
          "execution_count": 37
        }
      ]
    },
    {
      "cell_type": "code",
      "metadata": {
        "id": "hiPMQeYXt12l"
      },
      "source": [
        "cm = confusion_matrix(y_test0, predictions0)"
      ],
      "execution_count": 38,
      "outputs": []
    },
    {
      "cell_type": "code",
      "metadata": {
        "id": "YITaGwYjvatc"
      },
      "source": [
        "class_names =  ['T-shirt/top', 'Trouser', 'Pullover', 'Dress', 'Coat', 'Sandal', 'Shirt', 'Sneaker', 'Bag', 'Ankle boot']"
      ],
      "execution_count": 39,
      "outputs": []
    },
    {
      "cell_type": "code",
      "metadata": {
        "id": "2qGHMNU3u8ut",
        "colab": {
          "base_uri": "https://localhost:8080/",
          "height": 551
        },
        "outputId": "a84b61a5-f801-4afe-a432-5bfa50f467b2"
      },
      "source": [
        "plt.figure(figsize=(9,9))\n",
        "sns.heatmap(cm, cbar=False, xticklabels=class_names, yticklabels=class_names, fmt='d', annot=True, cmap=plt.cm.coolwarm)\n",
        "plt.xlabel('Predicted')\n",
        "plt.ylabel('Actual')\n",
        "plt.show()"
      ],
      "execution_count": 40,
      "outputs": [
        {
          "output_type": "display_data",
          "data": {
            "image/png": "[encoded data removed]",
            "text/plain": [
              "<Figure size 648x648 with 1 Axes>"
            ]
          },
          "metadata": {
            "tags": [],
            "needs_background": "light"
          }
        }
      ]
    },
    {
      "cell_type": "code",
      "metadata": {
        "id": "T6ebZJ77wGGi"
      },
      "source": [
        ""
      ],
      "execution_count": null,
      "outputs": []
    }
  ]
}