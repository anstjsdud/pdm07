{
  "nbformat": 4,
  "nbformat_minor": 0,
  "metadata": {
    "colab": {
      "name": "tf2_6_mnist_CNN_best_start.ipynb",
      "provenance": [],
      "collapsed_sections": [],
      "include_colab_link": true
    },
    "kernelspec": {
      "name": "python3",
      "display_name": "Python 3"
    },
    "accelerator": "GPU"
  },
  "cells": [
    {
      "cell_type": "markdown",
      "metadata": {
        "id": "view-in-github",
        "colab_type": "text"
      },
      "source": [
        "<a href=\"https://colab.research.google.com/github/anstjsdud/pdm07/blob/master/py-tensorflow/tf2_6_mnist_CNN_best_start.ipynb\" target=\"_parent\"><img src=\"https://colab.research.google.com/assets/colab-badge.svg\" alt=\"Open In Colab\"/></a>"
      ]
    },
    {
      "cell_type": "markdown",
      "metadata": {
        "id": "rswfCVLZ-QW0"
      },
      "source": [
        "# **CNN model of mnist dataset**\n",
        "- Conv2D + FCN\n",
        "    * Conv2D : 2차원 합성곱 필터링 + 풀링(Pooling)\n",
        "    * FCN : 1차원 완전연결신경망\n",
        "\n",
        "***\n",
        "- ## Traget: **Find the best model**\n",
        "***\n",
        "\n",
        "![mnist_NN_2_layers](https://img1.daumcdn.net/thumb/R1280x0/?scode=mtistory2&fname=https%3A%2F%2Fblog.kakaocdn.net%2Fdn%2FdJp5Z6%2FbtqAPebnF3x%2FQCe5vVcskhmxe964bGz4iK%2Fimg.png)\n",
        "\n",
        "(source: https://img1.daumcdn.net/thumb/R1280x0/?scode=mtistory2&fname=https%3A%2F%2Fblog.kakaocdn.net%2Fdn%2FdJp5Z6%2FbtqAPebnF3x%2FQCe5vVcskhmxe964bGz4iK%2Fimg.png)"
      ]
    },
    {
      "cell_type": "markdown",
      "metadata": {
        "id": "1yhvkxS_HhpK"
      },
      "source": [
        "## Search the best model of C2F2\n",
        "- callback\n",
        "    - Early stopping\n",
        "    - model checkpoint"
      ]
    },
    {
      "cell_type": "code",
      "metadata": {
        "id": "8GgGzPXPVyfa",
        "colab": {
          "base_uri": "https://localhost:8080/"
        },
        "outputId": "fe7cb9b9-438c-46be-f597-aaf2d5202d19"
      },
      "source": [
        "import numpy as np\n",
        "import tensorflow as tf\n",
        "from tensorflow import keras\n",
        "import pandas as pd\n",
        "import matplotlib.pyplot as plt\n",
        "%matplotlib inline\n",
        "\n",
        "print(tf.__version__)\n",
        "tf.random.set_seed(0)"
      ],
      "execution_count": 1,
      "outputs": [
        {
          "output_type": "stream",
          "text": [
            "2.3.0\n"
          ],
          "name": "stdout"
        }
      ]
    },
    {
      "cell_type": "code",
      "metadata": {
        "id": "nMZqMpIvIlwf"
      },
      "source": [
        "# import TF2 submodules\n",
        "from tensorflow.keras import layers, models, callbacks"
      ],
      "execution_count": 2,
      "outputs": []
    },
    {
      "cell_type": "markdown",
      "metadata": {
        "id": "-0IOOUM14Jk1"
      },
      "source": [
        "## **데이터 로딩, 정규화**"
      ]
    },
    {
      "cell_type": "code",
      "metadata": {
        "id": "N1ogJ7I64Fz-",
        "colab": {
          "base_uri": "https://localhost:8080/"
        },
        "outputId": "3a49b66f-acdd-4e98-de1c-85e87ab0d51f"
      },
      "source": [
        "from keras.datasets import mnist\n",
        "\n",
        "(X_train0, y_train0), (X_test0, y_test0) = mnist.load_data()\n",
        "\n",
        "# Reshape\n",
        "X_train = X_train0.reshape(60000,28,28,1)\n",
        "X_test = X_test0.reshape(10000,28,28,1)\n",
        "\n",
        "# Normalization\n",
        "X_train, X_test = X_train/255.0, X_test/255.0 # 정규화\n",
        "\n",
        "print(\"X_train={0}\".format(X_train.shape))\n",
        "print(\"y_train={0}\".format(y_train0.shape)) \n",
        "print(\"X_test={0}\".format(X_test.shape))\n",
        "print(\"y_test={0}\".format(y_test0.shape))"
      ],
      "execution_count": 3,
      "outputs": [
        {
          "output_type": "stream",
          "text": [
            "Downloading data from https://storage.googleapis.com/tensorflow/tf-keras-datasets/mnist.npz\n",
            "11493376/11490434 [==============================] - 0s 0us/step\n",
            "X_train=(60000, 28, 28, 1)\n",
            "y_train=(60000,)\n",
            "X_test=(10000, 28, 28, 1)\n",
            "y_test=(10000,)\n"
          ],
          "name": "stdout"
        }
      ]
    },
    {
      "cell_type": "code",
      "metadata": {
        "id": "F46-QZqJHiQ6",
        "colab": {
          "base_uri": "https://localhost:8080/"
        },
        "outputId": "ea38f61c-f152-435f-91ff-6866a6d33d63"
      },
      "source": [
        "# One-Hot-Encoding\n",
        "# Use function to_categorical() to do One-Hot-Encoding\n",
        "# tf.keras.utils.to_categorical\n",
        "from keras.utils import to_categorical\n",
        "\n",
        "y_train = to_categorical(y_train0, 10)\n",
        "y_test = to_categorical(y_test0, 10)\n",
        "y_train.shape,y_test.shape"
      ],
      "execution_count": 4,
      "outputs": [
        {
          "output_type": "execute_result",
          "data": {
            "text/plain": [
              "((60000, 10), (10000, 10))"
            ]
          },
          "metadata": {
            "tags": []
          },
          "execution_count": 4
        }
      ]
    },
    {
      "cell_type": "code",
      "metadata": {
        "id": "eZ3OfP5PkEkL",
        "colab": {
          "base_uri": "https://localhost:8080/"
        },
        "outputId": "ccd2a532-9cb9-4ea5-ed25-9d24d1702ab7"
      },
      "source": [
        "# y_train0.shape vs. y_train.shape\n",
        "y_train0.shape, y_train.shape"
      ],
      "execution_count": 5,
      "outputs": [
        {
          "output_type": "execute_result",
          "data": {
            "text/plain": [
              "((60000,), (60000, 10))"
            ]
          },
          "metadata": {
            "tags": []
          },
          "execution_count": 5
        }
      ]
    },
    {
      "cell_type": "markdown",
      "metadata": {
        "id": "5z7SozStigmF"
      },
      "source": [
        "### Display numbers\n",
        "- one random number\n",
        "- 10 representative numbers"
      ]
    },
    {
      "cell_type": "code",
      "metadata": {
        "id": "IK7XT3XoirSL",
        "colab": {
          "base_uri": "https://localhost:8080/",
          "height": 286
        },
        "outputId": "29b14a3b-fad9-4b9b-9942-3a39c54acb35"
      },
      "source": [
        "# Code here!\n",
        "# display one random image from the training set:\n",
        "class_names = [\"0\",\"1\",\"2\",\"3\",\"4\",\"5\",\"6\",\"7\",\"8\",\"9\"]\n",
        "\n",
        "idx = np.random.randint(0, X_train0.shape[0])\n",
        "print(idx)\n",
        "image = X_train0[idx]\n",
        "plt.imshow(image) #, cmap=plt.get_cmap('gray'))\n",
        "plt.title(class_names[y_train0[idx]])\n",
        "plt.xticks([])\n",
        "plt.yticks([])\n",
        "plt.show()"
      ],
      "execution_count": 6,
      "outputs": [
        {
          "output_type": "stream",
          "text": [
            "39204\n"
          ],
          "name": "stdout"
        },
        {
          "output_type": "display_data",
          "data": {
            "image/png": "[encoded data removed]",
            "text/plain": [
              "<Figure size 432x288 with 1 Axes>"
            ]
          },
          "metadata": {
            "tags": []
          }
        }
      ]
    },
    {
      "cell_type": "code",
      "metadata": {
        "id": "LzhD5pcukau7",
        "colab": {
          "base_uri": "https://localhost:8080/",
          "height": 325
        },
        "outputId": "90f964e1-d154-479d-e84e-2af887cea71a"
      },
      "source": [
        "fig = plt.figure(figsize=(10,6))\n",
        "for i in range(10):\n",
        "    plt.subplot(2, 5, i+1)\n",
        "    num0_9 = X_train0[y_train0 == i]\n",
        "    # print(num0_9.shape)\n",
        "    plt.imshow(num0_9[0]) #, cmap='gray') #, interpolation='none')\n",
        "    plt.title(\"Class %d\" % (i))\n",
        "    plt.xticks([])\n",
        "    plt.yticks([])"
      ],
      "execution_count": 7,
      "outputs": [
        {
          "output_type": "display_data",
          "data": {
            "image/png": "[encoded data removed]",
            "text/plain": [
              "<Figure size 720x432 with 10 Axes>"
            ]
          },
          "metadata": {
            "tags": []
          }
        }
      ]
    },
    {
      "cell_type": "markdown",
      "metadata": {
        "id": "55DYVfFXi0WR"
      },
      "source": [
        "# Design CNN"
      ]
    },
    {
      "cell_type": "markdown",
      "metadata": {
        "id": "iPcLIcUCcsiG"
      },
      "source": [
        "### import models, layers, callbacks\n",
        "- models: Sequential\n",
        "- layers: Conv2D, MaxPool2D, Flatten\n",
        "- callbacks: ModelCheckpoint, EarlyStopping"
      ]
    },
    {
      "cell_type": "code",
      "metadata": {
        "id": "NzqMC4Xtc3ZE"
      },
      "source": [
        "from keras.models import Sequential\n",
        "from keras.layers import Conv2D, MaxPool2D, Flatten\n",
        "from keras.callbacks import ModelCheckpoint, EarlyStopping"
      ],
      "execution_count": 9,
      "outputs": []
    },
    {
      "cell_type": "markdown",
      "metadata": {
        "id": "7Z6DJJUCei-s"
      },
      "source": [
        "## **CNN2 + FCN2**"
      ]
    },
    {
      "cell_type": "code",
      "metadata": {
        "id": "pV3NFglM7P65"
      },
      "source": [
        "c2f2 = keras.models.Sequential([ \n",
        "    Conv2D(input_shape=(28,28,1),kernel_size=(3,3),strides=(1,1),filters= 32,padding='same',activation='relu'),\n",
        "    MaxPool2D(pool_size=(2,2), strides=(2,2)), \n",
        "    Conv2D(kernel_size=(3,3),strides=(1,1),filters= 64,padding='same',activation='relu'),\n",
        "    MaxPool2D(pool_size=(2,2), strides=(2,2)),\n",
        "    Flatten(), \n",
        "    keras.layers.Dense(128, activation='relu'),  \n",
        "    keras.layers.Dropout(0.25), \n",
        "    keras.layers.Dense(10, activation='softmax')\n",
        "])\n",
        "\n",
        "c2f2.compile(optimizer='adam',\n",
        "              loss='categorical_crossentropy',\n",
        "              metrics=['accuracy']) "
      ],
      "execution_count": 10,
      "outputs": []
    },
    {
      "cell_type": "code",
      "metadata": {
        "id": "OGtCiKy57YkR",
        "colab": {
          "base_uri": "https://localhost:8080/"
        },
        "outputId": "703482fd-a17f-450a-e416-c5fe965fa666"
      },
      "source": [
        "c2f2.summary()"
      ],
      "execution_count": 11,
      "outputs": [
        {
          "output_type": "stream",
          "text": [
            "Model: \"sequential\"\n",
            "_________________________________________________________________\n",
            "Layer (type)                 Output Shape              Param #   \n",
            "=================================================================\n",
            "conv2d (Conv2D)              (None, 28, 28, 32)        320       \n",
            "_________________________________________________________________\n",
            "max_pooling2d (MaxPooling2D) (None, 14, 14, 32)        0         \n",
            "_________________________________________________________________\n",
            "conv2d_1 (Conv2D)            (None, 14, 14, 64)        18496     \n",
            "_________________________________________________________________\n",
            "max_pooling2d_1 (MaxPooling2 (None, 7, 7, 64)          0         \n",
            "_________________________________________________________________\n",
            "flatten (Flatten)            (None, 3136)              0         \n",
            "_________________________________________________________________\n",
            "dense (Dense)                (None, 128)               401536    \n",
            "_________________________________________________________________\n",
            "dropout (Dropout)            (None, 128)               0         \n",
            "_________________________________________________________________\n",
            "dense_1 (Dense)              (None, 10)                1290      \n",
            "=================================================================\n",
            "Total params: 421,642\n",
            "Trainable params: 421,642\n",
            "Non-trainable params: 0\n",
            "_________________________________________________________________\n"
          ],
          "name": "stdout"
        }
      ]
    },
    {
      "cell_type": "code",
      "metadata": {
        "colab": {
          "base_uri": "https://localhost:8080/"
        },
        "id": "lv8nXTSK3YKs",
        "outputId": "4506658a-3554-4572-d1f5-28486aa08b03"
      },
      "source": [
        "# 1st Conv2D parameters\n",
        "9*32+32"
      ],
      "execution_count": 14,
      "outputs": [
        {
          "output_type": "execute_result",
          "data": {
            "text/plain": [
              "320"
            ]
          },
          "metadata": {
            "tags": []
          },
          "execution_count": 14
        }
      ]
    },
    {
      "cell_type": "code",
      "metadata": {
        "colab": {
          "base_uri": "https://localhost:8080/"
        },
        "id": "KzSpcglV3tRV",
        "outputId": "1aa5e74a-2db4-4140-f90e-b1e3fa9da6c9"
      },
      "source": [
        "# 2nd Conv2D parameters\n",
        "32*64*3*3 + 64"
      ],
      "execution_count": 15,
      "outputs": [
        {
          "output_type": "execute_result",
          "data": {
            "text/plain": [
              "18496"
            ]
          },
          "metadata": {
            "tags": []
          },
          "execution_count": 15
        }
      ]
    },
    {
      "cell_type": "code",
      "metadata": {
        "id": "zw_pQPBdJmU8"
      },
      "source": [
        "cp_callback = callbacks.ModelCheckpoint(filepath=\"./mnist_c2f2_best_weights.{epoch:03d}-{val_accuracy:.4f}.hdf5\", \n",
        "                              monitor='val_accuracy', verbose=0, save_best_only=True)\n",
        "es_callback = callbacks.EarlyStopping(monitor='val_accuracy', \n",
        "                            mode='max', verbose=1, patience=20)    # patience=10, 20, 50"
      ],
      "execution_count": 16,
      "outputs": []
    },
    {
      "cell_type": "code",
      "metadata": {
        "id": "94GWWQt-7eRS",
        "colab": {
          "base_uri": "https://localhost:8080/"
        },
        "outputId": "da99892c-ee0b-489f-b7ce-70fcf06c176a"
      },
      "source": [
        "# Train CNN model\n",
        "# Find and save the best model.\n",
        "hist = c2f2.fit(X_train, y_train, epochs = 500 , batch_size =32, \n",
        "         callbacks=[cp_callback, es_callback], \n",
        "         validation_data=(X_test,y_test))"
      ],
      "execution_count": 17,
      "outputs": [
        {
          "output_type": "stream",
          "text": [
            "Epoch 1/500\n",
            "1875/1875 [==============================] - 6s 3ms/step - loss: 0.1551 - accuracy: 0.9531 - val_loss: 0.0438 - val_accuracy: 0.9856\n",
            "Epoch 2/500\n",
            "1875/1875 [==============================] - 6s 3ms/step - loss: 0.0531 - accuracy: 0.9835 - val_loss: 0.0393 - val_accuracy: 0.9879\n",
            "Epoch 3/500\n",
            "1875/1875 [==============================] - 6s 3ms/step - loss: 0.0400 - accuracy: 0.9876 - val_loss: 0.0290 - val_accuracy: 0.9917\n",
            "Epoch 4/500\n",
            "1875/1875 [==============================] - 6s 3ms/step - loss: 0.0309 - accuracy: 0.9900 - val_loss: 0.0358 - val_accuracy: 0.9883\n",
            "Epoch 5/500\n",
            "1875/1875 [==============================] - 6s 3ms/step - loss: 0.0234 - accuracy: 0.9925 - val_loss: 0.0259 - val_accuracy: 0.9914\n",
            "Epoch 6/500\n",
            "1875/1875 [==============================] - 6s 3ms/step - loss: 0.0192 - accuracy: 0.9937 - val_loss: 0.0227 - val_accuracy: 0.9924\n",
            "Epoch 7/500\n",
            "1875/1875 [==============================] - 6s 3ms/step - loss: 0.0158 - accuracy: 0.9949 - val_loss: 0.0339 - val_accuracy: 0.9888\n",
            "Epoch 8/500\n",
            "1875/1875 [==============================] - 6s 3ms/step - loss: 0.0147 - accuracy: 0.9953 - val_loss: 0.0272 - val_accuracy: 0.9915\n",
            "Epoch 9/500\n",
            "1875/1875 [==============================] - 6s 3ms/step - loss: 0.0126 - accuracy: 0.9959 - val_loss: 0.0313 - val_accuracy: 0.9914\n",
            "Epoch 10/500\n",
            "1875/1875 [==============================] - 6s 3ms/step - loss: 0.0119 - accuracy: 0.9960 - val_loss: 0.0274 - val_accuracy: 0.9923\n",
            "Epoch 11/500\n",
            "1875/1875 [==============================] - 6s 3ms/step - loss: 0.0089 - accuracy: 0.9969 - val_loss: 0.0386 - val_accuracy: 0.9908\n",
            "Epoch 12/500\n",
            "1875/1875 [==============================] - 6s 3ms/step - loss: 0.0093 - accuracy: 0.9968 - val_loss: 0.0362 - val_accuracy: 0.9909\n",
            "Epoch 13/500\n",
            "1875/1875 [==============================] - 6s 3ms/step - loss: 0.0085 - accuracy: 0.9971 - val_loss: 0.0358 - val_accuracy: 0.9909\n",
            "Epoch 14/500\n",
            "1875/1875 [==============================] - 6s 3ms/step - loss: 0.0078 - accuracy: 0.9974 - val_loss: 0.0347 - val_accuracy: 0.9920\n",
            "Epoch 15/500\n",
            "1875/1875 [==============================] - 6s 3ms/step - loss: 0.0074 - accuracy: 0.9973 - val_loss: 0.0343 - val_accuracy: 0.9927\n",
            "Epoch 16/500\n",
            "1875/1875 [==============================] - 6s 3ms/step - loss: 0.0067 - accuracy: 0.9978 - val_loss: 0.0372 - val_accuracy: 0.9910\n",
            "Epoch 17/500\n",
            "1875/1875 [==============================] - 6s 3ms/step - loss: 0.0066 - accuracy: 0.9979 - val_loss: 0.0335 - val_accuracy: 0.9926\n",
            "Epoch 18/500\n",
            "1875/1875 [==============================] - 6s 3ms/step - loss: 0.0062 - accuracy: 0.9980 - val_loss: 0.0366 - val_accuracy: 0.9923\n",
            "Epoch 19/500\n",
            "1875/1875 [==============================] - 6s 3ms/step - loss: 0.0059 - accuracy: 0.9982 - val_loss: 0.0355 - val_accuracy: 0.9927\n",
            "Epoch 20/500\n",
            "1875/1875 [==============================] - 6s 3ms/step - loss: 0.0066 - accuracy: 0.9977 - val_loss: 0.0344 - val_accuracy: 0.9928\n",
            "Epoch 21/500\n",
            "1875/1875 [==============================] - 6s 3ms/step - loss: 0.0051 - accuracy: 0.9983 - val_loss: 0.0377 - val_accuracy: 0.9931\n",
            "Epoch 22/500\n",
            "1875/1875 [==============================] - 6s 3ms/step - loss: 0.0056 - accuracy: 0.9983 - val_loss: 0.0409 - val_accuracy: 0.9933\n",
            "Epoch 23/500\n",
            "1875/1875 [==============================] - 6s 3ms/step - loss: 0.0050 - accuracy: 0.9986 - val_loss: 0.0304 - val_accuracy: 0.9936\n",
            "Epoch 24/500\n",
            "1875/1875 [==============================] - 6s 3ms/step - loss: 0.0052 - accuracy: 0.9984 - val_loss: 0.0442 - val_accuracy: 0.9922\n",
            "Epoch 25/500\n",
            "1875/1875 [==============================] - 6s 3ms/step - loss: 0.0056 - accuracy: 0.9983 - val_loss: 0.0411 - val_accuracy: 0.9917\n",
            "Epoch 26/500\n",
            "1875/1875 [==============================] - 6s 3ms/step - loss: 0.0043 - accuracy: 0.9987 - val_loss: 0.0330 - val_accuracy: 0.9937\n",
            "Epoch 27/500\n",
            "1875/1875 [==============================] - 6s 3ms/step - loss: 0.0047 - accuracy: 0.9983 - val_loss: 0.0437 - val_accuracy: 0.9927\n",
            "Epoch 28/500\n",
            "1875/1875 [==============================] - 6s 3ms/step - loss: 0.0056 - accuracy: 0.9984 - val_loss: 0.0388 - val_accuracy: 0.9918\n",
            "Epoch 29/500\n",
            "1875/1875 [==============================] - 6s 3ms/step - loss: 0.0042 - accuracy: 0.9988 - val_loss: 0.0381 - val_accuracy: 0.9924\n",
            "Epoch 30/500\n",
            "1875/1875 [==============================] - 6s 3ms/step - loss: 0.0051 - accuracy: 0.9981 - val_loss: 0.0545 - val_accuracy: 0.9908\n",
            "Epoch 31/500\n",
            "1875/1875 [==============================] - 6s 3ms/step - loss: 0.0058 - accuracy: 0.9984 - val_loss: 0.0420 - val_accuracy: 0.9928\n",
            "Epoch 32/500\n",
            "1875/1875 [==============================] - 6s 3ms/step - loss: 0.0040 - accuracy: 0.9988 - val_loss: 0.0386 - val_accuracy: 0.9924\n",
            "Epoch 33/500\n",
            "1875/1875 [==============================] - 6s 3ms/step - loss: 0.0044 - accuracy: 0.9988 - val_loss: 0.0449 - val_accuracy: 0.9922\n",
            "Epoch 34/500\n",
            "1875/1875 [==============================] - 6s 3ms/step - loss: 0.0044 - accuracy: 0.9987 - val_loss: 0.0417 - val_accuracy: 0.9931\n",
            "Epoch 35/500\n",
            "1875/1875 [==============================] - 6s 3ms/step - loss: 0.0029 - accuracy: 0.9992 - val_loss: 0.0410 - val_accuracy: 0.9935\n",
            "Epoch 36/500\n",
            "1875/1875 [==============================] - 6s 3ms/step - loss: 0.0026 - accuracy: 0.9992 - val_loss: 0.0572 - val_accuracy: 0.9909\n",
            "Epoch 37/500\n",
            "1875/1875 [==============================] - 6s 3ms/step - loss: 0.0033 - accuracy: 0.9988 - val_loss: 0.0615 - val_accuracy: 0.9915\n",
            "Epoch 38/500\n",
            "1875/1875 [==============================] - 6s 3ms/step - loss: 0.0055 - accuracy: 0.9985 - val_loss: 0.0540 - val_accuracy: 0.9918\n",
            "Epoch 39/500\n",
            "1875/1875 [==============================] - 6s 3ms/step - loss: 0.0041 - accuracy: 0.9985 - val_loss: 0.0590 - val_accuracy: 0.9924\n",
            "Epoch 40/500\n",
            "1875/1875 [==============================] - 6s 3ms/step - loss: 0.0043 - accuracy: 0.9988 - val_loss: 0.0604 - val_accuracy: 0.9923\n",
            "Epoch 41/500\n",
            "1875/1875 [==============================] - 6s 3ms/step - loss: 0.0037 - accuracy: 0.9988 - val_loss: 0.0535 - val_accuracy: 0.9928\n",
            "Epoch 42/500\n",
            "1875/1875 [==============================] - 6s 3ms/step - loss: 0.0031 - accuracy: 0.9993 - val_loss: 0.0532 - val_accuracy: 0.9919\n",
            "Epoch 43/500\n",
            "1875/1875 [==============================] - 6s 3ms/step - loss: 0.0038 - accuracy: 0.9988 - val_loss: 0.0594 - val_accuracy: 0.9912\n",
            "Epoch 44/500\n",
            "1875/1875 [==============================] - 6s 3ms/step - loss: 0.0043 - accuracy: 0.9988 - val_loss: 0.0515 - val_accuracy: 0.9909\n",
            "Epoch 45/500\n",
            "1875/1875 [==============================] - 6s 3ms/step - loss: 0.0038 - accuracy: 0.9989 - val_loss: 0.0541 - val_accuracy: 0.9917\n",
            "Epoch 46/500\n",
            "1875/1875 [==============================] - 6s 3ms/step - loss: 0.0034 - accuracy: 0.9990 - val_loss: 0.0615 - val_accuracy: 0.9927\n",
            "Epoch 00046: early stopping\n"
          ],
          "name": "stdout"
        }
      ]
    },
    {
      "cell_type": "code",
      "metadata": {
        "id": "0-7is2U49A6Z"
      },
      "source": [
        "c2f2.evaluate(X_test, y_test, batch_size =32)"
      ],
      "execution_count": null,
      "outputs": []
    },
    {
      "cell_type": "markdown",
      "metadata": {
        "id": "3Ub3qGnjs4EI"
      },
      "source": [
        "## Graph of loss and accuracy\n",
        "- model: C2F2"
      ]
    },
    {
      "cell_type": "code",
      "metadata": {
        "id": "WNmXXLhvWUiK",
        "colab": {
          "base_uri": "https://localhost:8080/",
          "height": 313
        },
        "outputId": "a06a9161-8298-46ae-d01b-19dca2f53dd7"
      },
      "source": [
        "# Plot loass and accuracy\n",
        "# Plot training & validation accuracy values\n",
        "epochs = 46\n",
        "loss_list = [100 * i for i in hist.history['loss']]\n",
        "acc_list = [100 * i for i in hist.history['accuracy']]\n",
        "plt.plot(range(1,epochs+1),loss_list) \n",
        "plt.plot(range(1,epochs+1),acc_list) \n",
        "plt.title('Model loss & accuracy')\n",
        "plt.ylabel('Accuracy (%)')\n",
        "plt.xlabel('Epoch')\n",
        "plt.legend(['loss', 'accuracy'], loc='center left')"
      ],
      "execution_count": 18,
      "outputs": [
        {
          "output_type": "execute_result",
          "data": {
            "text/plain": [
              "<matplotlib.legend.Legend at 0x7ffaba542e10>"
            ]
          },
          "metadata": {
            "tags": []
          },
          "execution_count": 18
        },
        {
          "output_type": "display_data",
          "data": {
            "image/png": "[encoded data removed]",
            "text/plain": [
              "<Figure size 432x288 with 1 Axes>"
            ]
          },
          "metadata": {
            "tags": [],
            "needs_background": "light"
          }
        }
      ]
    },
    {
      "cell_type": "code",
      "metadata": {
        "id": "0wNssVPhu_8m"
      },
      "source": [
        "vloss_list = [100 * i for i in hist.history['val_loss']]\n",
        "vacc_list = [100 * i for i in hist.history['val_accuracy']]"
      ],
      "execution_count": 19,
      "outputs": []
    },
    {
      "cell_type": "code",
      "metadata": {
        "id": "TX5Uzro4vjaY",
        "colab": {
          "base_uri": "https://localhost:8080/",
          "height": 313
        },
        "outputId": "1473cbad-119e-4955-b828-277def01ce49"
      },
      "source": [
        "plt.plot(range(1,epochs+1),vloss_list)  \n",
        "plt.plot(range(1,epochs+1),vacc_list)  \n",
        "plt.title('Model val_loss & val_accuracy')\n",
        "plt.ylabel('Accuracy (%)')\n",
        "plt.xlabel('Epoch')\n",
        "plt.legend(['val_loss', 'val_accuracy'], loc='center left')"
      ],
      "execution_count": 20,
      "outputs": [
        {
          "output_type": "execute_result",
          "data": {
            "text/plain": [
              "<matplotlib.legend.Legend at 0x7ffaba4bde10>"
            ]
          },
          "metadata": {
            "tags": []
          },
          "execution_count": 20
        },
        {
          "output_type": "display_data",
          "data": {
            "image/png": "[encoded data removed]",
            "text/plain": [
              "<Figure size 432x288 with 1 Axes>"
            ]
          },
          "metadata": {
            "tags": [],
            "needs_background": "light"
          }
        }
      ]
    },
    {
      "cell_type": "code",
      "metadata": {
        "id": "WkK7XXY2x8J4",
        "colab": {
          "base_uri": "https://localhost:8080/"
        },
        "outputId": "12241a50-d211-4f83-e673-8c6245a56fcf"
      },
      "source": [
        "np.argmax(np.array(vacc_list))"
      ],
      "execution_count": 22,
      "outputs": [
        {
          "output_type": "execute_result",
          "data": {
            "text/plain": [
              "25"
            ]
          },
          "metadata": {
            "tags": []
          },
          "execution_count": 22
        }
      ]
    },
    {
      "cell_type": "code",
      "metadata": {
        "id": "S8LAN1AYzykJ",
        "colab": {
          "base_uri": "https://localhost:8080/"
        },
        "outputId": "94509bd3-3bf6-40c5-8e6f-9e0619ee134f"
      },
      "source": [
        "vacc_list[np.argmax(np.array(vacc_list))]"
      ],
      "execution_count": 23,
      "outputs": [
        {
          "output_type": "execute_result",
          "data": {
            "text/plain": [
              "99.37000274658203"
            ]
          },
          "metadata": {
            "tags": []
          },
          "execution_count": 23
        }
      ]
    },
    {
      "cell_type": "code",
      "metadata": {
        "id": "blALTNdyvjVK",
        "colab": {
          "base_uri": "https://localhost:8080/",
          "height": 313
        },
        "outputId": "256f17bf-f641-405f-ec23-4838260e63f5"
      },
      "source": [
        "plt.plot(range(1,epochs+1),acc_list)  \n",
        "plt.plot(range(1,epochs+1),vacc_list)  \n",
        "plt.title('accuracy vs. val_accuracy')\n",
        "plt.ylabel('Accuracy (%)')\n",
        "plt.xlabel('Epoch')\n",
        "plt.legend(['accuracy','val_accuracy'], loc='center')\n",
        "plt.plot(np.argmax(np.array(vacc_list))+1,vacc_list[np.argmax(np.array(vacc_list))], 'r*') "
      ],
      "execution_count": 24,
      "outputs": [
        {
          "output_type": "execute_result",
          "data": {
            "text/plain": [
              "[<matplotlib.lines.Line2D at 0x7ffaba40e278>]"
            ]
          },
          "metadata": {
            "tags": []
          },
          "execution_count": 24
        },
        {
          "output_type": "display_data",
          "data": {
            "image/png": "[encoded data removed]",
            "text/plain": [
              "<Figure size 432x288 with 1 Axes>"
            ]
          },
          "metadata": {
            "tags": [],
            "needs_background": "light"
          }
        }
      ]
    },
    {
      "cell_type": "markdown",
      "metadata": {
        "id": "gBPKMI4y3fsa"
      },
      "source": [
        "## 최적화된 모형 불러와서 이용\n",
        "\n",
        "- callbacks.ModelCheckpoint를 이용해서 트레이닝 중 val_accuacy가 가장 높은 모형을 가중치와 함께 hdf5 형식으로 저장\n",
        "- load 명령으로 불러 사용\n",
        "\n",
        "> mnist_c2f2_best_weights.026-0.9937.hdf5"
      ]
    },
    {
      "cell_type": "code",
      "metadata": {
        "id": "KCfbQl2v3fsa"
      },
      "source": [
        "# c2f2.save('cnn_best.hdf5')"
      ],
      "execution_count": null,
      "outputs": []
    },
    {
      "cell_type": "code",
      "metadata": {
        "id": "b7-ysIVy3fse",
        "colab": {
          "base_uri": "https://localhost:8080/"
        },
        "outputId": "b47ec854-a08d-40bd-ea8e-6de59496d70b"
      },
      "source": [
        "from keras.models import load_model\n",
        "\n",
        "model = load_model('mnist_c2f2_best_weights.026-0.9937.hdf5')\n",
        "model.evaluate(X_test, y_test, batch_size=32)"
      ],
      "execution_count": 29,
      "outputs": [
        {
          "output_type": "stream",
          "text": [
            "313/313 [==============================] - 1s 3ms/step - loss: 0.0330 - accuracy: 0.9937\n"
          ],
          "name": "stdout"
        },
        {
          "output_type": "execute_result",
          "data": {
            "text/plain": [
              "[0.033038727939128876, 0.9937000274658203]"
            ]
          },
          "metadata": {
            "tags": []
          },
          "execution_count": 29
        }
      ]
    },
    {
      "cell_type": "markdown",
      "metadata": {
        "id": "3dO5bh1ILJP_"
      },
      "source": [
        "## [DIY] C2F3의 best model을 구하시오."
      ]
    },
    {
      "cell_type": "markdown",
      "metadata": {
        "id": "SUJxRQtafihM"
      },
      "source": [
        "## **CNN2 + FCN3**"
      ]
    },
    {
      "cell_type": "code",
      "metadata": {
        "id": "Nl5CyAymAB34"
      },
      "source": [
        "c2f3 = keras.models.Sequential([ \n",
        "    Conv2D(input_shape=(28,28,1),kernel_size=(3,3),strides=(1,1),filters= 32,padding='same',activation='relu'),\n",
        "    MaxPool2D(pool_size=(2,2), strides=(2,2)), \n",
        "    Conv2D(kernel_size=(3,3),strides=(1,1),filters= 64,padding='same',activation='relu'),\n",
        "    MaxPool2D(pool_size=(2,2), strides=(2,2)),\n",
        "    Flatten(), \n",
        "    keras.layers.Dense(128, activation='relu'),  \n",
        "    keras.layers.Dropout(0.25), \n",
        "    keras.layers.Dense(64, activation='relu'),  \n",
        "    keras.layers.Dropout(0.25), \n",
        "    keras.layers.Dense(10, activation='softmax')\n",
        "])\n",
        "\n",
        "c2f3.compile(optimizer='adam',\n",
        "              loss='categorical_crossentropy',\n",
        "              metrics=['accuracy']) "
      ],
      "execution_count": 27,
      "outputs": []
    },
    {
      "cell_type": "code",
      "metadata": {
        "id": "gYxuGW_2ANL8",
        "colab": {
          "base_uri": "https://localhost:8080/"
        },
        "outputId": "4560c2e2-c251-4ed5-bdb7-9fcbfff39e65"
      },
      "source": [
        "c2f3.summary()"
      ],
      "execution_count": 28,
      "outputs": [
        {
          "output_type": "stream",
          "text": [
            "Model: \"sequential_1\"\n",
            "_________________________________________________________________\n",
            "Layer (type)                 Output Shape              Param #   \n",
            "=================================================================\n",
            "conv2d_2 (Conv2D)            (None, 28, 28, 32)        320       \n",
            "_________________________________________________________________\n",
            "max_pooling2d_2 (MaxPooling2 (None, 14, 14, 32)        0         \n",
            "_________________________________________________________________\n",
            "conv2d_3 (Conv2D)            (None, 14, 14, 64)        18496     \n",
            "_________________________________________________________________\n",
            "max_pooling2d_3 (MaxPooling2 (None, 7, 7, 64)          0         \n",
            "_________________________________________________________________\n",
            "flatten_1 (Flatten)          (None, 3136)              0         \n",
            "_________________________________________________________________\n",
            "dense_2 (Dense)              (None, 128)               401536    \n",
            "_________________________________________________________________\n",
            "dropout_1 (Dropout)          (None, 128)               0         \n",
            "_________________________________________________________________\n",
            "dense_3 (Dense)              (None, 64)                8256      \n",
            "_________________________________________________________________\n",
            "dropout_2 (Dropout)          (None, 64)                0         \n",
            "_________________________________________________________________\n",
            "dense_4 (Dense)              (None, 10)                650       \n",
            "=================================================================\n",
            "Total params: 429,258\n",
            "Trainable params: 429,258\n",
            "Non-trainable params: 0\n",
            "_________________________________________________________________\n"
          ],
          "name": "stdout"
        }
      ]
    },
    {
      "cell_type": "code",
      "metadata": {
        "id": "yco2TT_39sHq"
      },
      "source": [
        "# Your code here!!\n"
      ],
      "execution_count": null,
      "outputs": []
    },
    {
      "cell_type": "markdown",
      "metadata": {
        "id": "GkTGIOFz0TDK"
      },
      "source": [
        "***"
      ]
    },
    {
      "cell_type": "markdown",
      "metadata": {
        "id": "PHiuK2xu0WSE"
      },
      "source": [
        "## [DIY] fashion mnist model의 best model을 구하시오.\n",
        "\n",
        "- github의 \"py-tensorflow\" 폴더에 tf2_7_fmnist_CNN_best.ipynb 파일을 올리시오. \n",
        "- github의 \"py-tensorflow/st-code/model\" 폴더에 best model(hdf5 파일)을 올리시오. \n",
        "\n",
        "> fashion mnist 데이터 로딩\n",
        "```\n",
        "from keras.datasets import fashion_mnist\n",
        "(X_train0, y_train0), (X_test0, y_test0) = fashion_mnist.load_data()\n",
        "```"
      ]
    },
    {
      "cell_type": "markdown",
      "metadata": {
        "id": "9gMU_Ics-iul"
      },
      "source": [
        "### callbacks\n",
        "- cp_callback = callbacks.ModelCheckpoint(filepath=\"./mnist_c2f2_best_weights.{epoch:03d}-{val_accuracy:.4f}.hdf5\",             monitor='val_accuracy', verbose=0, save_best_only=True)\n",
        "- es_callback = callbacks.EarlyStopping(monitor='val_accuracy', mode='max', verbose=1, patience=20)    # patience=10, 20, 50"
      ]
    },
    {
      "cell_type": "code",
      "metadata": {
        "id": "0b5-jE6Z1U6-"
      },
      "source": [
        "# Your code here!\n"
      ],
      "execution_count": null,
      "outputs": []
    }
  ]
}